{
 "cells": [
  {
   "cell_type": "code",
   "execution_count": 1,
   "id": "bdc6f687",
   "metadata": {},
   "outputs": [],
   "source": [
    "#Librerias a cargar\n",
    "import pandas as pd\n",
    "import numpy as np\n",
    "import seaborn as sns\n",
    "\n",
    "import matplotlib.pyplot as plt\n",
    "import matplotlib.mlab as mlab\n",
    "import matplotlib\n",
    "plt.style.use('ggplot')\n",
    "from matplotlib.pyplot import figure\n",
    "\n",
    "import warnings\n",
    "warnings.filterwarnings('ignore')\n",
    "\n",
    "import missingno as ms\n",
    "\n",
    "from sklearn.model_selection import train_test_split\n",
    "\n",
    "%load_ext autoreload\n",
    "%autoreload 2\n",
    "import analisis_modelos as pf\n",
    "import inspect\n",
    "from IPython.display import Markdown, display\n",
    "\n",
    "import analisis_modelos as pf"
   ]
  },
  {
   "cell_type": "code",
   "execution_count": 2,
   "id": "af558cf4",
   "metadata": {},
   "outputs": [],
   "source": [
    "#Carga de los conjuntos de datos resultantes de la Parte 1\n",
    "conjunto_datos = pd.read_csv('ansiedad2020_modelo.csv',index_col= 1)\n",
    "conjunto_datos = conjunto_datos.drop('Unnamed: 0',axis=1)"
   ]
  },
  {
   "cell_type": "code",
   "execution_count": 3,
   "id": "84a2cd93",
   "metadata": {},
   "outputs": [
    {
     "data": {
      "text/html": [
       "<div>\n",
       "<style scoped>\n",
       "    .dataframe tbody tr th:only-of-type {\n",
       "        vertical-align: middle;\n",
       "    }\n",
       "\n",
       "    .dataframe tbody tr th {\n",
       "        vertical-align: top;\n",
       "    }\n",
       "\n",
       "    .dataframe thead th {\n",
       "        text-align: right;\n",
       "    }\n",
       "</style>\n",
       "<table border=\"1\" class=\"dataframe\">\n",
       "  <thead>\n",
       "    <tr style=\"text-align: right;\">\n",
       "      <th></th>\n",
       "      <th>tipo_municipio</th>\n",
       "      <th>situacion_laboral</th>\n",
       "      <th>tipo_hogar</th>\n",
       "      <th>salario_neto</th>\n",
       "      <th>comunidad_autonoma</th>\n",
       "      <th>edad</th>\n",
       "      <th>estado_civil</th>\n",
       "      <th>nivel_estudios</th>\n",
       "      <th>altura</th>\n",
       "      <th>peso</th>\n",
       "      <th>actividad_empresa</th>\n",
       "      <th>apoyosocial_interes</th>\n",
       "      <th>frecuencia_consumocarbohidratos</th>\n",
       "      <th>hemorroides</th>\n",
       "      <th>osteoporosis</th>\n",
       "      <th>cantidad_consultageneral4sem</th>\n",
       "      <th>ansiedad_12meses</th>\n",
       "      <th>ansiedad</th>\n",
       "    </tr>\n",
       "    <tr>\n",
       "      <th>IDENTHOGAR</th>\n",
       "      <th></th>\n",
       "      <th></th>\n",
       "      <th></th>\n",
       "      <th></th>\n",
       "      <th></th>\n",
       "      <th></th>\n",
       "      <th></th>\n",
       "      <th></th>\n",
       "      <th></th>\n",
       "      <th></th>\n",
       "      <th></th>\n",
       "      <th></th>\n",
       "      <th></th>\n",
       "      <th></th>\n",
       "      <th></th>\n",
       "      <th></th>\n",
       "      <th></th>\n",
       "      <th></th>\n",
       "    </tr>\n",
       "  </thead>\n",
       "  <tbody>\n",
       "    <tr>\n",
       "      <th>2500011</th>\n",
       "      <td>1.0</td>\n",
       "      <td>0.000000</td>\n",
       "      <td>0.387387</td>\n",
       "      <td>1.000000</td>\n",
       "      <td>0.918919</td>\n",
       "      <td>0.597097</td>\n",
       "      <td>0.527027</td>\n",
       "      <td>0.688188</td>\n",
       "      <td>0.772773</td>\n",
       "      <td>0.535536</td>\n",
       "      <td>0.632633</td>\n",
       "      <td>0.0</td>\n",
       "      <td>0.558058</td>\n",
       "      <td>0.524024</td>\n",
       "      <td>0.523524</td>\n",
       "      <td>0.0</td>\n",
       "      <td>1.0</td>\n",
       "      <td>2</td>\n",
       "    </tr>\n",
       "    <tr>\n",
       "      <th>2500021</th>\n",
       "      <td>1.0</td>\n",
       "      <td>0.681682</td>\n",
       "      <td>0.890891</td>\n",
       "      <td>1.000000</td>\n",
       "      <td>0.918919</td>\n",
       "      <td>0.964965</td>\n",
       "      <td>0.848849</td>\n",
       "      <td>0.591091</td>\n",
       "      <td>0.985986</td>\n",
       "      <td>0.977978</td>\n",
       "      <td>0.000000</td>\n",
       "      <td>0.0</td>\n",
       "      <td>0.558058</td>\n",
       "      <td>1.000000</td>\n",
       "      <td>0.000000</td>\n",
       "      <td>0.0</td>\n",
       "      <td>1.0</td>\n",
       "      <td>2</td>\n",
       "    </tr>\n",
       "    <tr>\n",
       "      <th>2500031</th>\n",
       "      <td>1.0</td>\n",
       "      <td>0.000000</td>\n",
       "      <td>0.000000</td>\n",
       "      <td>0.400901</td>\n",
       "      <td>0.918919</td>\n",
       "      <td>0.201702</td>\n",
       "      <td>0.527027</td>\n",
       "      <td>0.688188</td>\n",
       "      <td>0.740741</td>\n",
       "      <td>0.691191</td>\n",
       "      <td>0.675676</td>\n",
       "      <td>0.0</td>\n",
       "      <td>0.558058</td>\n",
       "      <td>0.000000</td>\n",
       "      <td>0.523524</td>\n",
       "      <td>0.0</td>\n",
       "      <td>1.0</td>\n",
       "      <td>2</td>\n",
       "    </tr>\n",
       "    <tr>\n",
       "      <th>2500061</th>\n",
       "      <td>1.0</td>\n",
       "      <td>0.000000</td>\n",
       "      <td>0.624124</td>\n",
       "      <td>1.000000</td>\n",
       "      <td>0.918919</td>\n",
       "      <td>0.289790</td>\n",
       "      <td>0.527027</td>\n",
       "      <td>1.000000</td>\n",
       "      <td>0.363864</td>\n",
       "      <td>0.145145</td>\n",
       "      <td>0.708709</td>\n",
       "      <td>0.0</td>\n",
       "      <td>0.000000</td>\n",
       "      <td>0.524024</td>\n",
       "      <td>0.523524</td>\n",
       "      <td>0.0</td>\n",
       "      <td>1.0</td>\n",
       "      <td>2</td>\n",
       "    </tr>\n",
       "    <tr>\n",
       "      <th>2500071</th>\n",
       "      <td>1.0</td>\n",
       "      <td>0.000000</td>\n",
       "      <td>0.624124</td>\n",
       "      <td>1.000000</td>\n",
       "      <td>0.918919</td>\n",
       "      <td>0.251251</td>\n",
       "      <td>0.527027</td>\n",
       "      <td>0.193193</td>\n",
       "      <td>0.564064</td>\n",
       "      <td>0.535536</td>\n",
       "      <td>0.620120</td>\n",
       "      <td>0.0</td>\n",
       "      <td>0.000000</td>\n",
       "      <td>0.524024</td>\n",
       "      <td>0.523524</td>\n",
       "      <td>0.0</td>\n",
       "      <td>1.0</td>\n",
       "      <td>2</td>\n",
       "    </tr>\n",
       "  </tbody>\n",
       "</table>\n",
       "</div>"
      ],
      "text/plain": [
       "            tipo_municipio  situacion_laboral  tipo_hogar  salario_neto  \\\n",
       "IDENTHOGAR                                                                \n",
       "2500011                1.0           0.000000    0.387387      1.000000   \n",
       "2500021                1.0           0.681682    0.890891      1.000000   \n",
       "2500031                1.0           0.000000    0.000000      0.400901   \n",
       "2500061                1.0           0.000000    0.624124      1.000000   \n",
       "2500071                1.0           0.000000    0.624124      1.000000   \n",
       "\n",
       "            comunidad_autonoma      edad  estado_civil  nivel_estudios  \\\n",
       "IDENTHOGAR                                                               \n",
       "2500011               0.918919  0.597097      0.527027        0.688188   \n",
       "2500021               0.918919  0.964965      0.848849        0.591091   \n",
       "2500031               0.918919  0.201702      0.527027        0.688188   \n",
       "2500061               0.918919  0.289790      0.527027        1.000000   \n",
       "2500071               0.918919  0.251251      0.527027        0.193193   \n",
       "\n",
       "              altura      peso  actividad_empresa  apoyosocial_interes  \\\n",
       "IDENTHOGAR                                                               \n",
       "2500011     0.772773  0.535536           0.632633                  0.0   \n",
       "2500021     0.985986  0.977978           0.000000                  0.0   \n",
       "2500031     0.740741  0.691191           0.675676                  0.0   \n",
       "2500061     0.363864  0.145145           0.708709                  0.0   \n",
       "2500071     0.564064  0.535536           0.620120                  0.0   \n",
       "\n",
       "            frecuencia_consumocarbohidratos  hemorroides  osteoporosis  \\\n",
       "IDENTHOGAR                                                               \n",
       "2500011                            0.558058     0.524024      0.523524   \n",
       "2500021                            0.558058     1.000000      0.000000   \n",
       "2500031                            0.558058     0.000000      0.523524   \n",
       "2500061                            0.000000     0.524024      0.523524   \n",
       "2500071                            0.000000     0.524024      0.523524   \n",
       "\n",
       "            cantidad_consultageneral4sem  ansiedad_12meses  ansiedad  \n",
       "IDENTHOGAR                                                            \n",
       "2500011                              0.0               1.0         2  \n",
       "2500021                              0.0               1.0         2  \n",
       "2500031                              0.0               1.0         2  \n",
       "2500061                              0.0               1.0         2  \n",
       "2500071                              0.0               1.0         2  "
      ]
     },
     "execution_count": 3,
     "metadata": {},
     "output_type": "execute_result"
    }
   ],
   "source": [
    "conjunto_datos.head()"
   ]
  },
  {
   "cell_type": "code",
   "execution_count": 4,
   "id": "af5c4f29",
   "metadata": {},
   "outputs": [],
   "source": [
    "#Cambiamos etiquetas a 0 y 1 (clasificación binaria)\n",
    "conjunto_datos['ansiedad'] = np.where((conjunto_datos['ansiedad'] == 2),0,1)"
   ]
  },
  {
   "cell_type": "code",
   "execution_count": 5,
   "id": "75770682",
   "metadata": {},
   "outputs": [
    {
     "data": {
      "text/html": [
       "<div>\n",
       "<style scoped>\n",
       "    .dataframe tbody tr th:only-of-type {\n",
       "        vertical-align: middle;\n",
       "    }\n",
       "\n",
       "    .dataframe tbody tr th {\n",
       "        vertical-align: top;\n",
       "    }\n",
       "\n",
       "    .dataframe thead th {\n",
       "        text-align: right;\n",
       "    }\n",
       "</style>\n",
       "<table border=\"1\" class=\"dataframe\">\n",
       "  <thead>\n",
       "    <tr style=\"text-align: right;\">\n",
       "      <th></th>\n",
       "      <th>tipo_municipio</th>\n",
       "      <th>situacion_laboral</th>\n",
       "      <th>tipo_hogar</th>\n",
       "      <th>salario_neto</th>\n",
       "      <th>comunidad_autonoma</th>\n",
       "      <th>edad</th>\n",
       "      <th>estado_civil</th>\n",
       "      <th>nivel_estudios</th>\n",
       "      <th>altura</th>\n",
       "      <th>peso</th>\n",
       "      <th>actividad_empresa</th>\n",
       "      <th>apoyosocial_interes</th>\n",
       "      <th>frecuencia_consumocarbohidratos</th>\n",
       "      <th>hemorroides</th>\n",
       "      <th>osteoporosis</th>\n",
       "      <th>cantidad_consultageneral4sem</th>\n",
       "      <th>ansiedad_12meses</th>\n",
       "      <th>ansiedad</th>\n",
       "    </tr>\n",
       "    <tr>\n",
       "      <th>IDENTHOGAR</th>\n",
       "      <th></th>\n",
       "      <th></th>\n",
       "      <th></th>\n",
       "      <th></th>\n",
       "      <th></th>\n",
       "      <th></th>\n",
       "      <th></th>\n",
       "      <th></th>\n",
       "      <th></th>\n",
       "      <th></th>\n",
       "      <th></th>\n",
       "      <th></th>\n",
       "      <th></th>\n",
       "      <th></th>\n",
       "      <th></th>\n",
       "      <th></th>\n",
       "      <th></th>\n",
       "      <th></th>\n",
       "    </tr>\n",
       "  </thead>\n",
       "  <tbody>\n",
       "    <tr>\n",
       "      <th>2500011</th>\n",
       "      <td>1.0</td>\n",
       "      <td>0.000000</td>\n",
       "      <td>0.387387</td>\n",
       "      <td>1.000000</td>\n",
       "      <td>0.918919</td>\n",
       "      <td>0.597097</td>\n",
       "      <td>0.527027</td>\n",
       "      <td>0.688188</td>\n",
       "      <td>0.772773</td>\n",
       "      <td>0.535536</td>\n",
       "      <td>0.632633</td>\n",
       "      <td>0.0</td>\n",
       "      <td>0.558058</td>\n",
       "      <td>0.524024</td>\n",
       "      <td>0.523524</td>\n",
       "      <td>0.0</td>\n",
       "      <td>1.0</td>\n",
       "      <td>0</td>\n",
       "    </tr>\n",
       "    <tr>\n",
       "      <th>2500021</th>\n",
       "      <td>1.0</td>\n",
       "      <td>0.681682</td>\n",
       "      <td>0.890891</td>\n",
       "      <td>1.000000</td>\n",
       "      <td>0.918919</td>\n",
       "      <td>0.964965</td>\n",
       "      <td>0.848849</td>\n",
       "      <td>0.591091</td>\n",
       "      <td>0.985986</td>\n",
       "      <td>0.977978</td>\n",
       "      <td>0.000000</td>\n",
       "      <td>0.0</td>\n",
       "      <td>0.558058</td>\n",
       "      <td>1.000000</td>\n",
       "      <td>0.000000</td>\n",
       "      <td>0.0</td>\n",
       "      <td>1.0</td>\n",
       "      <td>0</td>\n",
       "    </tr>\n",
       "    <tr>\n",
       "      <th>2500031</th>\n",
       "      <td>1.0</td>\n",
       "      <td>0.000000</td>\n",
       "      <td>0.000000</td>\n",
       "      <td>0.400901</td>\n",
       "      <td>0.918919</td>\n",
       "      <td>0.201702</td>\n",
       "      <td>0.527027</td>\n",
       "      <td>0.688188</td>\n",
       "      <td>0.740741</td>\n",
       "      <td>0.691191</td>\n",
       "      <td>0.675676</td>\n",
       "      <td>0.0</td>\n",
       "      <td>0.558058</td>\n",
       "      <td>0.000000</td>\n",
       "      <td>0.523524</td>\n",
       "      <td>0.0</td>\n",
       "      <td>1.0</td>\n",
       "      <td>0</td>\n",
       "    </tr>\n",
       "    <tr>\n",
       "      <th>2500061</th>\n",
       "      <td>1.0</td>\n",
       "      <td>0.000000</td>\n",
       "      <td>0.624124</td>\n",
       "      <td>1.000000</td>\n",
       "      <td>0.918919</td>\n",
       "      <td>0.289790</td>\n",
       "      <td>0.527027</td>\n",
       "      <td>1.000000</td>\n",
       "      <td>0.363864</td>\n",
       "      <td>0.145145</td>\n",
       "      <td>0.708709</td>\n",
       "      <td>0.0</td>\n",
       "      <td>0.000000</td>\n",
       "      <td>0.524024</td>\n",
       "      <td>0.523524</td>\n",
       "      <td>0.0</td>\n",
       "      <td>1.0</td>\n",
       "      <td>0</td>\n",
       "    </tr>\n",
       "    <tr>\n",
       "      <th>2500071</th>\n",
       "      <td>1.0</td>\n",
       "      <td>0.000000</td>\n",
       "      <td>0.624124</td>\n",
       "      <td>1.000000</td>\n",
       "      <td>0.918919</td>\n",
       "      <td>0.251251</td>\n",
       "      <td>0.527027</td>\n",
       "      <td>0.193193</td>\n",
       "      <td>0.564064</td>\n",
       "      <td>0.535536</td>\n",
       "      <td>0.620120</td>\n",
       "      <td>0.0</td>\n",
       "      <td>0.000000</td>\n",
       "      <td>0.524024</td>\n",
       "      <td>0.523524</td>\n",
       "      <td>0.0</td>\n",
       "      <td>1.0</td>\n",
       "      <td>0</td>\n",
       "    </tr>\n",
       "  </tbody>\n",
       "</table>\n",
       "</div>"
      ],
      "text/plain": [
       "            tipo_municipio  situacion_laboral  tipo_hogar  salario_neto  \\\n",
       "IDENTHOGAR                                                                \n",
       "2500011                1.0           0.000000    0.387387      1.000000   \n",
       "2500021                1.0           0.681682    0.890891      1.000000   \n",
       "2500031                1.0           0.000000    0.000000      0.400901   \n",
       "2500061                1.0           0.000000    0.624124      1.000000   \n",
       "2500071                1.0           0.000000    0.624124      1.000000   \n",
       "\n",
       "            comunidad_autonoma      edad  estado_civil  nivel_estudios  \\\n",
       "IDENTHOGAR                                                               \n",
       "2500011               0.918919  0.597097      0.527027        0.688188   \n",
       "2500021               0.918919  0.964965      0.848849        0.591091   \n",
       "2500031               0.918919  0.201702      0.527027        0.688188   \n",
       "2500061               0.918919  0.289790      0.527027        1.000000   \n",
       "2500071               0.918919  0.251251      0.527027        0.193193   \n",
       "\n",
       "              altura      peso  actividad_empresa  apoyosocial_interes  \\\n",
       "IDENTHOGAR                                                               \n",
       "2500011     0.772773  0.535536           0.632633                  0.0   \n",
       "2500021     0.985986  0.977978           0.000000                  0.0   \n",
       "2500031     0.740741  0.691191           0.675676                  0.0   \n",
       "2500061     0.363864  0.145145           0.708709                  0.0   \n",
       "2500071     0.564064  0.535536           0.620120                  0.0   \n",
       "\n",
       "            frecuencia_consumocarbohidratos  hemorroides  osteoporosis  \\\n",
       "IDENTHOGAR                                                               \n",
       "2500011                            0.558058     0.524024      0.523524   \n",
       "2500021                            0.558058     1.000000      0.000000   \n",
       "2500031                            0.558058     0.000000      0.523524   \n",
       "2500061                            0.000000     0.524024      0.523524   \n",
       "2500071                            0.000000     0.524024      0.523524   \n",
       "\n",
       "            cantidad_consultageneral4sem  ansiedad_12meses  ansiedad  \n",
       "IDENTHOGAR                                                            \n",
       "2500011                              0.0               1.0         0  \n",
       "2500021                              0.0               1.0         0  \n",
       "2500031                              0.0               1.0         0  \n",
       "2500061                              0.0               1.0         0  \n",
       "2500071                              0.0               1.0         0  "
      ]
     },
     "execution_count": 5,
     "metadata": {},
     "output_type": "execute_result"
    }
   ],
   "source": [
    "conjunto_datos.head()"
   ]
  },
  {
   "cell_type": "code",
   "execution_count": 6,
   "id": "4dbb9c74",
   "metadata": {},
   "outputs": [],
   "source": [
    "#Creamos los modelos de entrenamiento y test\n",
    "X = conjunto_datos.drop('ansiedad', axis=1)\n",
    "y = conjunto_datos.ansiedad"
   ]
  },
  {
   "cell_type": "code",
   "execution_count": 7,
   "id": "46df18e0",
   "metadata": {},
   "outputs": [
    {
     "name": "stdout",
     "output_type": "stream",
     "text": [
      "0    20279\n",
      "1     1793\n",
      "Name: ansiedad, dtype: int64\n"
     ]
    }
   ],
   "source": [
    "#Ojo con el desbalanceo de la variable objetivo\n",
    "print(y.value_counts())"
   ]
  },
  {
   "cell_type": "code",
   "execution_count": 8,
   "id": "1dfa5214",
   "metadata": {},
   "outputs": [],
   "source": [
    "X_train, X_test, y_train, y_test = train_test_split(X, y,\n",
    "                                                    test_size=.20, \n",
    "                                                    random_state=123, \n",
    "                                                    stratify= y)"
   ]
  },
  {
   "cell_type": "code",
   "execution_count": 9,
   "id": "0d4b0a78",
   "metadata": {},
   "outputs": [
    {
     "name": "stdout",
     "output_type": "stream",
     "text": [
      "(17657, 17)\n",
      "(4415, 17)\n",
      "(17657,)\n",
      "(4415,)\n"
     ]
    }
   ],
   "source": [
    "print(X_train.shape)\n",
    "print(X_test.shape)\n",
    "print(y_train.shape)\n",
    "print(y_test.shape)"
   ]
  },
  {
   "cell_type": "code",
   "execution_count": 10,
   "id": "141fa2ca",
   "metadata": {},
   "outputs": [],
   "source": [
    "target_count = y.value_counts()"
   ]
  },
  {
   "cell_type": "code",
   "execution_count": 11,
   "id": "ff0de172",
   "metadata": {},
   "outputs": [
    {
     "name": "stdout",
     "output_type": "stream",
     "text": [
      "Clase 0: target_count[0]\n",
      "Clase 1: target_count[1]\n",
      "Proportion: 11.31 : 1\n"
     ]
    },
    {
     "data": {
      "image/png": "[encoded data removed]",
      "text/plain": [
       "<Figure size 432x288 with 1 Axes>"
      ]
     },
     "metadata": {},
     "output_type": "display_data"
    }
   ],
   "source": [
    "print('Clase 0:', 'target_count[0]')\n",
    "print('Clase 1:', 'target_count[1]')\n",
    "print('Proportion:', round(target_count[0] / target_count[1], 2), ': 1')\n",
    "\n",
    "target_count.plot(kind='bar', title='Cantidad (clase)');"
   ]
  },
  {
   "cell_type": "markdown",
   "id": "46bba2ad",
   "metadata": {},
   "source": [
    "# PRUEBA 1"
   ]
  },
  {
   "cell_type": "code",
   "execution_count": 12,
   "id": "24c5a6b1",
   "metadata": {},
   "outputs": [
    {
     "name": "stdout",
     "output_type": "stream",
     "text": [
      "Precisión: 100.00%\n"
     ]
    }
   ],
   "source": [
    "from xgboost import XGBClassifier\n",
    "from sklearn.model_selection import train_test_split\n",
    "from sklearn.metrics import accuracy_score\n",
    "from sklearn.tree import DecisionTreeClassifier\n",
    "\n",
    "model = DecisionTreeClassifier(min_samples_split=20, random_state=99)\n",
    "model.fit(X_train, y_train)\n",
    "y_pred = model.predict(X_test)\n",
    "\n",
    "accuracy = accuracy_score(y_test, y_pred)\n",
    "print(\"Precisión: %.2f%%\" % (accuracy * 100.0))"
   ]
  },
  {
   "cell_type": "code",
   "execution_count": 13,
   "id": "24fb495d",
   "metadata": {},
   "outputs": [
    {
     "name": "stdout",
     "output_type": "stream",
     "text": [
      "Confusion matrix:\n",
      " [[4056    0]\n",
      " [   0  359]]\n"
     ]
    },
    {
     "data": {
      "image/png": "[encoded data removed]",
      "text/plain": [
       "<Figure size 432x288 with 2 Axes>"
      ]
     },
     "metadata": {},
     "output_type": "display_data"
    }
   ],
   "source": [
    "from sklearn.metrics import confusion_matrix\n",
    "from matplotlib import pyplot as plt\n",
    "\n",
    "conf_mat = confusion_matrix(y_true=y_test, y_pred=y_pred)\n",
    "print('Confusion matrix:\\n', conf_mat)\n",
    "\n",
    "labels = ['Class 0', 'Class 1']\n",
    "fig = plt.figure()\n",
    "ax = fig.add_subplot(111)\n",
    "cax = ax.matshow(conf_mat, cmap=plt.cm.Blues)\n",
    "fig.colorbar(cax)\n",
    "ax.set_xticklabels([''] + labels)\n",
    "ax.set_yticklabels([''] + labels)\n",
    "plt.xlabel('Predecido')\n",
    "plt.ylabel('Esperado')\n",
    "plt.show()"
   ]
  },
  {
   "cell_type": "markdown",
   "id": "81457224",
   "metadata": {},
   "source": [
    "# PRUEBA 2"
   ]
  },
  {
   "cell_type": "markdown",
   "id": "6440b73c",
   "metadata": {},
   "source": [
    "(KMeans + regresion Logistica)"
   ]
  },
  {
   "cell_type": "code",
   "execution_count": 14,
   "id": "e553e3d1",
   "metadata": {},
   "outputs": [],
   "source": [
    "from sklearn.cluster import KMeans\n",
    "from sklearn import metrics"
   ]
  },
  {
   "cell_type": "code",
   "execution_count": 15,
   "id": "14035e4f",
   "metadata": {},
   "outputs": [],
   "source": [
    "k_range = range(2,16)\n",
    "\n",
    "cal_har_score= []\n",
    "inertia = []\n",
    "sil_score = []\n",
    "\n",
    "for k in k_range:\n",
    "    model = KMeans(n_clusters=k, random_state=123)\n",
    "    model.fit(X_train)\n",
    "\n",
    "    preds = pd.Series(model.predict(X_train))\n",
    "    cal_har_score.append(metrics.calinski_harabasz_score(X_train,preds))\n",
    "    sil_score.append(metrics.silhouette_score(X_train, preds, \n",
    "                                              random_state=123))"
   ]
  },
  {
   "cell_type": "code",
   "execution_count": 16,
   "id": "19b5fa07",
   "metadata": {},
   "outputs": [
    {
     "data": {
      "image/png": "[encoded data removed]",
      "text/plain": [
       "<Figure size 576x576 with 2 Axes>"
      ]
     },
     "metadata": {},
     "output_type": "display_data"
    }
   ],
   "source": [
    "fig,(ax1,ax2) = plt.subplots(figsize=(8,8),nrows=2)\n",
    "\n",
    "ax1.plot(k_range, cal_har_score, '-o', color='green')\n",
    "ax1.set_xlabel('Número de Clusters')\n",
    "ax1.set_ylabel('Indice Calinski Harabasz')\n",
    "ax1.set_xticks(k_range)\n",
    "ax1.set_title('Método del Codo ')\n",
    "\n",
    "ax2.plot(k_range, sil_score, '-o', color='blue')\n",
    "ax2.set_xlabel('Número de Clusters')\n",
    "ax2.set_ylabel('Indice Silhouette')\n",
    "ax2.set_title('Método de Silhouette')\n",
    "ax2.set_xticks(k_range)\n",
    "fig.tight_layout()"
   ]
  },
  {
   "cell_type": "code",
   "execution_count": 17,
   "id": "d879ea38",
   "metadata": {},
   "outputs": [],
   "source": [
    "k_clusters = 5\n",
    "k_model = KMeans(k_clusters, random_state=123)\n",
    "k_model.fit(X_train)\n",
    "\n",
    "kmeans_train_preds = k_model.predict(X_train)\n",
    "kmeans_train = pd.Series(kmeans_train_preds, index=X_train.index, \n",
    "                         name='Cluster')\n",
    "\n",
    "kmeans_test_preds = k_model.predict(X_test)\n",
    "kmeans_test = pd.Series(kmeans_test_preds, index=X_test.index, \n",
    "                        name='Cluster')"
   ]
  },
  {
   "cell_type": "code",
   "execution_count": 18,
   "id": "3069ad09",
   "metadata": {},
   "outputs": [],
   "source": [
    "X_train_final = pd.concat([X_train, kmeans_train], axis=1)\n",
    "X_test_final = pd.concat([X_test, kmeans_test], axis=1)"
   ]
  },
  {
   "cell_type": "code",
   "execution_count": 19,
   "id": "dd8880c3",
   "metadata": {},
   "outputs": [],
   "source": [
    "func = inspect.getsource(pf.make_classification_report)"
   ]
  },
  {
   "cell_type": "code",
   "execution_count": 20,
   "id": "512e1d18",
   "metadata": {},
   "outputs": [],
   "source": [
    "func = inspect.getsource(pf.plot_confusion_matrix)"
   ]
  },
  {
   "cell_type": "code",
   "execution_count": 21,
   "id": "480af42f",
   "metadata": {},
   "outputs": [],
   "source": [
    "func = inspect.getsource(pf.plot_roc_curve)"
   ]
  },
  {
   "cell_type": "code",
   "execution_count": 22,
   "id": "a4ea1295",
   "metadata": {},
   "outputs": [],
   "source": [
    "func = inspect.getsource(pf.plot_top_features)"
   ]
  },
  {
   "cell_type": "code",
   "execution_count": 23,
   "id": "11b6b7a8",
   "metadata": {},
   "outputs": [],
   "source": [
    "func = inspect.getsource(pf.evaluate_model)"
   ]
  },
  {
   "cell_type": "code",
   "execution_count": 24,
   "id": "57cc8a61",
   "metadata": {},
   "outputs": [],
   "source": [
    "from sklearn.metrics import fbeta_score, make_scorer\n",
    "f2_scorer = make_scorer(fbeta_score, beta=2)"
   ]
  },
  {
   "cell_type": "code",
   "execution_count": 25,
   "id": "5c8dd198",
   "metadata": {},
   "outputs": [],
   "source": [
    "from sklearn.linear_model import LogisticRegressionCV"
   ]
  },
  {
   "cell_type": "code",
   "execution_count": 26,
   "id": "5bca2409",
   "metadata": {},
   "outputs": [],
   "source": [
    "logreg_clf = LogisticRegressionCV(class_weight='balanced', \n",
    "                                  random_state=123, \n",
    "                                  scoring=f2_scorer, \n",
    "                                  n_jobs=-1, cv=10)\n",
    "\n",
    "\n",
    "logreg_base = logreg_clf.fit(X_train_final, y_train)"
   ]
  },
  {
   "cell_type": "code",
   "execution_count": 27,
   "id": "49a70663",
   "metadata": {},
   "outputs": [
    {
     "name": "stdout",
     "output_type": "stream",
     "text": [
      "__________________________________________________________________\n",
      "Reporte para el Clasificador: \n",
      "\tRegresión Logística\n",
      "__________________________________________________________________\n",
      "\n",
      "\n",
      "              precision    recall  f1-score   support\n",
      "\n",
      "           0       1.00      1.00      1.00      4056\n",
      "           1       1.00      1.00      1.00       359\n",
      "\n",
      "    accuracy                           1.00      4415\n",
      "   macro avg       1.00      1.00      1.00      4415\n",
      "weighted avg       1.00      1.00      1.00      4415\n",
      "\n",
      "__________________________________________________________________\n"
     ]
    },
    {
     "data": {
      "image/png": "[encoded data removed]",
      "text/plain": [
       "<Figure size 432x288 with 2 Axes>"
      ]
     },
     "metadata": {},
     "output_type": "display_data"
    },
    {
     "name": "stdout",
     "output_type": "stream",
     "text": [
      "__________________________________________________________________\n"
     ]
    },
    {
     "data": {
      "image/png": "[encoded data removed]",
      "text/plain": [
       "<Figure size 576x432 with 1 Axes>"
      ]
     },
     "metadata": {},
     "output_type": "display_data"
    }
   ],
   "source": [
    "pf.evaluate_model(logreg_base, X_train_final, X_test_final, y_test, \n",
    "               title='Regresión Logística')"
   ]
  },
  {
   "cell_type": "code",
   "execution_count": null,
   "id": "135c816b",
   "metadata": {},
   "outputs": [],
   "source": []
  }
 ],
 "metadata": {
  "kernelspec": {
   "display_name": "Python 3 (ipykernel)",
   "language": "python",
   "name": "python3"
  },
  "language_info": {
   "codemirror_mode": {
    "name": "ipython",
    "version": 3
   },
   "file_extension": ".py",
   "mimetype": "text/x-python",
   "name": "python",
   "nbconvert_exporter": "python",
   "pygments_lexer": "ipython3",
   "version": "3.8.13"
  }
 },
 "nbformat": 4,
 "nbformat_minor": 5
}
