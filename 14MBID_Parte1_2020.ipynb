{
 "cells": [
  {
   "cell_type": "markdown",
   "id": "b24f19fb",
   "metadata": {},
   "source": [
    "# <center> 14MBID .- Trabajo de Fin de Master <center>\n",
    "## <center> Desarrollo de un modelo predictivo en base a sintomatología de salud mental que derivan en ansiedad y depresión <center>\n",
    "###   <center> (Primera Parte .- Analisis de Variables del año 2020) <center>\n",
    "### <center> Autor: Ricardo Marrero Carrión <center>"
   ]
  },
  {
   "cell_type": "markdown",
   "id": "5c34f1d7",
   "metadata": {},
   "source": [
    "### Indice\n",
    "<ol>\n",
    "<li>Librerias a Utilizar y Comprobaciones Iniciales</li>\n",
    "<li>Funciones del modelo</li>\n",
    "<li>Introducción</li>\n",
    "<li>Carga de los Datasets</li>\n",
    "<li>Limpieza y Preprocesamiento de los Datos I</li>\n",
    "<li>Limpieza y Preprocesamiento de los Datos II</li>\n",
    "<li>Limpieza y Preprocesamiento de los Datos III</li> \n",
    "<li>Reducción de los datos</li>\n",
    "<li>Conjunto de Datos para el Análisis Exploratorio</li>\n",
    "</ol>"
   ]
  },
  {
   "cell_type": "markdown",
   "id": "0c3b8749",
   "metadata": {},
   "source": [
    "### 1.- Librerías a Utilizar y comprobaciones iniciales"
   ]
  },
  {
   "cell_type": "code",
   "execution_count": 1,
   "id": "43e53754",
   "metadata": {},
   "outputs": [],
   "source": [
    "import pandas as pd\n",
    "import numpy as np\n",
    "import seaborn as sns\n",
    "\n",
    "import matplotlib.pyplot as plt\n",
    "import matplotlib.mlab as mlab\n",
    "import matplotlib\n",
    "plt.style.use('ggplot')\n",
    "from matplotlib.pyplot import figure\n",
    "\n",
    "%matplotlib inline\n",
    "matplotlib.rcParams['figure.figsize'] = (12,8)\n",
    "\n",
    "import warnings\n",
    "warnings.filterwarnings('ignore')\n",
    "\n",
    "import missingno as ms\n",
    "\n",
    "import utilidades as ut\n",
    "\n",
    "from sklearn.model_selection import train_test_split\n",
    "from sklearn.preprocessing import QuantileTransformer\n",
    "\n",
    "from feature_selector import FeatureSelector"
   ]
  },
  {
   "cell_type": "markdown",
   "id": "02dd6855",
   "metadata": {},
   "source": [
    "### 2.- Funciones del Modelo"
   ]
  },
  {
   "cell_type": "markdown",
   "id": "7ef13b85",
   "metadata": {},
   "source": [
    "Las funciones utilizadas en el modelo, son importadas de un fichero .py llamado utilidades.py"
   ]
  },
  {
   "cell_type": "markdown",
   "id": "c6336ec0",
   "metadata": {},
   "source": [
    "### 3.- Introducción"
   ]
  },
  {
   "cell_type": "markdown",
   "id": "ef69b31e",
   "metadata": {},
   "source": [
    "_(Comprensión del Dominio)_"
   ]
  },
  {
   "cell_type": "markdown",
   "id": "6e44a1c4",
   "metadata": {},
   "source": [
    "<b>Objetivo:</b> El objetivo del presente proyecto es identificar patrones dentro de un grupo de indicadores o atributos, y su posible relación con la Ansiedad y la Depresión.\n",
    "\n",
    "<b>Datos:</b> El Conjunto de Datos utilizado en este proyecto se ha recogido en el Instituto Nacional de Estadística (INE), y específicamente en el resultado de la \"Encuesta Europea de Salud 2020\" [EESE-2020](https://www.ine.es/dyngs/INEbase/operacion.htm?c=Estadistica_C&cid=1254736176784&menu=resultados&idp=1254735573175#!tabs-1254736195298)\n",
    "\n",
    "Esta encuesta genera dos conjuntos de datos según la fase de la entrevista:\n",
    "* _Cuestionario del Hogar_: contiene datos generales de la entrevista y permite seleccionar al individuo para desarrolar la encuesta.\n",
    "* _Cuestionario del Individio_: contiene los datos específicos de la entrevista, y se cumplimentan todos los indicadores sociodemográficos y de salud objeto de la entrevista.\n",
    "\n",
    "<b>Enfoque:</b> Para ambos cuestionarios se genera un fichero con el diseño de registro de los microdatos; es decir, nos permite identificar a cada variable, su posición y longitud en el conjunto de datos, así como los posible valores que puede tomar cada atributo.\n",
    "\n",
    "Estos ficheros son: dr_EESEhogar_2020 y dr_EESEadulto_2020\n",
    "\n",
    "<b>Metodología:</b> La forma en que el conjunto de datos será procesado, seguirá lo indicado en la fases del _Proceso KDD_; donde:\n",
    "* En una primera iteración sea realizará un estudio de cada grupo de datos, para identificar su comportamiento, y así poder realizar una limpieza y homogeneización de los mismos.\n",
    "* Posteriormente se realizará un proceso de transformación donde se escojan los indicadores significativos para eñ desarrollo del modelo\n",
    "* Por último se realizará un análisis exploratorio y de minería de datos, para identificar correlaciones y escoger el/los modelos que mejor se adapten al objetivo planteado"
   ]
  },
  {
   "cell_type": "markdown",
   "id": "3d057a95",
   "metadata": {},
   "source": [
    "### 4.- Carga de los Datasets"
   ]
  },
  {
   "cell_type": "markdown",
   "id": "9c447cde",
   "metadata": {},
   "source": [
    "_(Creación del Conjunto de Datos)_"
   ]
  },
  {
   "cell_type": "code",
   "execution_count": 2,
   "id": "2eace966",
   "metadata": {},
   "outputs": [],
   "source": [
    "#Insertar comentario del dataset\n",
    "adulto2020 = pd.read_csv('datos_adulto_2020.csv', sep='\\s+')"
   ]
  },
  {
   "cell_type": "code",
   "execution_count": 3,
   "id": "9ef5adb5",
   "metadata": {},
   "outputs": [],
   "source": [
    "#Insertar comentario del dataset\n",
    "hogar2020 = pd.read_csv('datos_hogar_2020.csv', sep='\\s+')"
   ]
  },
  {
   "cell_type": "markdown",
   "id": "7c1dd5c0",
   "metadata": {},
   "source": [
    "Realizamos una inspección de ambos dataframes"
   ]
  },
  {
   "cell_type": "code",
   "execution_count": 4,
   "id": "1ce17afd",
   "metadata": {},
   "outputs": [
    {
     "data": {
      "text/html": [
       "<div>\n",
       "<style scoped>\n",
       "    .dataframe tbody tr th:only-of-type {\n",
       "        vertical-align: middle;\n",
       "    }\n",
       "\n",
       "    .dataframe tbody tr th {\n",
       "        vertical-align: top;\n",
       "    }\n",
       "\n",
       "    .dataframe thead th {\n",
       "        text-align: right;\n",
       "    }\n",
       "</style>\n",
       "<table border=\"1\" class=\"dataframe\">\n",
       "  <thead>\n",
       "    <tr style=\"text-align: right;\">\n",
       "      <th></th>\n",
       "      <th>CCAA</th>\n",
       "      <th>IDENTHOGAR</th>\n",
       "      <th>A7_2a</th>\n",
       "      <th>SEXOa</th>\n",
       "      <th>EDADa</th>\n",
       "      <th>PROXY_0</th>\n",
       "      <th>PROXY_1</th>\n",
       "      <th>PROXY_2</th>\n",
       "      <th>PROXY_2b</th>\n",
       "      <th>PROXY_3b</th>\n",
       "      <th>...</th>\n",
       "      <th>Y134</th>\n",
       "      <th>Y135</th>\n",
       "      <th>FACTORADULTO</th>\n",
       "      <th>CLASE_PR</th>\n",
       "      <th>IMC</th>\n",
       "      <th>CMD1</th>\n",
       "      <th>CMD2</th>\n",
       "      <th>CMD3</th>\n",
       "      <th>SEVERIDAD_DEPRESIVA</th>\n",
       "      <th>CUADROS_DEPRESIVOS</th>\n",
       "    </tr>\n",
       "  </thead>\n",
       "  <tbody>\n",
       "    <tr>\n",
       "      <th>0</th>\n",
       "      <td>16</td>\n",
       "      <td>2500011</td>\n",
       "      <td>1</td>\n",
       "      <td>1</td>\n",
       "      <td>60</td>\n",
       "      <td>1</td>\n",
       "      <td></td>\n",
       "      <td></td>\n",
       "      <td></td>\n",
       "      <td></td>\n",
       "      <td>...</td>\n",
       "      <td></td>\n",
       "      <td></td>\n",
       "      <td>822.756</td>\n",
       "      <td>5</td>\n",
       "      <td>2</td>\n",
       "      <td>0.00</td>\n",
       "      <td>0.0</td>\n",
       "      <td>0.00</td>\n",
       "      <td>1</td>\n",
       "      <td>3</td>\n",
       "    </tr>\n",
       "    <tr>\n",
       "      <th>1</th>\n",
       "      <td>16</td>\n",
       "      <td>2500021</td>\n",
       "      <td>1</td>\n",
       "      <td>2</td>\n",
       "      <td>87</td>\n",
       "      <td>1</td>\n",
       "      <td></td>\n",
       "      <td></td>\n",
       "      <td></td>\n",
       "      <td></td>\n",
       "      <td>...</td>\n",
       "      <td></td>\n",
       "      <td></td>\n",
       "      <td>1287.294</td>\n",
       "      <td>1</td>\n",
       "      <td>9</td>\n",
       "      <td>0.00</td>\n",
       "      <td>0.0</td>\n",
       "      <td>0.00</td>\n",
       "      <td>3</td>\n",
       "      <td>3</td>\n",
       "    </tr>\n",
       "    <tr>\n",
       "      <th>2</th>\n",
       "      <td>16</td>\n",
       "      <td>2500031</td>\n",
       "      <td>1</td>\n",
       "      <td>1</td>\n",
       "      <td>38</td>\n",
       "      <td>1</td>\n",
       "      <td></td>\n",
       "      <td></td>\n",
       "      <td></td>\n",
       "      <td></td>\n",
       "      <td>...</td>\n",
       "      <td></td>\n",
       "      <td></td>\n",
       "      <td>607.022</td>\n",
       "      <td>4</td>\n",
       "      <td>3</td>\n",
       "      <td>2.86</td>\n",
       "      <td>0.0</td>\n",
       "      <td>6.67</td>\n",
       "      <td>3</td>\n",
       "      <td>2</td>\n",
       "    </tr>\n",
       "    <tr>\n",
       "      <th>3</th>\n",
       "      <td>16</td>\n",
       "      <td>2500061</td>\n",
       "      <td>2</td>\n",
       "      <td>2</td>\n",
       "      <td>43</td>\n",
       "      <td>1</td>\n",
       "      <td></td>\n",
       "      <td></td>\n",
       "      <td></td>\n",
       "      <td></td>\n",
       "      <td>...</td>\n",
       "      <td>1</td>\n",
       "      <td>3</td>\n",
       "      <td>1303.950</td>\n",
       "      <td>1</td>\n",
       "      <td>2</td>\n",
       "      <td>5.71</td>\n",
       "      <td>5.0</td>\n",
       "      <td>6.67</td>\n",
       "      <td>1</td>\n",
       "      <td>3</td>\n",
       "    </tr>\n",
       "    <tr>\n",
       "      <th>4</th>\n",
       "      <td>16</td>\n",
       "      <td>2500071</td>\n",
       "      <td>1</td>\n",
       "      <td>1</td>\n",
       "      <td>41</td>\n",
       "      <td>1</td>\n",
       "      <td></td>\n",
       "      <td></td>\n",
       "      <td></td>\n",
       "      <td></td>\n",
       "      <td>...</td>\n",
       "      <td></td>\n",
       "      <td></td>\n",
       "      <td>1341.778</td>\n",
       "      <td>4</td>\n",
       "      <td>3</td>\n",
       "      <td>0.00</td>\n",
       "      <td>0.0</td>\n",
       "      <td>0.00</td>\n",
       "      <td>1</td>\n",
       "      <td>3</td>\n",
       "    </tr>\n",
       "  </tbody>\n",
       "</table>\n",
       "<p>5 rows × 427 columns</p>\n",
       "</div>"
      ],
      "text/plain": [
       "   CCAA  IDENTHOGAR  A7_2a  SEXOa  EDADa  PROXY_0 PROXY_1 PROXY_2 PROXY_2b  \\\n",
       "0    16     2500011      1      1     60        1                            \n",
       "1    16     2500021      1      2     87        1                            \n",
       "2    16     2500031      1      1     38        1                            \n",
       "3    16     2500061      2      2     43        1                            \n",
       "4    16     2500071      1      1     41        1                            \n",
       "\n",
       "  PROXY_3b  ...  Y134 Y135  FACTORADULTO  CLASE_PR  IMC  CMD1  CMD2  CMD3  \\\n",
       "0           ...                  822.756         5    2  0.00   0.0  0.00   \n",
       "1           ...                 1287.294         1    9  0.00   0.0  0.00   \n",
       "2           ...                  607.022         4    3  2.86   0.0  6.67   \n",
       "3           ...     1    3      1303.950         1    2  5.71   5.0  6.67   \n",
       "4           ...                 1341.778         4    3  0.00   0.0  0.00   \n",
       "\n",
       "   SEVERIDAD_DEPRESIVA  CUADROS_DEPRESIVOS  \n",
       "0                    1                   3  \n",
       "1                    3                   3  \n",
       "2                    3                   2  \n",
       "3                    1                   3  \n",
       "4                    1                   3  \n",
       "\n",
       "[5 rows x 427 columns]"
      ]
     },
     "execution_count": 4,
     "metadata": {},
     "output_type": "execute_result"
    }
   ],
   "source": [
    "adulto2020.head()"
   ]
  },
  {
   "cell_type": "code",
   "execution_count": 5,
   "id": "8669a363",
   "metadata": {},
   "outputs": [
    {
     "data": {
      "text/html": [
       "<div>\n",
       "<style scoped>\n",
       "    .dataframe tbody tr th:only-of-type {\n",
       "        vertical-align: middle;\n",
       "    }\n",
       "\n",
       "    .dataframe tbody tr th {\n",
       "        vertical-align: top;\n",
       "    }\n",
       "\n",
       "    .dataframe thead th {\n",
       "        text-align: right;\n",
       "    }\n",
       "</style>\n",
       "<table border=\"1\" class=\"dataframe\">\n",
       "  <thead>\n",
       "    <tr style=\"text-align: right;\">\n",
       "      <th></th>\n",
       "      <th>CCAA</th>\n",
       "      <th>IDENTHOGAR</th>\n",
       "      <th>ESTRATO</th>\n",
       "      <th>SEXO_i</th>\n",
       "      <th>EDAD_i</th>\n",
       "      <th>NORDEN_Ai</th>\n",
       "      <th>NORDEN_Mi</th>\n",
       "      <th>NADULTOS</th>\n",
       "      <th>NMENORES</th>\n",
       "      <th>A7_1_i</th>\n",
       "      <th>...</th>\n",
       "      <th>D23_4</th>\n",
       "      <th>D23_5</th>\n",
       "      <th>D23_6</th>\n",
       "      <th>D23_7</th>\n",
       "      <th>D23_8</th>\n",
       "      <th>D23_9</th>\n",
       "      <th>D23_10</th>\n",
       "      <th>D23_11</th>\n",
       "      <th>D24</th>\n",
       "      <th>D26</th>\n",
       "    </tr>\n",
       "  </thead>\n",
       "  <tbody>\n",
       "    <tr>\n",
       "      <th>0</th>\n",
       "      <td>16</td>\n",
       "      <td>2500011</td>\n",
       "      <td>6</td>\n",
       "      <td>1</td>\n",
       "      <td>60</td>\n",
       "      <td>01</td>\n",
       "      <td></td>\n",
       "      <td>2</td>\n",
       "      <td>0</td>\n",
       "      <td>1</td>\n",
       "      <td>...</td>\n",
       "      <td>2</td>\n",
       "      <td>2</td>\n",
       "      <td>2</td>\n",
       "      <td>2</td>\n",
       "      <td>2</td>\n",
       "      <td>2</td>\n",
       "      <td>2</td>\n",
       "      <td>2</td>\n",
       "      <td></td>\n",
       "      <td>99</td>\n",
       "    </tr>\n",
       "    <tr>\n",
       "      <th>1</th>\n",
       "      <td>16</td>\n",
       "      <td>2500011</td>\n",
       "      <td>6</td>\n",
       "      <td>2</td>\n",
       "      <td>59</td>\n",
       "      <td>02</td>\n",
       "      <td></td>\n",
       "      <td>2</td>\n",
       "      <td>0</td>\n",
       "      <td>2</td>\n",
       "      <td>...</td>\n",
       "      <td></td>\n",
       "      <td></td>\n",
       "      <td></td>\n",
       "      <td></td>\n",
       "      <td></td>\n",
       "      <td></td>\n",
       "      <td></td>\n",
       "      <td></td>\n",
       "      <td></td>\n",
       "      <td>99</td>\n",
       "    </tr>\n",
       "    <tr>\n",
       "      <th>2</th>\n",
       "      <td>16</td>\n",
       "      <td>2500021</td>\n",
       "      <td>6</td>\n",
       "      <td>2</td>\n",
       "      <td>87</td>\n",
       "      <td>01</td>\n",
       "      <td></td>\n",
       "      <td>2</td>\n",
       "      <td>0</td>\n",
       "      <td>1</td>\n",
       "      <td>...</td>\n",
       "      <td>2</td>\n",
       "      <td>2</td>\n",
       "      <td>2</td>\n",
       "      <td>2</td>\n",
       "      <td>2</td>\n",
       "      <td>2</td>\n",
       "      <td>2</td>\n",
       "      <td>2</td>\n",
       "      <td>3</td>\n",
       "      <td>99</td>\n",
       "    </tr>\n",
       "    <tr>\n",
       "      <th>3</th>\n",
       "      <td>16</td>\n",
       "      <td>2500021</td>\n",
       "      <td>6</td>\n",
       "      <td>1</td>\n",
       "      <td>55</td>\n",
       "      <td>02</td>\n",
       "      <td></td>\n",
       "      <td>2</td>\n",
       "      <td>0</td>\n",
       "      <td>2</td>\n",
       "      <td>...</td>\n",
       "      <td></td>\n",
       "      <td></td>\n",
       "      <td></td>\n",
       "      <td></td>\n",
       "      <td></td>\n",
       "      <td></td>\n",
       "      <td></td>\n",
       "      <td></td>\n",
       "      <td></td>\n",
       "      <td>99</td>\n",
       "    </tr>\n",
       "    <tr>\n",
       "      <th>4</th>\n",
       "      <td>16</td>\n",
       "      <td>2500031</td>\n",
       "      <td>6</td>\n",
       "      <td>1</td>\n",
       "      <td>38</td>\n",
       "      <td>01</td>\n",
       "      <td></td>\n",
       "      <td>1</td>\n",
       "      <td>0</td>\n",
       "      <td>1</td>\n",
       "      <td>...</td>\n",
       "      <td>2</td>\n",
       "      <td>2</td>\n",
       "      <td>2</td>\n",
       "      <td>2</td>\n",
       "      <td>2</td>\n",
       "      <td>2</td>\n",
       "      <td>2</td>\n",
       "      <td>2</td>\n",
       "      <td></td>\n",
       "      <td>2</td>\n",
       "    </tr>\n",
       "  </tbody>\n",
       "</table>\n",
       "<p>5 rows × 46 columns</p>\n",
       "</div>"
      ],
      "text/plain": [
       "   CCAA  IDENTHOGAR  ESTRATO  SEXO_i  EDAD_i NORDEN_Ai NORDEN_Mi  NADULTOS  \\\n",
       "0    16     2500011        6       1      60        01                   2   \n",
       "1    16     2500011        6       2      59        02                   2   \n",
       "2    16     2500021        6       2      87        01                   2   \n",
       "3    16     2500021        6       1      55        02                   2   \n",
       "4    16     2500031        6       1      38        01                   1   \n",
       "\n",
       "   NMENORES  A7_1_i  ...  D23_4  D23_5  D23_6  D23_7  D23_8 D23_9  D23_10  \\\n",
       "0         0       1  ...      2      2      2      2      2     2       2   \n",
       "1         0       2  ...                                                    \n",
       "2         0       1  ...      2      2      2      2      2     2       2   \n",
       "3         0       2  ...                                                    \n",
       "4         0       1  ...      2      2      2      2      2     2       2   \n",
       "\n",
       "   D23_11  D24 D26  \n",
       "0       2       99  \n",
       "1               99  \n",
       "2       2    3  99  \n",
       "3               99  \n",
       "4       2        2  \n",
       "\n",
       "[5 rows x 46 columns]"
      ]
     },
     "execution_count": 5,
     "metadata": {},
     "output_type": "execute_result"
    }
   ],
   "source": [
    "hogar2020.head()"
   ]
  },
  {
   "cell_type": "markdown",
   "id": "16bda593",
   "metadata": {},
   "source": [
    "### 5.- Limpieza y Preprocesamiento de los Datos I"
   ]
  },
  {
   "cell_type": "markdown",
   "id": "06de3355",
   "metadata": {},
   "source": [
    "Para facilitar el análisis vamos a eliminar las columna o atributos de la Encuesta de Salud, que se considera no tienen relación en el modelo que se desea generar.\n",
    "\n",
    "Principalmente son datos de codificación de la encuesta,o datos que pueden ser sustentados por otras preguntas de la encuesta.\n",
    "\n",
    "Entre los dos datasets a utilzar hay __473 atributos__"
   ]
  },
  {
   "cell_type": "code",
   "execution_count": 6,
   "id": "3520cdf3",
   "metadata": {},
   "outputs": [
    {
     "name": "stdout",
     "output_type": "stream",
     "text": [
      "(22072, 427)\n",
      "(53329, 46)\n"
     ]
    }
   ],
   "source": [
    "print(adulto2020.shape)\n",
    "print(hogar2020.shape)"
   ]
  },
  {
   "cell_type": "code",
   "execution_count": 7,
   "id": "4d2f5664",
   "metadata": {},
   "outputs": [],
   "source": [
    "#Listado de atributos a eliminar en el dataframe hogar2020\n",
    "drop_hogar = ['NORDEN_Ai','NORDEN_Mi','NADULTOS','NMENORES','A7_1_i','NORDEN_Pref','A7_2','A8_1_i','A8_2_i',\n",
    "              'NORINF','A9_otra','D24','CLASE_PR']"
   ]
  },
  {
   "cell_type": "code",
   "execution_count": 8,
   "id": "269b9fa9",
   "metadata": {},
   "outputs": [],
   "source": [
    "#Listado de atributos a eliminar en el dataframe adulto2020\n",
    "drop_adulto = ['A7_2a','PROXY_0','PROXY_1','PROXY_2','PROXY_2b','PROXY_3b','PROXY_4','PROXY_5','E1C','E1E','W128Cer',\n",
    "              'W128Cer_1','W128Cer_2','W128Cer_3','W128Cer_4','W128Cer_5','W128Cer_6','W128Cer_7','W128Vin',\n",
    "              'W128Vin_1','W128Vin_2','W128Vin_3','W128Vin_4','W128Vin_5','W128Vin_6','W128Vin_7','W128Vermut',\n",
    "              'W128Vermut_1','W128Vermut_2','W128Vermut_3','W128Vermut_4','W128Vermut_5','W128Vermut_6',\n",
    "              'W128Vermut_7','W128Lic','W128Lic_1','W128Lic_2','W128Lic_3','W128Lic_4','W128Lic_5','W128Lic_6',\n",
    "              'W128Lic_7','W128Comb','W128Comb_1','W128Comb_2','W128Comb_3','W128Comb_4','W128Comb_5','W128Comb_6',\n",
    "              'W128Comb_7','W128Sidra','W128Sidra_1','W128Sidra_2','W128Sidra_3','W128Sidra_4','W128Sidra_5',\n",
    "              'W128Sidra_6','W128Sidra_7','CMD1','CMD2','CMD3','N63_1','N63_2','N63_3','N63_4','N63_5','N63_6',\n",
    "              'N63_7','N63_8','N63_9','N63_10','N64','N65_1','N65_2','N65_3','N65_4','N65_5','N65_6','N65_7',\n",
    "               'N65_8']"
   ]
  },
  {
   "cell_type": "code",
   "execution_count": 9,
   "id": "e7b3df19",
   "metadata": {},
   "outputs": [],
   "source": [
    "hogar2020.drop(drop_hogar,axis='columns',inplace=True)\n",
    "adulto2020.drop(drop_adulto,axis='columns',inplace=True)"
   ]
  },
  {
   "cell_type": "markdown",
   "id": "19b77e6e",
   "metadata": {},
   "source": [
    "En este mismo sentido, se detectan atributos duplicados entre ambas encuestas, por lo que procedemos a borrar una de ellas"
   ]
  },
  {
   "cell_type": "code",
   "execution_count": 10,
   "id": "703caf2a",
   "metadata": {},
   "outputs": [],
   "source": [
    "drop_hogar2 = ['CCAA','SEXO_i','EDAD_i','A10_i']\n",
    "hogar2020.drop(drop_hogar2,axis='columns',inplace=True)"
   ]
  },
  {
   "cell_type": "code",
   "execution_count": 11,
   "id": "3db7f4ff",
   "metadata": {},
   "outputs": [
    {
     "name": "stdout",
     "output_type": "stream",
     "text": [
      "(22072, 347)\n",
      "(53329, 29)\n"
     ]
    }
   ],
   "source": [
    "print(adulto2020.shape)\n",
    "print(hogar2020.shape)"
   ]
  },
  {
   "cell_type": "markdown",
   "id": "8d755e71",
   "metadata": {},
   "source": [
    "Se han descartado 95 atributos, aún así; no es muy eficiente su tratamiento, por lo que vamos a analizarlo, mediante subsets dependiendo del módulo de la encuesta."
   ]
  },
  {
   "cell_type": "markdown",
   "id": "74472f2f",
   "metadata": {},
   "source": [
    "#### 5.1 - Encuesta del Hogar"
   ]
  },
  {
   "cell_type": "markdown",
   "id": "51b2cc28",
   "metadata": {},
   "source": [
    "En primer lugar vamos a seleccionar un atributo indice para identificar a cada registro, para ello utilizaremos el valor de IDENTHOGAR.\n",
    "\n",
    "En el caso del dataset hogar, este atributo esta duplicado, si en el hogar habían varias personas; pero como solo uno contesta a la encuesta, podremos dejar un solo registro por hogar"
   ]
  },
  {
   "cell_type": "code",
   "execution_count": 12,
   "id": "57b971d4",
   "metadata": {},
   "outputs": [],
   "source": [
    "hogar2020.sort_values('D23_1',ascending=False,inplace=True)\n",
    "hogar2020.drop_duplicates('IDENTHOGAR',keep='first',inplace=True)\n",
    "hogar2020 = hogar2020.set_index('IDENTHOGAR')\n",
    "hogar2020.sort_values('IDENTHOGAR',inplace=True)"
   ]
  },
  {
   "cell_type": "markdown",
   "id": "d8800c5a",
   "metadata": {},
   "source": [
    "#### 5.2 - Encuesta del Individuo"
   ]
  },
  {
   "cell_type": "markdown",
   "id": "ca30e2f8",
   "metadata": {
    "slideshow": {
     "slide_type": "slide"
    }
   },
   "source": [
    "Igualmente usaremos el atributo IDENTHOGAR como índice del Dataframe; en este caso si existen registros únicos"
   ]
  },
  {
   "cell_type": "code",
   "execution_count": 13,
   "id": "173e3ae5",
   "metadata": {},
   "outputs": [],
   "source": [
    "adulto2020 = adulto2020.set_index('IDENTHOGAR')\n",
    "adulto2020.sort_values('IDENTHOGAR',inplace=True)"
   ]
  },
  {
   "cell_type": "code",
   "execution_count": 14,
   "id": "4fca40c8",
   "metadata": {},
   "outputs": [
    {
     "name": "stdout",
     "output_type": "stream",
     "text": [
      "(22072, 346)\n",
      "(22072, 28)\n"
     ]
    }
   ],
   "source": [
    "print(adulto2020.shape)\n",
    "print(hogar2020.shape)"
   ]
  },
  {
   "cell_type": "markdown",
   "id": "61e37172",
   "metadata": {},
   "source": [
    "Y realizamos una primera exportación del dataset; como punto de control para pasar ahora a un segundo nivel de análisis en detalle"
   ]
  },
  {
   "cell_type": "code",
   "execution_count": 15,
   "id": "b06ad3d0",
   "metadata": {},
   "outputs": [],
   "source": [
    "adulto2020.to_csv(r'adulto2020_1.csv')\n",
    "hogar2020.to_csv(r'hogar2020_1.csv')"
   ]
  },
  {
   "cell_type": "markdown",
   "id": "f8d9c6df",
   "metadata": {},
   "source": [
    "### 6.- Limpieza y Preprocesamiento de los Datos II"
   ]
  },
  {
   "cell_type": "markdown",
   "id": "761fd829",
   "metadata": {},
   "source": [
    "#### 6.1 - Encuesta del Hogar"
   ]
  },
  {
   "cell_type": "markdown",
   "id": "23a5271e",
   "metadata": {},
   "source": [
    "Cada dataset tiene un enorme número de tributos, para realizar un análisis detallado de sus componentes; vamos a crear una serie de subsets dependiendo de area de conocimiento y según el fichero del diseño de regsitro de los microdatos"
   ]
  },
  {
   "cell_type": "code",
   "execution_count": 16,
   "id": "9e47f8fb",
   "metadata": {},
   "outputs": [],
   "source": [
    "#Datos generales del hogar del encuestado\n",
    "hogar2020_general = hogar2020[['ESTRATO','A11_i','A12','FACTORHOGAR']]"
   ]
  },
  {
   "cell_type": "code",
   "execution_count": 17,
   "id": "a5f34bc6",
   "metadata": {},
   "outputs": [],
   "source": [
    "#Datos laborales del encuestado\n",
    "hogar_2020_datos_persona = hogar2020[['B13','B14','B15_2','B16_2','B17','B18','B19a_2','B19b_2','B20a_2','B20b_2',\n",
    "                                      'B21a','B21b']]"
   ]
  },
  {
   "cell_type": "code",
   "execution_count": 18,
   "id": "df297145",
   "metadata": {},
   "outputs": [],
   "source": [
    "#Datos de tipo de ingresos del encuestado\n",
    "hogar_2020_datos_ingresos = hogar2020[['D23_1','D23_2','D23_3','D23_4','D23_5','D23_6','D23_7','D23_8','D23_9',\n",
    "                                       'D23_10','D23_11','D26']]"
   ]
  },
  {
   "cell_type": "markdown",
   "id": "adc1a5f3",
   "metadata": {},
   "source": [
    "Para el subset hogar2020_general, no realizamos ninguna transformación"
   ]
  },
  {
   "cell_type": "markdown",
   "id": "03478110",
   "metadata": {},
   "source": [
    "##### 6.1.1- Subset Datos Personas"
   ]
  },
  {
   "cell_type": "code",
   "execution_count": 19,
   "id": "6976f724",
   "metadata": {},
   "outputs": [
    {
     "name": "stdout",
     "output_type": "stream",
     "text": [
      "<class 'pandas.core.frame.DataFrame'>\n",
      "Int64Index: 22072 entries, 2500011 to 4996151\n",
      "Data columns (total 12 columns):\n",
      " #   Column  Non-Null Count  Dtype \n",
      "---  ------  --------------  ----- \n",
      " 0   B13     22072 non-null  object\n",
      " 1   B14     22072 non-null  object\n",
      " 2   B15_2   22072 non-null  object\n",
      " 3   B16_2   22072 non-null  object\n",
      " 4   B17     22072 non-null  object\n",
      " 5   B18     22072 non-null  object\n",
      " 6   B19a_2  22072 non-null  object\n",
      " 7   B19b_2  22072 non-null  object\n",
      " 8   B20a_2  22072 non-null  object\n",
      " 9   B20b_2  22072 non-null  object\n",
      " 10  B21a    22072 non-null  object\n",
      " 11  B21b    22072 non-null  object\n",
      "dtypes: object(12)\n",
      "memory usage: 2.2+ MB\n"
     ]
    }
   ],
   "source": [
    "#El tipo de los datos ha sido cargado en pandas como \"object\", por lo que hacemos un casting a enteros\n",
    "hogar_2020_datos_persona.info()"
   ]
  },
  {
   "cell_type": "code",
   "execution_count": 20,
   "id": "89391801",
   "metadata": {},
   "outputs": [],
   "source": [
    "for col in hogar_2020_datos_persona.columns:\n",
    "    tipo_columna = hogar_2020_datos_persona[col].dtype\n",
    "    if tipo_columna == 'O':\n",
    "        hogar_2020_datos_persona[col] = pd.to_numeric(hogar_2020_datos_persona[col],\n",
    "                                                            errors='coerce').astype('Int64')"
   ]
  },
  {
   "cell_type": "code",
   "execution_count": 21,
   "id": "e17d8618",
   "metadata": {},
   "outputs": [
    {
     "name": "stdout",
     "output_type": "stream",
     "text": [
      "B13 - 88%\n",
      "B14 - 100%\n",
      "B15_2 - 99%\n",
      "B16_2 - 99%\n",
      "B17 - 99%\n",
      "B18 - 97%\n",
      "B19a_2 - 78%\n",
      "B19b_2 - 86%\n",
      "B20a_2 - 78%\n",
      "B20b_2 - 86%\n",
      "B21a - 78%\n",
      "B21b - 86%\n"
     ]
    }
   ],
   "source": [
    "for col in hogar_2020_datos_persona.columns:\n",
    "    pct_missing = np.mean(hogar_2020_datos_persona[col].isnull())\n",
    "    print('{} - {}%'.format(col, round(pct_missing*100)))"
   ]
  },
  {
   "cell_type": "markdown",
   "id": "782aaf21",
   "metadata": {},
   "source": [
    "Se observa que estos atributos tienen un alto porcentaje de missing_values; es decir, no fueron contestados por los encuestados. Por lo que descartamos su uso.\n",
    "\n",
    "Atributos similares, se encuentran en la encuesta individual"
   ]
  },
  {
   "cell_type": "markdown",
   "id": "79b6b518",
   "metadata": {},
   "source": [
    "##### 6.1.2 - Subset Datos Ingresos"
   ]
  },
  {
   "cell_type": "code",
   "execution_count": 22,
   "id": "fb315e2e",
   "metadata": {},
   "outputs": [
    {
     "name": "stdout",
     "output_type": "stream",
     "text": [
      "<class 'pandas.core.frame.DataFrame'>\n",
      "Int64Index: 22072 entries, 2500011 to 4996151\n",
      "Data columns (total 12 columns):\n",
      " #   Column  Non-Null Count  Dtype \n",
      "---  ------  --------------  ----- \n",
      " 0   D23_1   22072 non-null  object\n",
      " 1   D23_2   22072 non-null  object\n",
      " 2   D23_3   22072 non-null  object\n",
      " 3   D23_4   22072 non-null  object\n",
      " 4   D23_5   22072 non-null  object\n",
      " 5   D23_6   22072 non-null  object\n",
      " 6   D23_7   22072 non-null  object\n",
      " 7   D23_8   22072 non-null  object\n",
      " 8   D23_9   22072 non-null  object\n",
      " 9   D23_10  22072 non-null  object\n",
      " 10  D23_11  22072 non-null  object\n",
      " 11  D26     22072 non-null  int64 \n",
      "dtypes: int64(1), object(11)\n",
      "memory usage: 2.2+ MB\n"
     ]
    }
   ],
   "source": [
    "hogar_2020_datos_ingresos.info()"
   ]
  },
  {
   "cell_type": "code",
   "execution_count": 23,
   "id": "1f7fd5ff",
   "metadata": {},
   "outputs": [],
   "source": [
    "for col in hogar_2020_datos_ingresos.columns:\n",
    "    tipo_columna = hogar_2020_datos_ingresos[col].dtype\n",
    "    if tipo_columna == 'O':\n",
    "        hogar_2020_datos_ingresos[col] = pd.to_numeric(hogar_2020_datos_ingresos[col],\n",
    "                                                            errors='coerce').astype('Int64')"
   ]
  },
  {
   "cell_type": "code",
   "execution_count": 24,
   "id": "a5094315",
   "metadata": {},
   "outputs": [
    {
     "name": "stdout",
     "output_type": "stream",
     "text": [
      "D23_1 - 0%\n",
      "D23_2 - 0%\n",
      "D23_3 - 0%\n",
      "D23_4 - 0%\n",
      "D23_5 - 0%\n",
      "D23_6 - 0%\n",
      "D23_7 - 0%\n",
      "D23_8 - 0%\n",
      "D23_9 - 0%\n",
      "D23_10 - 0%\n",
      "D23_11 - 0%\n",
      "D26 - 0%\n"
     ]
    }
   ],
   "source": [
    "for col in hogar_2020_datos_ingresos.columns:\n",
    "    pct_missing = np.mean(hogar_2020_datos_ingresos[col].isnull())\n",
    "    print('{} - {}%'.format(col, round(pct_missing*100)))"
   ]
  },
  {
   "cell_type": "markdown",
   "id": "1cd5c8e6",
   "metadata": {},
   "source": [
    "En este caso hay ausencia de valores nulos\n",
    "\n",
    "Cada uno de estos atributos representa un tipo de ingreso del encuestado; por lo que no eliminamos ni transformamos ninguna de las variables.\n",
    "\n",
    "Por lo tanto los atributos a utilizar de la encuesta de hogar seran los siguientes:"
   ]
  },
  {
   "cell_type": "code",
   "execution_count": 25,
   "id": "528b11a7",
   "metadata": {},
   "outputs": [],
   "source": [
    "df_hogar = pd.concat([hogar2020_general,hogar_2020_datos_ingresos],axis=1)"
   ]
  },
  {
   "cell_type": "code",
   "execution_count": 26,
   "id": "2af903f2",
   "metadata": {},
   "outputs": [
    {
     "name": "stdout",
     "output_type": "stream",
     "text": [
      "<class 'pandas.core.frame.DataFrame'>\n",
      "Int64Index: 22072 entries, 2500011 to 4996151\n",
      "Data columns (total 16 columns):\n",
      " #   Column       Non-Null Count  Dtype  \n",
      "---  ------       --------------  -----  \n",
      " 0   ESTRATO      22072 non-null  int64  \n",
      " 1   A11_i        22072 non-null  int64  \n",
      " 2   A12          22072 non-null  int64  \n",
      " 3   FACTORHOGAR  22072 non-null  float64\n",
      " 4   D23_1        22072 non-null  Int64  \n",
      " 5   D23_2        22072 non-null  Int64  \n",
      " 6   D23_3        22072 non-null  Int64  \n",
      " 7   D23_4        22072 non-null  Int64  \n",
      " 8   D23_5        22072 non-null  Int64  \n",
      " 9   D23_6        22072 non-null  Int64  \n",
      " 10  D23_7        22072 non-null  Int64  \n",
      " 11  D23_8        22072 non-null  Int64  \n",
      " 12  D23_9        22072 non-null  Int64  \n",
      " 13  D23_10       22072 non-null  Int64  \n",
      " 14  D23_11       22072 non-null  Int64  \n",
      " 15  D26          22072 non-null  int64  \n",
      "dtypes: Int64(11), float64(1), int64(4)\n",
      "memory usage: 3.1 MB\n"
     ]
    }
   ],
   "source": [
    "df_hogar.info()"
   ]
  },
  {
   "cell_type": "markdown",
   "id": "6f642137",
   "metadata": {},
   "source": [
    "#### 6.2 - Encuesta del Individuo"
   ]
  },
  {
   "cell_type": "markdown",
   "id": "cf7fb2bc",
   "metadata": {},
   "source": [
    "Tal y como se realizó con el dataset del hogar, procedemos a subdividir según área de conocimiento y siguiendo el fichero de registro de los microdatos, para un mesjor análisis"
   ]
  },
  {
   "cell_type": "code",
   "execution_count": 27,
   "id": "cf3d5bdd",
   "metadata": {},
   "outputs": [],
   "source": [
    "#Datos asociados con el objetivo del estudio (ansiedad y depresión)\n",
    "adulto2020_target = adulto2020[['G25a_20','G25b_20','G25c_20','G25a_21','G25b_21','G25c_21','SEVERIDAD_DEPRESIVA',\n",
    "                            'CUADROS_DEPRESIVOS']]"
   ]
  },
  {
   "cell_type": "code",
   "execution_count": 28,
   "id": "642407fb",
   "metadata": {},
   "outputs": [],
   "source": [
    "#Datos generales del individuo encuestado\n",
    "adulto2020_general = adulto2020[['CCAA','SEXOa','EDADa','E1_1','E2_1a','E2_1b','E2_1c','E2_1d','E3','E4',\n",
    "                                 'E4b','ESTUDIOS','S109','S110','FACTORADULTO','CLASE_PR','IMC']]"
   ]
  },
  {
   "cell_type": "code",
   "execution_count": 29,
   "id": "ecf25eeb",
   "metadata": {},
   "outputs": [],
   "source": [
    "#Datos Socioeconomicos\n",
    "adulto2020_socioeconomico = adulto2020[['F6','F7','F8_2','F9_2','F10','F11','F12','F13','F14a','F14b','F15','F16',\n",
    "                                        'F17','F18a_2','F18b_2','F19a_2','F19b_2','F20','J30','J31']]"
   ]
  },
  {
   "cell_type": "code",
   "execution_count": 30,
   "id": "18fab5a8",
   "metadata": {},
   "outputs": [],
   "source": [
    "#Datos Determinantes de la Salud\n",
    "adulto2020_DeterminantesSalud = adulto2020[['R106','R107','R108_1','R108_2','R108_3','R108_4','T111','T112',\n",
    "                                      'T113','T114','T115','T116','T117','T118_1','T118_2','T119','T119b_1',\n",
    "                                      'T119b_2','U120_1','U120_1a','U120_2','U120_3','U120_4','U120_5','U120_6',\n",
    "                                      'U120_7','U120_7a','U120_8','U120_9','U120_10','U120_11','U120_12','U120_13',\n",
    "                                      'U120_14','U120_15','U120_15a','U120FZ','U120CANTFZ','V121','V123','V124',\n",
    "                                      'V124a','V124b','V126','V126a','V126b','V126c','W127','W129','X130','X131',\n",
    "                                      'X132','Y133','Y134','Y135']]"
   ]
  },
  {
   "cell_type": "code",
   "execution_count": 31,
   "id": "0dbdcc5a",
   "metadata": {},
   "outputs": [],
   "source": [
    "#Datos del Estado de la Salud del Individuo\n",
    "adulto2020_EstadoSalud = adulto2020[['G21','G22','G23','G24','G24a','G25a_1','G25b_1','G25c_1','G25a_2','G25b_2',\n",
    "                                     'G25c_2','G25d_2','G25a_3','G25b_3','G25c_3','G25a_4','G25b_4','G25c_4',\n",
    "                                     'G25a_5','G25b_5','G25c_5','G25a_6','G25b_6','G25c_6','G25a_7','G25b_7',\n",
    "                                     'G25c_7','G25a_8','G25b_8','G25c_8','G25a_9','G25b_9','G25c_9','G25a_10',\n",
    "                                     'G25b_10','G25c_10','G25a_11','G25b_11','G25c_11','G25a_12','G25b_12',\n",
    "                                     'G25c_12','G25a_13','G25b_13','G25c_13','G25a_14','G25b_14','G25c_14',\n",
    "                                     'G25a_15','G25b_15','G25c_15','G25a_16','G25b_16','G25c_16','G25a_17',\n",
    "                                     'G25b_17','G25c_17','G25a_18','G25b_18','G25c_18','G25a_19','G25b_19',\n",
    "                                     'G25c_19','G25a_22','G25b_22','G25c_22','G25a_23','G25b_23','G25c_23',\n",
    "                                     'G25d_23','G25a_24','G25b_24','G25c_24','G25a_25','G25b_25','G25c_25',\n",
    "                                     'G25a_26','G25b_26','G25c_26','G25a_27','G25b_27','G25c_27','G25a_28',\n",
    "                                     'G25b_28','G25c_28','G25a_29','G25b_29','G25c_29','G25a_30','G25b_30',\n",
    "                                     'G25c_30','G25a_31','G25b_31','G25c_31','G25a_32','G25b_32','G25c_32',\n",
    "                                     'H26_1','H26_2','H26_3','H27','K32','K33','K34','K35','K36','K37','K38',\n",
    "                                     'K38a','K38b','L39_1','L39_2','L39_3','L39_4','L39_5','L40','L41','L42_1',\n",
    "                                     'L42_2','L42_3','L42_4','L42_5','L42_6','L42_7','L43','L44','L45','L46']]"
   ]
  },
  {
   "cell_type": "code",
   "execution_count": 32,
   "id": "82c77876",
   "metadata": {},
   "outputs": [],
   "source": [
    "#Datos sobre la Asistencia Sanitaria\n",
    "adulto2020_AsistenciaSanitaria = adulto2020[['N48','N49','N50','N51','N52','N53','N54','N57','N58_1','N58_2',\n",
    "                                             'N58_3','N59','N60_1','N60_2','N60_3','N60_4','N60a_1','N60a_2',\n",
    "                                             'N60a_3','N60a_4','N61_1','N61_2','N61_3','N61_4','N61_5','N62',\n",
    "                                             'N62b','O66','O67','O68','O69','O71','O74','O75','O76','O78','O79',\n",
    "                                             'O80_1','O80_2','O80_3','O81_1','O81_2','O81_3','O82_1','O82_2','O83',\n",
    "                                             'O84_1','O84_2','O84_3','O84_4','O84_5','O84_6','O84_7','O84_8',\n",
    "                                             'O84_9','P85','P86','P87_1a','P87_1b','P87_2a','P87_2b','P87_3a',\n",
    "                                             'P87_3b','P87_4a','P87_4b','P87_5a','P87_5b','P87_6a','P87_6b',\n",
    "                                             'P87_7a','P87_7b','P87_8a','P87_8b','P87_9a','P87_9b','P87_10a',\n",
    "                                             'P87_10b','P87_11a','P87_11b','P87_12a','P87_12b','P87_13a',\n",
    "                                             'P87_13b','P87_14a','P87_14b','P87_15a','P87_15b','P87_16a','P87_16b',\n",
    "                                             'P87_17a','P87_17b','P87_18a','P87_18b','P87_19a','P87_19b','P87_20a',\n",
    "                                             'P87_20b','P87_21a','P87_21b','P87_22a','P87_22b','P87_23a','P87_23b',\n",
    "                                             'Q88','Q89','Q90','Q91','Q92','Q93','Q94','Q95','Q96','Q98','Q99',\n",
    "                                             'Q100','Q101','Q103','Q104']]"
   ]
  },
  {
   "cell_type": "markdown",
   "id": "d4057342",
   "metadata": {},
   "source": [
    "##### 6.2.1 - Subset Target"
   ]
  },
  {
   "cell_type": "code",
   "execution_count": 33,
   "id": "83dfaa31",
   "metadata": {},
   "outputs": [
    {
     "name": "stdout",
     "output_type": "stream",
     "text": [
      "<class 'pandas.core.frame.DataFrame'>\n",
      "Int64Index: 22072 entries, 2500011 to 4996151\n",
      "Data columns (total 8 columns):\n",
      " #   Column               Non-Null Count  Dtype \n",
      "---  ------               --------------  ----- \n",
      " 0   G25a_20              22072 non-null  int64 \n",
      " 1   G25b_20              22072 non-null  object\n",
      " 2   G25c_20              22072 non-null  object\n",
      " 3   G25a_21              22072 non-null  int64 \n",
      " 4   G25b_21              22072 non-null  object\n",
      " 5   G25c_21              22072 non-null  object\n",
      " 6   SEVERIDAD_DEPRESIVA  22072 non-null  int64 \n",
      " 7   CUADROS_DEPRESIVOS   22072 non-null  int64 \n",
      "dtypes: int64(4), object(4)\n",
      "memory usage: 1.5+ MB\n"
     ]
    }
   ],
   "source": [
    "adulto2020_target.info()"
   ]
  },
  {
   "cell_type": "markdown",
   "id": "6ff9a903",
   "metadata": {},
   "source": [
    "El subset tiene 8 atributos, relacionados con haber haber padecido Ansiedad o Depresion.\n",
    "\n",
    "Los atributos G25c_20 (Depresión) y G25c_21(Ansiedad), indican si han sido diagnosticados por un médico.\n",
    "\n",
    "Usaremos estos entonces, como la CLASE del dataset"
   ]
  },
  {
   "cell_type": "code",
   "execution_count": 34,
   "id": "79b4931c",
   "metadata": {},
   "outputs": [],
   "source": [
    "for col in adulto2020_target.columns:\n",
    "    tipo_columna = adulto2020_target[col].dtype\n",
    "    if tipo_columna == 'O':\n",
    "        adulto2020_target[col] = pd.to_numeric(adulto2020_target[col],\n",
    "                                                            errors='coerce').astype('Int64')"
   ]
  },
  {
   "cell_type": "code",
   "execution_count": 35,
   "id": "c4dcdcdf",
   "metadata": {},
   "outputs": [
    {
     "name": "stdout",
     "output_type": "stream",
     "text": [
      "G25a_20 - 0%\n",
      "G25b_20 - 90%\n",
      "G25c_20 - 90%\n",
      "G25a_21 - 0%\n",
      "G25b_21 - 92%\n",
      "G25c_21 - 92%\n",
      "SEVERIDAD_DEPRESIVA - 0%\n",
      "CUADROS_DEPRESIVOS - 0%\n"
     ]
    }
   ],
   "source": [
    "for col in adulto2020_target.columns:\n",
    "    pct_missing = np.mean(adulto2020_target[col].isnull())\n",
    "    print('{} - {}%'.format(col, round(pct_missing*100)))"
   ]
  },
  {
   "cell_type": "markdown",
   "id": "86e70e3b",
   "metadata": {},
   "source": [
    "Debemos cambiar los atributos TARGET, debido a que se oberva un alto porcentaje de missings en si las enfermedades han sido diagnosticadas por un médico.\n",
    "\n",
    "Por lo tanto cambiamos nuestros valores TARGET a: G25a_20 (Depresión) y G25a_21(Ansiedad)\n",
    "\n",
    "Que por cierto, no hay valores missing en dichas respuestas\n",
    "\n",
    "Cambiamos el nombre de dichas columnas, para ir identificando nuestro target, y hacemos un nuevo subset que añadiremos al finel del dataframe final."
   ]
  },
  {
   "cell_type": "code",
   "execution_count": 36,
   "id": "565f4610",
   "metadata": {},
   "outputs": [],
   "source": [
    "df_clase = adulto2020_target[['G25a_20','G25a_21']]\n",
    "df_clase.columns = ['DEPRESION','ANSIEDAD']"
   ]
  },
  {
   "cell_type": "code",
   "execution_count": 37,
   "id": "113ccbf7",
   "metadata": {},
   "outputs": [
    {
     "name": "stdout",
     "output_type": "stream",
     "text": [
      "DEPRESION value counts \n",
      "\n"
     ]
    },
    {
     "data": {
      "text/plain": [
       "2    19931\n",
       "1     2115\n",
       "9       14\n",
       "8       12\n",
       "Name: DEPRESION, dtype: int64"
      ]
     },
     "metadata": {},
     "output_type": "display_data"
    },
    {
     "name": "stdout",
     "output_type": "stream",
     "text": [
      "************************************\n",
      "ANSIEDAD value counts \n",
      "\n"
     ]
    },
    {
     "data": {
      "text/plain": [
       "2    20248\n",
       "1     1793\n",
       "9       16\n",
       "8       15\n",
       "Name: ANSIEDAD, dtype: int64"
      ]
     },
     "metadata": {},
     "output_type": "display_data"
    },
    {
     "name": "stdout",
     "output_type": "stream",
     "text": [
      "************************************\n"
     ]
    }
   ],
   "source": [
    "#Funciones creadas en utilidades.py\n",
    "ut.val_counts(df_clase)"
   ]
  },
  {
   "cell_type": "markdown",
   "id": "768a8a53",
   "metadata": {},
   "source": [
    "Se observa que hay un pequeño número de registros que toman los valores de NO SABE (8) o NO CONTESTA (9).\n",
    "\n",
    "Como representan un porcentaje muy bajo sobre el total de registros, se procede a agruparlos con la no presencia de la enfermedad (2), para no alterar la muestra de SI presencia de la enfermedad."
   ]
  },
  {
   "cell_type": "code",
   "execution_count": 38,
   "id": "2db45b06",
   "metadata": {},
   "outputs": [],
   "source": [
    "target_col = ['DEPRESION','ANSIEDAD']"
   ]
  },
  {
   "cell_type": "code",
   "execution_count": 39,
   "id": "bd16ed3d",
   "metadata": {},
   "outputs": [],
   "source": [
    "for col in target_col:\n",
    "    df_clase[col].replace({8 : 2, \n",
    "                           9 : 2},inplace=True)"
   ]
  },
  {
   "cell_type": "markdown",
   "id": "b3fc70c2",
   "metadata": {},
   "source": [
    "Seguiremos usando los atributos G25b_x, ya que nos ayudarána. determinar si dichas enfermedades han estado presente en los últimos 12 meses; igualmente seguiremos usando por ahora, las variables derivadas SEVERIDAD_DEPRESIVA y CUADROS_DEPRESIVOS.\n",
    "\n",
    "Igualmente con los atributos G25c_x; ya que en caso de haber presentado la enfermedad, nos dirá si fue diagnosticada por un medico"
   ]
  },
  {
   "cell_type": "code",
   "execution_count": 40,
   "id": "10a05f8d",
   "metadata": {},
   "outputs": [],
   "source": [
    "df_otros_clase = adulto2020_target[['G25b_20','G25c_20','G25b_21','G25c_21','SEVERIDAD_DEPRESIVA',\n",
    "                                    'CUADROS_DEPRESIVOS']]"
   ]
  },
  {
   "cell_type": "markdown",
   "id": "3d184e4f",
   "metadata": {},
   "source": [
    "##### 6.2.2 - Subset General"
   ]
  },
  {
   "cell_type": "code",
   "execution_count": 41,
   "id": "703fbcb4",
   "metadata": {},
   "outputs": [
    {
     "name": "stdout",
     "output_type": "stream",
     "text": [
      "<class 'pandas.core.frame.DataFrame'>\n",
      "Int64Index: 22072 entries, 2500011 to 4996151\n",
      "Data columns (total 17 columns):\n",
      " #   Column        Non-Null Count  Dtype  \n",
      "---  ------        --------------  -----  \n",
      " 0   CCAA          22072 non-null  int64  \n",
      " 1   SEXOa         22072 non-null  int64  \n",
      " 2   EDADa         22072 non-null  int64  \n",
      " 3   E1_1          22072 non-null  int64  \n",
      " 4   E2_1a         22072 non-null  int64  \n",
      " 5   E2_1b         22072 non-null  int64  \n",
      " 6   E2_1c         22072 non-null  int64  \n",
      " 7   E2_1d         22072 non-null  int64  \n",
      " 8   E3            2043 non-null   float64\n",
      " 9   E4            22072 non-null  int64  \n",
      " 10  E4b           22072 non-null  int64  \n",
      " 11  ESTUDIOS      22072 non-null  int64  \n",
      " 12  S109          22072 non-null  int64  \n",
      " 13  S110          22072 non-null  int64  \n",
      " 14  FACTORADULTO  22072 non-null  float64\n",
      " 15  CLASE_PR      22072 non-null  int64  \n",
      " 16  IMC           22072 non-null  int64  \n",
      "dtypes: float64(2), int64(15)\n",
      "memory usage: 3.0 MB\n"
     ]
    }
   ],
   "source": [
    "adulto2020_general.info()"
   ]
  },
  {
   "cell_type": "code",
   "execution_count": 42,
   "id": "367d39eb",
   "metadata": {},
   "outputs": [
    {
     "name": "stdout",
     "output_type": "stream",
     "text": [
      "CCAA - 0%\n",
      "SEXOa - 0%\n",
      "EDADa - 0%\n",
      "E1_1 - 0%\n",
      "E2_1a - 0%\n",
      "E2_1b - 0%\n",
      "E2_1c - 0%\n",
      "E2_1d - 0%\n",
      "E3 - 91%\n",
      "E4 - 0%\n",
      "E4b - 0%\n",
      "ESTUDIOS - 0%\n",
      "S109 - 0%\n",
      "S110 - 0%\n",
      "FACTORADULTO - 0%\n",
      "CLASE_PR - 0%\n",
      "IMC - 0%\n"
     ]
    }
   ],
   "source": [
    "for col in adulto2020_general.columns:\n",
    "    pct_missing = np.mean(adulto2020_general[col].isnull())\n",
    "    print('{} - {}%'.format(col, round(pct_missing*100)))"
   ]
  },
  {
   "cell_type": "code",
   "execution_count": 43,
   "id": "75cb405f",
   "metadata": {},
   "outputs": [
    {
     "name": "stdout",
     "output_type": "stream",
     "text": [
      "CCAA value counts \n",
      "\n"
     ]
    },
    {
     "data": {
      "text/plain": [
       "1     2820\n",
       "13    2327\n",
       "9     2138\n",
       "10    1870\n",
       "12    1304\n",
       "16    1229\n",
       "8     1146\n",
       "5     1138\n",
       "7     1124\n",
       "14    1007\n",
       "3      979\n",
       "6      929\n",
       "11     923\n",
       "2      821\n",
       "15     747\n",
       "17     648\n",
       "4      396\n",
       "19     294\n",
       "18     232\n",
       "Name: CCAA, dtype: int64"
      ]
     },
     "metadata": {},
     "output_type": "display_data"
    },
    {
     "name": "stdout",
     "output_type": "stream",
     "text": [
      "************************************\n",
      "SEXOa value counts \n",
      "\n"
     ]
    },
    {
     "data": {
      "text/plain": [
       "2    11682\n",
       "1    10390\n",
       "Name: SEXOa, dtype: int64"
      ]
     },
     "metadata": {},
     "output_type": "display_data"
    },
    {
     "name": "stdout",
     "output_type": "stream",
     "text": [
      "************************************\n",
      "EDADa value counts \n",
      "\n"
     ]
    },
    {
     "data": {
      "text/plain": [
       "43     457\n",
       "44     438\n",
       "60     428\n",
       "56     426\n",
       "42     425\n",
       "      ... \n",
       "99       2\n",
       "102      2\n",
       "100      2\n",
       "104      1\n",
       "101      1\n",
       "Name: EDADa, Length: 90, dtype: int64"
      ]
     },
     "metadata": {},
     "output_type": "display_data"
    },
    {
     "name": "stdout",
     "output_type": "stream",
     "text": [
      "************************************\n",
      "E1_1 value counts \n",
      "\n"
     ]
    },
    {
     "data": {
      "text/plain": [
       "1    20029\n",
       "2     2043\n",
       "Name: E1_1, dtype: int64"
      ]
     },
     "metadata": {},
     "output_type": "display_data"
    },
    {
     "name": "stdout",
     "output_type": "stream",
     "text": [
      "************************************\n",
      "E2_1a value counts \n",
      "\n"
     ]
    },
    {
     "data": {
      "text/plain": [
       "1    20758\n",
       "2     1314\n",
       "Name: E2_1a, dtype: int64"
      ]
     },
     "metadata": {},
     "output_type": "display_data"
    },
    {
     "name": "stdout",
     "output_type": "stream",
     "text": [
      "************************************\n",
      "E2_1b value counts \n",
      "\n"
     ]
    },
    {
     "data": {
      "text/plain": [
       "2    20196\n",
       "1     1876\n",
       "Name: E2_1b, dtype: int64"
      ]
     },
     "metadata": {},
     "output_type": "display_data"
    },
    {
     "name": "stdout",
     "output_type": "stream",
     "text": [
      "************************************\n",
      "E2_1c value counts \n",
      "\n"
     ]
    },
    {
     "data": {
      "text/plain": [
       "2    22071\n",
       "1        1\n",
       "Name: E2_1c, dtype: int64"
      ]
     },
     "metadata": {},
     "output_type": "display_data"
    },
    {
     "name": "stdout",
     "output_type": "stream",
     "text": [
      "************************************\n",
      "E2_1d value counts \n",
      "\n"
     ]
    },
    {
     "data": {
      "text/plain": [
       "2    22072\n",
       "Name: E2_1d, dtype: int64"
      ]
     },
     "metadata": {},
     "output_type": "display_data"
    },
    {
     "name": "stdout",
     "output_type": "stream",
     "text": [
      "************************************\n",
      "E3 value counts \n",
      "\n"
     ]
    },
    {
     "data": {
      "text/plain": [
       "NaN     20029\n",
       "20.0      159\n",
       "15.0      144\n",
       "13.0      135\n",
       "14.0      120\n",
       "        ...  \n",
       "88.0        1\n",
       "67.0        1\n",
       "71.0        1\n",
       "89.0        1\n",
       "70.0        1\n",
       "Name: E3, Length: 76, dtype: int64"
      ]
     },
     "metadata": {},
     "output_type": "display_data"
    },
    {
     "name": "stdout",
     "output_type": "stream",
     "text": [
      "************************************\n",
      "E4 value counts \n",
      "\n"
     ]
    },
    {
     "data": {
      "text/plain": [
       "3    10811\n",
       "1    10703\n",
       "2      401\n",
       "9      148\n",
       "8        9\n",
       "Name: E4, dtype: int64"
      ]
     },
     "metadata": {},
     "output_type": "display_data"
    },
    {
     "name": "stdout",
     "output_type": "stream",
     "text": [
      "************************************\n",
      "E4b value counts \n",
      "\n"
     ]
    },
    {
     "data": {
      "text/plain": [
       "2    11301\n",
       "1     5977\n",
       "3     2896\n",
       "5     1183\n",
       "4      650\n",
       "9       63\n",
       "8        2\n",
       "Name: E4b, dtype: int64"
      ]
     },
     "metadata": {},
     "output_type": "display_data"
    },
    {
     "name": "stdout",
     "output_type": "stream",
     "text": [
      "************************************\n",
      "ESTUDIOS value counts \n",
      "\n"
     ]
    },
    {
     "data": {
      "text/plain": [
       "5    5322\n",
       "9    4277\n",
       "4    4134\n",
       "6    2800\n",
       "3    1996\n",
       "8    1848\n",
       "7    1503\n",
       "2     192\n",
       "Name: ESTUDIOS, dtype: int64"
      ]
     },
     "metadata": {},
     "output_type": "display_data"
    },
    {
     "name": "stdout",
     "output_type": "stream",
     "text": [
      "************************************\n",
      "S109 value counts \n",
      "\n"
     ]
    },
    {
     "data": {
      "text/plain": [
       "160    1839\n",
       "170    1803\n",
       "165    1745\n",
       "168    1011\n",
       "175     965\n",
       "       ... \n",
       "130       1\n",
       "125       1\n",
       "135       1\n",
       "142       1\n",
       "131       1\n",
       "Name: S109, Length: 74, dtype: int64"
      ]
     },
     "metadata": {},
     "output_type": "display_data"
    },
    {
     "name": "stdout",
     "output_type": "stream",
     "text": [
      "************************************\n",
      "S110 value counts \n",
      "\n"
     ]
    },
    {
     "data": {
      "text/plain": [
       "70     1319\n",
       "80     1248\n",
       "75      974\n",
       "65      971\n",
       "60      883\n",
       "       ... \n",
       "137       1\n",
       "162       1\n",
       "150       1\n",
       "119       1\n",
       "168       1\n",
       "Name: S110, Length: 106, dtype: int64"
      ]
     },
     "metadata": {},
     "output_type": "display_data"
    },
    {
     "name": "stdout",
     "output_type": "stream",
     "text": [
      "************************************\n",
      "FACTORADULTO value counts \n",
      "\n"
     ]
    },
    {
     "data": {
      "text/plain": [
       "990.700     74\n",
       "1967.462    52\n",
       "915.296     51\n",
       "2337.146    49\n",
       "272.703     34\n",
       "            ..\n",
       "2758.487     1\n",
       "5139.643     1\n",
       "1314.381     1\n",
       "2016.950     1\n",
       "594.449      1\n",
       "Name: FACTORADULTO, Length: 9593, dtype: int64"
      ]
     },
     "metadata": {},
     "output_type": "display_data"
    },
    {
     "name": "stdout",
     "output_type": "stream",
     "text": [
      "************************************\n",
      "CLASE_PR value counts \n",
      "\n"
     ]
    },
    {
     "data": {
      "text/plain": [
       "5    6934\n",
       "3    4228\n",
       "4    3048\n",
       "6    2886\n",
       "1    2301\n",
       "2    1679\n",
       "9     996\n",
       "Name: CLASE_PR, dtype: int64"
      ]
     },
     "metadata": {},
     "output_type": "display_data"
    },
    {
     "name": "stdout",
     "output_type": "stream",
     "text": [
      "************************************\n",
      "IMC value counts \n",
      "\n"
     ]
    },
    {
     "data": {
      "text/plain": [
       "2    8964\n",
       "3    8156\n",
       "4    3379\n",
       "9    1166\n",
       "1     407\n",
       "Name: IMC, dtype: int64"
      ]
     },
     "metadata": {},
     "output_type": "display_data"
    },
    {
     "name": "stdout",
     "output_type": "stream",
     "text": [
      "************************************\n"
     ]
    }
   ],
   "source": [
    "#Funciones creadas en utilidades.py\n",
    "ut.val_counts(adulto2020_general)"
   ]
  },
  {
   "cell_type": "markdown",
   "id": "d67b1176",
   "metadata": {},
   "source": [
    "Del análisis de valores missing y tendencia en las respuestas, podemos descartar los siguientes atributos:\n",
    "* E3 -> 91% de Missing Values\n",
    "* E2_1c -> Tiene una sola tendencia de respuesta (NO)\n",
    "* E2_1d -> Tiene una sola tendencia de respuesta (NO)\n",
    "\n",
    "Por lo tanto, el subset de caracteristicas generales, queda de la siguiente forma:"
   ]
  },
  {
   "cell_type": "code",
   "execution_count": 44,
   "id": "77b85497",
   "metadata": {},
   "outputs": [],
   "source": [
    "df_generales = adulto2020_general[['CCAA','SEXOa','EDADa','E1_1','E2_1a','E2_1b','E4','E4b','ESTUDIOS',\n",
    "                                   'S109','S110','FACTORADULTO','CLASE_PR','IMC']]"
   ]
  },
  {
   "cell_type": "markdown",
   "id": "31921fe0",
   "metadata": {},
   "source": [
    "##### 6.2.3 - Subset Socioeconómico"
   ]
  },
  {
   "cell_type": "code",
   "execution_count": 45,
   "id": "e023949c",
   "metadata": {},
   "outputs": [
    {
     "name": "stdout",
     "output_type": "stream",
     "text": [
      "<class 'pandas.core.frame.DataFrame'>\n",
      "Int64Index: 22072 entries, 2500011 to 4996151\n",
      "Data columns (total 20 columns):\n",
      " #   Column  Non-Null Count  Dtype  \n",
      "---  ------  --------------  -----  \n",
      " 0   F6      22072 non-null  object \n",
      " 1   F7      22072 non-null  object \n",
      " 2   F8_2    22072 non-null  object \n",
      " 3   F9_2    22072 non-null  object \n",
      " 4   F10     22072 non-null  object \n",
      " 5   F11     22072 non-null  object \n",
      " 6   F12     22072 non-null  object \n",
      " 7   F13     22072 non-null  object \n",
      " 8   F14a    22072 non-null  object \n",
      " 9   F14b    22072 non-null  object \n",
      " 10  F15     22072 non-null  object \n",
      " 11  F16     22072 non-null  object \n",
      " 12  F17     22072 non-null  object \n",
      " 13  F18a_2  22072 non-null  object \n",
      " 14  F18b_2  22072 non-null  object \n",
      " 15  F19a_2  22072 non-null  object \n",
      " 16  F19b_2  22072 non-null  object \n",
      " 17  F20     22072 non-null  object \n",
      " 18  J30     22072 non-null  object \n",
      " 19  J31     2223 non-null   float64\n",
      "dtypes: float64(1), object(19)\n",
      "memory usage: 3.5+ MB\n"
     ]
    }
   ],
   "source": [
    "adulto2020_socioeconomico.info()"
   ]
  },
  {
   "cell_type": "code",
   "execution_count": 46,
   "id": "a98846e0",
   "metadata": {},
   "outputs": [],
   "source": [
    "for col in adulto2020_socioeconomico.columns:\n",
    "    tipo_columna = adulto2020_socioeconomico[col].dtype\n",
    "    if tipo_columna == 'O':\n",
    "        adulto2020_socioeconomico[col] = pd.to_numeric(adulto2020_socioeconomico[col],\n",
    "                                                            errors='coerce').astype('Int64')"
   ]
  },
  {
   "cell_type": "code",
   "execution_count": 47,
   "id": "d0c2e3aa",
   "metadata": {},
   "outputs": [
    {
     "name": "stdout",
     "output_type": "stream",
     "text": [
      "F6 - 68%\n",
      "F7 - 98%\n",
      "F8_2 - 94%\n",
      "F9_2 - 94%\n",
      "F10 - 94%\n",
      "F11 - 91%\n",
      "F12 - 85%\n",
      "F13 - 56%\n",
      "F14a - 94%\n",
      "F14b - 100%\n",
      "F15 - 56%\n",
      "F16 - 56%\n",
      "F17 - 56%\n",
      "F18a_2 - 56%\n",
      "F18b_2 - 61%\n",
      "F19a_2 - 56%\n",
      "F19b_2 - 61%\n",
      "F20 - 61%\n",
      "J30 - 56%\n",
      "J31 - 90%\n"
     ]
    }
   ],
   "source": [
    "for col in adulto2020_socioeconomico.columns:\n",
    "    pct_missing = np.mean(adulto2020_socioeconomico[col].isnull())\n",
    "    print('{} - {}%'.format(col, round(pct_missing*100)))"
   ]
  },
  {
   "cell_type": "markdown",
   "id": "a2c681b0",
   "metadata": {},
   "source": [
    "Al igual que ocurrió en la encuesta del hogar (subset datos de actividad economica), existe un alto porcentaje de valores missing; por lo tanto, procedemos a descatar igualmente este nivel de detalle del estado laboral del encuestado, y dejamos como valor de referencia el atributo A11_i (Situación laboral actual) de la encuesta del hogar.\n",
    "\n",
    "Pero mantenemos el atributo J30, por estudiar si el individuo ha estado de baja laboral al último año\n",
    "\n",
    "\n",
    "Igualmente, a pesar que tiene aproximadamente al mitad de los registros no posee información de la actividad de la empresa y ocupación, seguiremos utilizando las variables F18a_2, F19a_2 y F20, por si en una correlación futura hay relación con la presencia de deprsión o ansiedad"
   ]
  },
  {
   "cell_type": "code",
   "execution_count": 48,
   "id": "d86c0cc4",
   "metadata": {},
   "outputs": [],
   "source": [
    "df_economico = adulto2020_socioeconomico[['F18a_2','F19a_2','F20','J30']]"
   ]
  },
  {
   "cell_type": "markdown",
   "id": "b9c66b08",
   "metadata": {},
   "source": [
    "##### 6.2.4 - Subset Determinantes de la Salud"
   ]
  },
  {
   "cell_type": "code",
   "execution_count": 49,
   "id": "5c65072f",
   "metadata": {},
   "outputs": [
    {
     "name": "stdout",
     "output_type": "stream",
     "text": [
      "<class 'pandas.core.frame.DataFrame'>\n",
      "Int64Index: 22072 entries, 2500011 to 4996151\n",
      "Data columns (total 55 columns):\n",
      " #   Column      Non-Null Count  Dtype  \n",
      "---  ------      --------------  -----  \n",
      " 0   R106        22072 non-null  int64  \n",
      " 1   R107        22072 non-null  int64  \n",
      " 2   R108_1      22072 non-null  int64  \n",
      " 3   R108_2      22072 non-null  int64  \n",
      " 4   R108_3      22072 non-null  int64  \n",
      " 5   R108_4      22072 non-null  int64  \n",
      " 6   T111        22072 non-null  int64  \n",
      " 7   T112        22072 non-null  int64  \n",
      " 8   T113        22072 non-null  int64  \n",
      " 9   T114        22072 non-null  object \n",
      " 10  T115        22072 non-null  int64  \n",
      " 11  T116        22072 non-null  object \n",
      " 12  T117        22072 non-null  int64  \n",
      " 13  T118_1      10294 non-null  float64\n",
      " 14  T118_2      10294 non-null  float64\n",
      " 15  T119        22072 non-null  int64  \n",
      " 16  T119b_1     22072 non-null  int64  \n",
      " 17  T119b_2     22072 non-null  int64  \n",
      " 18  U120_1      22072 non-null  int64  \n",
      " 19  U120_1a     15510 non-null  float64\n",
      " 20  U120_2      22072 non-null  int64  \n",
      " 21  U120_3      22072 non-null  int64  \n",
      " 22  U120_4      22072 non-null  int64  \n",
      " 23  U120_5      22072 non-null  int64  \n",
      " 24  U120_6      22072 non-null  int64  \n",
      " 25  U120_7      22072 non-null  int64  \n",
      " 26  U120_7a     9716 non-null   float64\n",
      " 27  U120_8      22072 non-null  int64  \n",
      " 28  U120_9      22072 non-null  int64  \n",
      " 29  U120_10     22072 non-null  int64  \n",
      " 30  U120_11     22072 non-null  int64  \n",
      " 31  U120_12     22072 non-null  int64  \n",
      " 32  U120_13     22072 non-null  int64  \n",
      " 33  U120_14     22072 non-null  int64  \n",
      " 34  U120_15     22072 non-null  int64  \n",
      " 35  U120_15a    2262 non-null   float64\n",
      " 36  U120FZ      22072 non-null  object \n",
      " 37  U120CANTFZ  111 non-null    float64\n",
      " 38  V121        22072 non-null  int64  \n",
      " 39  V123        4178 non-null   float64\n",
      " 40  V124        4178 non-null   float64\n",
      " 41  V124a       22072 non-null  object \n",
      " 42  V124b       9176 non-null   float64\n",
      " 43  V126        22072 non-null  int64  \n",
      " 44  V126a       22072 non-null  object \n",
      " 45  V126b       22072 non-null  int64  \n",
      " 46  V126c       22072 non-null  object \n",
      " 47  W127        22072 non-null  int64  \n",
      " 48  W129        22072 non-null  object \n",
      " 49  X130        22072 non-null  int64  \n",
      " 50  X131        22072 non-null  int64  \n",
      " 51  X132        22072 non-null  int64  \n",
      " 52  Y133        22072 non-null  int64  \n",
      " 53  Y134        22072 non-null  object \n",
      " 54  Y135        22072 non-null  object \n",
      "dtypes: float64(9), int64(37), object(9)\n",
      "memory usage: 9.4+ MB\n"
     ]
    }
   ],
   "source": [
    "adulto2020_DeterminantesSalud.info()"
   ]
  },
  {
   "cell_type": "code",
   "execution_count": 50,
   "id": "d7d8a872",
   "metadata": {},
   "outputs": [],
   "source": [
    "for col in adulto2020_DeterminantesSalud.columns:\n",
    "    tipo_columna = adulto2020_DeterminantesSalud[col].dtype\n",
    "    if tipo_columna == 'O':\n",
    "        adulto2020_DeterminantesSalud[col] = pd.to_numeric(adulto2020_DeterminantesSalud[col],\n",
    "                                                            errors='coerce').astype('Int64')"
   ]
  },
  {
   "cell_type": "code",
   "execution_count": 51,
   "id": "6b7df60e",
   "metadata": {},
   "outputs": [
    {
     "name": "stdout",
     "output_type": "stream",
     "text": [
      "R106 - 0%\n",
      "R107 - 0%\n",
      "R108_1 - 0%\n",
      "R108_2 - 0%\n",
      "R108_3 - 0%\n",
      "R108_4 - 0%\n",
      "T111 - 0%\n",
      "T112 - 0%\n",
      "T113 - 0%\n",
      "T114 - 14%\n",
      "T115 - 0%\n",
      "T116 - 93%\n",
      "T117 - 0%\n",
      "T118_1 - 53%\n",
      "T118_2 - 53%\n",
      "T119 - 0%\n",
      "T119b_1 - 0%\n",
      "T119b_2 - 0%\n",
      "U120_1 - 0%\n",
      "U120_1a - 30%\n",
      "U120_2 - 0%\n",
      "U120_3 - 0%\n",
      "U120_4 - 0%\n",
      "U120_5 - 0%\n",
      "U120_6 - 0%\n",
      "U120_7 - 0%\n",
      "U120_7a - 56%\n",
      "U120_8 - 0%\n",
      "U120_9 - 0%\n",
      "U120_10 - 0%\n",
      "U120_11 - 0%\n",
      "U120_12 - 0%\n",
      "U120_13 - 0%\n",
      "U120_14 - 0%\n",
      "U120_15 - 0%\n",
      "U120_15a - 90%\n",
      "U120FZ - 99%\n",
      "U120CANTFZ - 99%\n",
      "V121 - 0%\n",
      "V123 - 81%\n",
      "V124 - 81%\n",
      "V124a - 19%\n",
      "V124b - 58%\n",
      "V126 - 0%\n",
      "V126a - 93%\n",
      "V126b - 0%\n",
      "V126c - 99%\n",
      "W127 - 0%\n",
      "W129 - 35%\n",
      "X130 - 0%\n",
      "X131 - 0%\n",
      "X132 - 0%\n",
      "Y133 - 0%\n",
      "Y134 - 90%\n",
      "Y135 - 90%\n"
     ]
    }
   ],
   "source": [
    "for col in adulto2020_DeterminantesSalud.columns:\n",
    "    pct_missing = np.mean(adulto2020_DeterminantesSalud[col].isnull())\n",
    "    print('{} - {}%'.format(col, round(pct_missing*100)))"
   ]
  },
  {
   "cell_type": "code",
   "execution_count": 52,
   "id": "600665bb",
   "metadata": {},
   "outputs": [],
   "source": [
    "# las preguntas Rxxx, estan relacionadas con atención médica no cubierta, crearemos un nuevo atributo resumen\n",
    "#donde se indique SI (1) o NO (2) el encuestado se a visto afectado por este supuesto\n",
    "adulto2020_DeterminantesSalud['R_Sum'] = np.where((adulto2020_DeterminantesSalud['R106'] == 1) | \n",
    "                                                   (adulto2020_DeterminantesSalud['R107'] == 1) |\n",
    "                                                   (adulto2020_DeterminantesSalud['R108_1'] == 1) |\n",
    "                                                   (adulto2020_DeterminantesSalud['R108_2'] == 1) |\n",
    "                                                   (adulto2020_DeterminantesSalud['R108_3'] == 1) |\n",
    "                                                   (adulto2020_DeterminantesSalud['R108_4'] == 1),1,2)"
   ]
  },
  {
   "cell_type": "code",
   "execution_count": 53,
   "id": "1bec66a4",
   "metadata": {},
   "outputs": [],
   "source": [
    "#Eliminamos columnas sumarizadas\n",
    "adulto2020_DeterminantesSalud.drop(['R106','R107','R108_1','R108_2','R108_3','R108_3','R108_4'],\n",
    "                                   axis=1,inplace=True)"
   ]
  },
  {
   "cell_type": "code",
   "execution_count": 54,
   "id": "c2d351e5",
   "metadata": {},
   "outputs": [],
   "source": [
    "# En lo relacionado con la actividad física, vamos a quedarnos solo con los atributos que determinan, que tipo\n",
    "#de actividad se hace en el trabajo, y con que frecuencia se hace actividad física en el tiempo libre\n",
    "adulto2020_DeterminantesSalud.drop(['T113','T114','T115','T116','T117','T118_1','T118_2','T119','T119b_1',\n",
    "                                    'T119b_2'],axis=1,inplace=True)"
   ]
  },
  {
   "cell_type": "code",
   "execution_count": 55,
   "id": "3f888a9d",
   "metadata": {},
   "outputs": [],
   "source": [
    "#Eliminamos columnas relacionadas con alimentacion que contiene y alto porcentaje de missing_values, o son\n",
    "#irrelevantes por su contexto\n",
    "adulto2020_DeterminantesSalud.drop(['U120_1a','U120_7a','U120_15a','U120FZ','U120CANTFZ'],axis=1,inplace=True)"
   ]
  },
  {
   "cell_type": "code",
   "execution_count": 56,
   "id": "452c1fb2",
   "metadata": {},
   "outputs": [],
   "source": [
    "# Unificamos mediante un promedio, los atributos relacionados con el consumo de fruta\n",
    "adulto2020_DeterminantesSalud['U_fruta_Avg'] = (adulto2020_DeterminantesSalud.U120_1 +\n",
    "adulto2020_DeterminantesSalud.U120_15)/2\n",
    "adulto2020_DeterminantesSalud['U_fruta_Avg'] = adulto2020_DeterminantesSalud['U_fruta_Avg'].astype(int)\n",
    "adulto2020_DeterminantesSalud.drop(['U120_1','U120_15'],axis=1,inplace=True)"
   ]
  },
  {
   "cell_type": "code",
   "execution_count": 57,
   "id": "7fef6cc1",
   "metadata": {},
   "outputs": [],
   "source": [
    "# Realizamos la misma transformación para otras otras variables de consumo de alimentos\n",
    "#Alimentos Ultraprocesados\n",
    "adulto2020_DeterminantesSalud['U_NoFood_Avg'] = (adulto2020_DeterminantesSalud.U120_9 +\n",
    "adulto2020_DeterminantesSalud.U120_11 + adulto2020_DeterminantesSalud.U120_12 +\n",
    "adulto2020_DeterminantesSalud.U120_13 + adulto2020_DeterminantesSalud.U120_14)/5\n",
    "adulto2020_DeterminantesSalud['U_NoFood_Avg'] = adulto2020_DeterminantesSalud['U_NoFood_Avg'].astype(int)\n",
    "adulto2020_DeterminantesSalud.drop(['U120_9','U120_11','U120_12','U120_13','U120_14'],axis=1,inplace=True)"
   ]
  },
  {
   "cell_type": "code",
   "execution_count": 58,
   "id": "e3f009cb",
   "metadata": {},
   "outputs": [],
   "source": [
    "#Alimentos Huevos y Lacteos\n",
    "adulto2020_DeterminantesSalud['U_HuLac_Avg'] = (adulto2020_DeterminantesSalud.U120_3 +\n",
    "adulto2020_DeterminantesSalud.U120_10)/2\n",
    "adulto2020_DeterminantesSalud['U_HuLac_Avg'] = adulto2020_DeterminantesSalud['U_HuLac_Avg'].astype(int)\n",
    "adulto2020_DeterminantesSalud.drop(['U120_3','U120_10'],axis=1,inplace=True)"
   ]
  },
  {
   "cell_type": "code",
   "execution_count": 59,
   "id": "7634ffd6",
   "metadata": {},
   "outputs": [],
   "source": [
    "#Alimentos Carbohidratos\n",
    "adulto2020_DeterminantesSalud['U_Carb_Avg'] = (adulto2020_DeterminantesSalud.U120_5 +\n",
    "adulto2020_DeterminantesSalud.U120_6)/2\n",
    "adulto2020_DeterminantesSalud['U_Carb_Avg'] = adulto2020_DeterminantesSalud['U_Carb_Avg'].astype(int)\n",
    "adulto2020_DeterminantesSalud.drop(['U120_5','U120_6'],axis=1,inplace=True)"
   ]
  },
  {
   "cell_type": "code",
   "execution_count": 60,
   "id": "bd8b6fec",
   "metadata": {},
   "outputs": [],
   "source": [
    "#Analisis sobre Consumo de Tabaco, solo nos aportaría información si fuma y su frecuencia, por lo que dejamos \n",
    "#solo la variable V121\n",
    "adulto2020_DeterminantesSalud.drop(['V123','V124','V124a','V124b','V126','V126a','V126b','V126c'],\n",
    "                                   axis=1,inplace=True)"
   ]
  },
  {
   "cell_type": "code",
   "execution_count": 61,
   "id": "381058f3",
   "metadata": {},
   "outputs": [],
   "source": [
    "#Analisis de consumo de alcohol, igualmente nos quedamos solo con la frecuencia de consumo W127\n",
    "adulto2020_DeterminantesSalud.drop('W129',axis=1,inplace=True)"
   ]
  },
  {
   "cell_type": "code",
   "execution_count": 62,
   "id": "80991de8",
   "metadata": {},
   "outputs": [],
   "source": [
    "#Analisis de Apoyo Social y Cuidado de Personas\n",
    "#Descartamos la variable Y134, porque en principio no aporta el parentesco de a quien se cuida.\n",
    "#La variable Y135, posee un alto porcentaje de missing, pero aporta información de cuantas horas dedica el\n",
    "#encuestado al cuidado; podemos completarlo con el valor por defecto \"No Contesta (9)\"\n",
    "adulto2020_DeterminantesSalud.drop('Y134',axis=1,inplace=True)\n",
    "adulto2020_DeterminantesSalud['Y135'] = adulto2020_DeterminantesSalud['Y135'].fillna(9)"
   ]
  },
  {
   "cell_type": "code",
   "execution_count": 63,
   "id": "398708e4",
   "metadata": {},
   "outputs": [
    {
     "name": "stdout",
     "output_type": "stream",
     "text": [
      "<class 'pandas.core.frame.DataFrame'>\n",
      "Int64Index: 22072 entries, 2500011 to 4996151\n",
      "Data columns (total 18 columns):\n",
      " #   Column        Non-Null Count  Dtype\n",
      "---  ------        --------------  -----\n",
      " 0   T111          22072 non-null  int64\n",
      " 1   T112          22072 non-null  int64\n",
      " 2   U120_2        22072 non-null  int64\n",
      " 3   U120_4        22072 non-null  int64\n",
      " 4   U120_7        22072 non-null  int64\n",
      " 5   U120_8        22072 non-null  int64\n",
      " 6   V121          22072 non-null  int64\n",
      " 7   W127          22072 non-null  int64\n",
      " 8   X130          22072 non-null  int64\n",
      " 9   X131          22072 non-null  int64\n",
      " 10  X132          22072 non-null  int64\n",
      " 11  Y133          22072 non-null  int64\n",
      " 12  Y135          22072 non-null  Int64\n",
      " 13  R_Sum         22072 non-null  int64\n",
      " 14  U_fruta_Avg   22072 non-null  int64\n",
      " 15  U_NoFood_Avg  22072 non-null  int64\n",
      " 16  U_HuLac_Avg   22072 non-null  int64\n",
      " 17  U_Carb_Avg    22072 non-null  int64\n",
      "dtypes: Int64(1), int64(17)\n",
      "memory usage: 3.2 MB\n"
     ]
    }
   ],
   "source": [
    "adulto2020_DeterminantesSalud.info()"
   ]
  },
  {
   "cell_type": "code",
   "execution_count": 64,
   "id": "ac72f4cf",
   "metadata": {},
   "outputs": [],
   "source": [
    "#Para estandarizar los df que luego seran concatentados en el dataset individuos\n",
    "df_determinante = adulto2020_DeterminantesSalud"
   ]
  },
  {
   "cell_type": "markdown",
   "id": "85173658",
   "metadata": {},
   "source": [
    "##### 6.2.5 - Subset Estado de Salud"
   ]
  },
  {
   "cell_type": "code",
   "execution_count": 65,
   "id": "41d0b07b",
   "metadata": {},
   "outputs": [
    {
     "name": "stdout",
     "output_type": "stream",
     "text": [
      "<class 'pandas.core.frame.DataFrame'>\n",
      "Int64Index: 22072 entries, 2500011 to 4996151\n",
      "Columns: 128 entries, G21 to L46\n",
      "dtypes: int64(42), object(86)\n",
      "memory usage: 21.7+ MB\n"
     ]
    }
   ],
   "source": [
    "adulto2020_EstadoSalud.info()"
   ]
  },
  {
   "cell_type": "markdown",
   "id": "60df09ed",
   "metadata": {},
   "source": [
    "De entrada vemos que como es un alto número de atributos, no observamos el detalle de cada uno de ellos.\n",
    "\n",
    "Esta situación nos podría servier de partida para hacer un análisis de este dataset buscando reducir su dimensionalidad"
   ]
  },
  {
   "cell_type": "code",
   "execution_count": 66,
   "id": "ab41a42c",
   "metadata": {},
   "outputs": [],
   "source": [
    "for col in adulto2020_EstadoSalud.columns:\n",
    "    tipo_columna = adulto2020_EstadoSalud[col].dtype\n",
    "    if tipo_columna == 'O':\n",
    "        adulto2020_EstadoSalud[col] = pd.to_numeric(adulto2020_EstadoSalud[col],errors='coerce').astype('Int64')"
   ]
  },
  {
   "cell_type": "code",
   "execution_count": 67,
   "id": "c70a7d62",
   "metadata": {},
   "outputs": [
    {
     "name": "stdout",
     "output_type": "stream",
     "text": [
      "<class 'pandas.core.frame.DataFrame'>\n",
      "Int64Index: 22072 entries, 2500011 to 4996151\n",
      "Columns: 128 entries, G21 to L46\n",
      "dtypes: Int64(86), int64(42)\n",
      "memory usage: 23.5 MB\n"
     ]
    }
   ],
   "source": [
    "adulto2020_EstadoSalud.info()"
   ]
  },
  {
   "cell_type": "code",
   "execution_count": 68,
   "id": "38af48ec",
   "metadata": {},
   "outputs": [
    {
     "name": "stdout",
     "output_type": "stream",
     "text": [
      "G21 - 0%\n",
      "G22 - 0%\n",
      "G23 - 0%\n",
      "G24 - 72%\n",
      "G24a - 0%\n",
      "G25a_1 - 0%\n",
      "G25b_1 - 72%\n",
      "G25c_1 - 72%\n",
      "G25a_2 - 0%\n",
      "G25b_2 - 98%\n",
      "G25c_2 - 98%\n",
      "G25d_2 - 99%\n",
      "G25a_3 - 0%\n",
      "G25b_3 - 98%\n",
      "G25c_3 - 98%\n",
      "G25a_4 - 0%\n",
      "G25b_4 - 93%\n",
      "G25c_4 - 93%\n",
      "G25a_5 - 0%\n",
      "G25b_5 - 85%\n",
      "G25c_5 - 85%\n",
      "G25a_6 - 0%\n",
      "G25b_6 - 79%\n",
      "G25c_6 - 79%\n",
      "G25a_7 - 0%\n",
      "G25b_7 - 84%\n",
      "G25c_7 - 84%\n",
      "G25a_8 - 0%\n",
      "G25b_8 - 81%\n",
      "G25c_8 - 81%\n",
      "G25a_9 - 0%\n",
      "G25b_9 - 87%\n",
      "G25c_9 - 87%\n",
      "G25a_10 - 0%\n",
      "G25b_10 - 95%\n",
      "G25c_10 - 95%\n",
      "G25a_11 - 0%\n",
      "G25b_11 - 96%\n",
      "G25c_11 - 96%\n",
      "G25a_12 - 0%\n",
      "G25b_12 - 90%\n",
      "G25c_12 - 90%\n",
      "G25a_13 - 0%\n",
      "G25b_13 - 97%\n",
      "G25c_13 - 97%\n",
      "G25a_14 - 0%\n",
      "G25b_14 - 95%\n",
      "G25c_14 - 95%\n",
      "G25a_15 - 0%\n",
      "G25b_15 - 78%\n",
      "G25c_15 - 78%\n",
      "G25a_16 - 0%\n",
      "G25b_16 - 87%\n",
      "G25c_16 - 87%\n",
      "G25a_17 - 0%\n",
      "G25b_17 - 95%\n",
      "G25c_17 - 95%\n",
      "G25a_18 - 0%\n",
      "G25b_18 - 96%\n",
      "G25c_18 - 96%\n",
      "G25a_19 - 0%\n",
      "G25b_19 - 99%\n",
      "G25c_19 - 99%\n",
      "G25a_22 - 0%\n",
      "G25b_22 - 98%\n",
      "G25c_22 - 98%\n",
      "G25a_23 - 0%\n",
      "G25b_23 - 98%\n",
      "G25c_23 - 98%\n",
      "G25d_23 - 99%\n",
      "G25a_24 - 0%\n",
      "G25b_24 - 91%\n",
      "G25c_24 - 91%\n",
      "G25a_25 - 0%\n",
      "G25b_25 - 93%\n",
      "G25c_25 - 93%\n",
      "G25a_26 - 0%\n",
      "G25b_26 - 95%\n",
      "G25c_26 - 95%\n",
      "G25a_27 - 0%\n",
      "G25b_27 - 95%\n",
      "G25c_27 - 95%\n",
      "G25a_28 - 0%\n",
      "G25b_28 - 93%\n",
      "G25c_28 - 93%\n",
      "G25a_29 - 0%\n",
      "G25b_29 - 96%\n",
      "G25c_29 - 96%\n",
      "G25a_30 - 53%\n",
      "G25b_30 - 96%\n",
      "G25c_30 - 96%\n",
      "G25a_31 - 47%\n",
      "G25b_31 - 97%\n",
      "G25c_31 - 97%\n",
      "G25a_32 - 0%\n",
      "G25b_32 - 95%\n",
      "G25c_32 - 95%\n",
      "H26_1 - 0%\n",
      "H26_2 - 0%\n",
      "H26_3 - 0%\n",
      "H27 - 94%\n",
      "K32 - 0%\n",
      "K33 - 0%\n",
      "K34 - 0%\n",
      "K35 - 0%\n",
      "K36 - 0%\n",
      "K37 - 0%\n",
      "K38 - 0%\n",
      "K38a - 0%\n",
      "K38b - 50%\n",
      "L39_1 - 50%\n",
      "L39_2 - 50%\n",
      "L39_3 - 50%\n",
      "L39_4 - 50%\n",
      "L39_5 - 50%\n",
      "L40 - 93%\n",
      "L41 - 93%\n",
      "L42_1 - 50%\n",
      "L42_2 - 50%\n",
      "L42_3 - 50%\n",
      "L42_4 - 50%\n",
      "L42_5 - 50%\n",
      "L42_6 - 50%\n",
      "L42_7 - 50%\n",
      "L43 - 83%\n",
      "L44 - 83%\n",
      "L45 - 0%\n",
      "L46 - 0%\n"
     ]
    }
   ],
   "source": [
    "for col in adulto2020_EstadoSalud.columns:\n",
    "    pct_missing = np.mean(adulto2020_EstadoSalud[col].isnull())\n",
    "    print('{} - {}%'.format(col, round(pct_missing*100)))"
   ]
  },
  {
   "cell_type": "markdown",
   "id": "94cc44eb",
   "metadata": {},
   "source": [
    "Al tener un gran numero de atributos, vamos a ir analizando por seccion"
   ]
  },
  {
   "cell_type": "code",
   "execution_count": 69,
   "id": "ee46dbf2",
   "metadata": {},
   "outputs": [],
   "source": [
    "#Accidentalidad (Hx)\n",
    "#Descartamos H27, porque es un detalle que no aporta en el analisis, y creamos una variable transformada\n",
    "#agrupando los tipos de accidente\n",
    "adulto2020_EstadoSalud['H_Sum'] = np.where((adulto2020_EstadoSalud['H26_1'] == 1) | \n",
    "                                                   (adulto2020_EstadoSalud['H26_2'] == 1) |\n",
    "                                                   (adulto2020_EstadoSalud['H26_3'] == 1),1,2)\n",
    "adulto2020_EstadoSalud.drop(['H26_1','H26_2','H26_3','H27'],axis=1,inplace=True)"
   ]
  },
  {
   "cell_type": "code",
   "execution_count": 70,
   "id": "3c3540da",
   "metadata": {},
   "outputs": [],
   "source": [
    "#Limitaciones físicas y sensoriales\n",
    "#Creamos igualmemte una variable transformada que agrupe la existencia de limitaciones físicas y sensoriales\n",
    "# y mantenemos la variable K38a, que trata sobre la dificultad de concentrarse\n",
    "adulto2020_EstadoSalud['K_Sum'] = np.where((adulto2020_EstadoSalud['K32'] == 1) | \n",
    "                                                   (adulto2020_EstadoSalud['K34'] == 1) |\n",
    "                                                   (adulto2020_EstadoSalud['K37'] == 1) |\n",
    "                                                   (adulto2020_EstadoSalud['K38'] == 1),1,2)\n",
    "adulto2020_EstadoSalud.drop(['K32','K33','K33','K34','K35','K36','K37','K38','K38b'],axis=1,inplace=True)"
   ]
  },
  {
   "cell_type": "code",
   "execution_count": 71,
   "id": "71c876af",
   "metadata": {},
   "outputs": [],
   "source": [
    "#Limitaciones en la Actividad Diaria\n",
    "#La mayoria de los atributos contienen un alto porcentaje de missings, en este punto solo eliminaremos los que\n",
    "#consideramos que no aportan valor o con mas de 90% de missing values\n",
    "adulto2020_EstadoSalud.drop(['L39_2','L40','L41','L43','L44'],axis=1,inplace=True)"
   ]
  },
  {
   "cell_type": "markdown",
   "id": "1a7e1d48",
   "metadata": {},
   "source": [
    "A continuación analizaremos los atributos específicos relacionados con las enfermedades; la encuesta_individuo preguntó sobre 30 tipos distintos.\n",
    "\n",
    "Para simplificar el estudio procedemos a:\n",
    "* Borrar si fueron diagnosticadas los últimos 12 meses; es un indicador que solo nos interesa para el caso de la ansiedad y la depresión.\n",
    "* Crear un atributo que indique si la enfermedad está presente y si fue diagnosticada por un médico"
   ]
  },
  {
   "cell_type": "code",
   "execution_count": 72,
   "id": "356ed18b",
   "metadata": {},
   "outputs": [],
   "source": [
    "adulto2020_EstadoSalud.drop(['G25b_1','G25b_2','G25b_3','G25b_4','G25b_5','G25b_6','G25b_7','G25b_8','G25b_9',\n",
    "                            'G25b_10','G25b_11','G25b_12','G25b_13','G25b_14','G25b_15','G25b_16','G25b_17',\n",
    "                             'G25b_18','G25b_19','G25b_22','G25b_23','G25b_24','G25b_25','G25b_26','G25b_27',\n",
    "                             'G25b_28','G25b_29','G25b_30','G25b_31','G25b_32','G25d_2','G25d_23']\n",
    "                            ,axis=1,inplace=True)"
   ]
  },
  {
   "cell_type": "code",
   "execution_count": 73,
   "id": "391a4a86",
   "metadata": {},
   "outputs": [],
   "source": [
    "diag_col = ['G25c_1','G25c_2','G25c_3','G25c_4','G25c_5','G25c_6','G25c_7','G25c_8','G25c_9','G25c_10','G25c_11',\n",
    "            'G25c_12','G25c_13','G25c_14','G25c_15','G25c_16','G25c_17','G25c_18','G25c_19','G25c_22','G25c_23',\n",
    "            'G25c_24','G25c_25','G25c_26','G25c_27','G25c_28','G25c_29','G25c_30','G25c_31','G25c_32']"
   ]
  },
  {
   "cell_type": "code",
   "execution_count": 74,
   "id": "11836b03",
   "metadata": {},
   "outputs": [],
   "source": [
    "# Se completan valores nulos con 0 ya que estos son generados cuando no se presenta la enfermedad encuestada\n",
    "for col in diag_col:\n",
    "    adulto2020_EstadoSalud[col].fillna(0, inplace=True)"
   ]
  },
  {
   "cell_type": "code",
   "execution_count": 75,
   "id": "7ab706e4",
   "metadata": {},
   "outputs": [],
   "source": [
    "enf_col = ['G25a_1','G25a_2','G25a_3','G25a_4','G25a_5','G25a_6','G25a_7','G25a_8','G25a_9','G25a_10','G25a_11',\n",
    "            'G25a_12','G25a_13','G25a_14','G25a_15','G25a_16','G25a_17','G25a_18','G25a_19','G25a_22','G25a_23',\n",
    "            'G25a_24','G25a_25','G25a_26','G25a_27','G25a_28','G25a_29','G25a_30','G25a_31','G25a_32']"
   ]
  },
  {
   "cell_type": "code",
   "execution_count": 76,
   "id": "c90c390e",
   "metadata": {},
   "outputs": [],
   "source": [
    "#Enfermedades en la prostata y menopauisa, generan null_values según el genero del encuestado; sustituimos por \n",
    "#(2) no presenta la enfermedad\n",
    "for col in enf_col:\n",
    "    adulto2020_EstadoSalud[col].fillna(2, inplace=True)"
   ]
  },
  {
   "cell_type": "markdown",
   "id": "94e9d408",
   "metadata": {},
   "source": [
    "Se procede a crear la variable transformada con estas condiciones:\n",
    "* SI enfermedad & SI diagnosticada = Enfermedad Diagnosticada (1)\n",
    "* SI enfermedad & NO diagnosticada = Enfermedad No Diagnosticada (3)\n",
    "* SI enfermedad & NO sabe/NoContesta diagnosticada = Enfermedad No Diagnosticada (3)\n",
    "* NO enfermedad = No enfermedad (2)"
   ]
  },
  {
   "cell_type": "code",
   "execution_count": 77,
   "id": "48dfb42a",
   "metadata": {},
   "outputs": [],
   "source": [
    "#Funciones creadas en utilidades.py\n",
    "adulto2020_EstadoSalud['G25_1'] = adulto2020_EstadoSalud.apply(ut.tension_alta, axis=1)\n",
    "adulto2020_EstadoSalud['G25_2'] = adulto2020_EstadoSalud.apply(ut.infarto, axis=1)\n",
    "adulto2020_EstadoSalud['G25_3'] = adulto2020_EstadoSalud.apply(ut.angina, axis=1)\n",
    "adulto2020_EstadoSalud['G25_4'] = adulto2020_EstadoSalud.apply(ut.otros_corazon, axis=1)\n",
    "adulto2020_EstadoSalud['G25_5'] = adulto2020_EstadoSalud.apply(ut.varices, axis=1)\n",
    "adulto2020_EstadoSalud['G25_6'] = adulto2020_EstadoSalud.apply(ut.artrosis, axis=1)\n",
    "adulto2020_EstadoSalud['G25_7'] = adulto2020_EstadoSalud.apply(ut.cervical, axis=1)\n",
    "adulto2020_EstadoSalud['G25_8'] = adulto2020_EstadoSalud.apply(ut.lumbar, axis=1)\n",
    "adulto2020_EstadoSalud['G25_9'] = adulto2020_EstadoSalud.apply(ut.alergia, axis=1)\n",
    "adulto2020_EstadoSalud['G25_10'] = adulto2020_EstadoSalud.apply(ut.asma, axis=1)\n",
    "adulto2020_EstadoSalud['G25_11'] = adulto2020_EstadoSalud.apply(ut.bronquitis, axis=1)\n",
    "adulto2020_EstadoSalud['G25_12'] = adulto2020_EstadoSalud.apply(ut.diabetes, axis=1)\n",
    "adulto2020_EstadoSalud['G25_13'] = adulto2020_EstadoSalud.apply(ut.ulcera, axis=1)\n",
    "adulto2020_EstadoSalud['G25_14'] = adulto2020_EstadoSalud.apply(ut.urinaria, axis=1)\n",
    "adulto2020_EstadoSalud['G25_15'] = adulto2020_EstadoSalud.apply(ut.colesterol, axis=1)\n",
    "adulto2020_EstadoSalud['G25_16'] = adulto2020_EstadoSalud.apply(ut.cataratas, axis=1)\n",
    "adulto2020_EstadoSalud['G25_17'] = adulto2020_EstadoSalud.apply(ut.dermatitis, axis=1)\n",
    "adulto2020_EstadoSalud['G25_18'] = adulto2020_EstadoSalud.apply(ut.estrenimiento, axis=1)\n",
    "adulto2020_EstadoSalud['G25_19'] = adulto2020_EstadoSalud.apply(ut.cirrosis, axis=1)\n",
    "adulto2020_EstadoSalud['G25_22'] = adulto2020_EstadoSalud.apply(ut.otros_mental, axis=1)\n",
    "adulto2020_EstadoSalud['G25_23'] = adulto2020_EstadoSalud.apply(ut.ictus, axis=1)\n",
    "adulto2020_EstadoSalud['G25_24'] = adulto2020_EstadoSalud.apply(ut.migrana, axis=1)\n",
    "adulto2020_EstadoSalud['G25_25'] = adulto2020_EstadoSalud.apply(ut.hemorroides, axis=1)\n",
    "adulto2020_EstadoSalud['G25_26'] = adulto2020_EstadoSalud.apply(ut.tumores, axis=1)\n",
    "adulto2020_EstadoSalud['G25_27'] = adulto2020_EstadoSalud.apply(ut.osteoporosis, axis=1)\n",
    "adulto2020_EstadoSalud['G25_28'] = adulto2020_EstadoSalud.apply(ut.tiroides, axis=1)\n",
    "adulto2020_EstadoSalud['G25_29'] = adulto2020_EstadoSalud.apply(ut.rinon, axis=1)\n",
    "adulto2020_EstadoSalud['G25_30'] = adulto2020_EstadoSalud.apply(ut.prostata, axis=1)\n",
    "adulto2020_EstadoSalud['G25_31'] = adulto2020_EstadoSalud.apply(ut.meonopausia, axis=1)\n",
    "adulto2020_EstadoSalud['G25_32'] = adulto2020_EstadoSalud.apply(ut.lesiones, axis=1)"
   ]
  },
  {
   "cell_type": "code",
   "execution_count": 78,
   "id": "e191aa04",
   "metadata": {},
   "outputs": [],
   "source": [
    "adulto2020_EstadoSalud.drop(diag_col,axis=1,inplace=True)\n",
    "adulto2020_EstadoSalud.drop(enf_col,axis=1,inplace=True)"
   ]
  },
  {
   "cell_type": "code",
   "execution_count": 79,
   "id": "75e90b0a",
   "metadata": {},
   "outputs": [
    {
     "name": "stdout",
     "output_type": "stream",
     "text": [
      "<class 'pandas.core.frame.DataFrame'>\n",
      "Int64Index: 22072 entries, 2500011 to 4996151\n",
      "Data columns (total 51 columns):\n",
      " #   Column  Non-Null Count  Dtype\n",
      "---  ------  --------------  -----\n",
      " 0   G21     22072 non-null  int64\n",
      " 1   G22     22072 non-null  int64\n",
      " 2   G23     22072 non-null  int64\n",
      " 3   G24     6106 non-null   Int64\n",
      " 4   G24a    22072 non-null  int64\n",
      " 5   K38a    22072 non-null  int64\n",
      " 6   L39_1   11102 non-null  Int64\n",
      " 7   L39_3   11102 non-null  Int64\n",
      " 8   L39_4   11102 non-null  Int64\n",
      " 9   L39_5   11102 non-null  Int64\n",
      " 10  L42_1   11102 non-null  Int64\n",
      " 11  L42_2   11102 non-null  Int64\n",
      " 12  L42_3   11102 non-null  Int64\n",
      " 13  L42_4   11102 non-null  Int64\n",
      " 14  L42_5   11102 non-null  Int64\n",
      " 15  L42_6   11102 non-null  Int64\n",
      " 16  L42_7   11102 non-null  Int64\n",
      " 17  L45     22072 non-null  int64\n",
      " 18  L46     22072 non-null  int64\n",
      " 19  H_Sum   22072 non-null  int64\n",
      " 20  K_Sum   22072 non-null  int64\n",
      " 21  G25_1   22072 non-null  int64\n",
      " 22  G25_2   22072 non-null  int64\n",
      " 23  G25_3   22072 non-null  int64\n",
      " 24  G25_4   22072 non-null  int64\n",
      " 25  G25_5   22072 non-null  int64\n",
      " 26  G25_6   22072 non-null  int64\n",
      " 27  G25_7   22072 non-null  int64\n",
      " 28  G25_8   22072 non-null  int64\n",
      " 29  G25_9   22072 non-null  int64\n",
      " 30  G25_10  22072 non-null  int64\n",
      " 31  G25_11  22072 non-null  int64\n",
      " 32  G25_12  22072 non-null  int64\n",
      " 33  G25_13  22072 non-null  int64\n",
      " 34  G25_14  22072 non-null  int64\n",
      " 35  G25_15  22072 non-null  int64\n",
      " 36  G25_16  22072 non-null  int64\n",
      " 37  G25_17  22072 non-null  int64\n",
      " 38  G25_18  22072 non-null  int64\n",
      " 39  G25_19  22072 non-null  int64\n",
      " 40  G25_22  22072 non-null  int64\n",
      " 41  G25_23  22072 non-null  int64\n",
      " 42  G25_24  22072 non-null  int64\n",
      " 43  G25_25  22072 non-null  int64\n",
      " 44  G25_26  22072 non-null  int64\n",
      " 45  G25_27  22072 non-null  int64\n",
      " 46  G25_28  22072 non-null  int64\n",
      " 47  G25_29  22072 non-null  int64\n",
      " 48  G25_30  22072 non-null  int64\n",
      " 49  G25_31  22072 non-null  int64\n",
      " 50  G25_32  22072 non-null  int64\n",
      "dtypes: Int64(12), int64(39)\n",
      "memory usage: 9.0 MB\n"
     ]
    }
   ],
   "source": [
    "adulto2020_EstadoSalud.info()"
   ]
  },
  {
   "cell_type": "code",
   "execution_count": 80,
   "id": "65dd1b9e",
   "metadata": {},
   "outputs": [],
   "source": [
    "#Para estandarizar los df que luego seran concatentados en el dataset individuos\n",
    "df_estadosalud = adulto2020_EstadoSalud"
   ]
  },
  {
   "cell_type": "markdown",
   "id": "34212049",
   "metadata": {},
   "source": [
    "##### 6.2.6 - Subset Asistencia Sanitaria"
   ]
  },
  {
   "cell_type": "code",
   "execution_count": 81,
   "id": "4416c97f",
   "metadata": {},
   "outputs": [
    {
     "name": "stdout",
     "output_type": "stream",
     "text": [
      "<class 'pandas.core.frame.DataFrame'>\n",
      "Int64Index: 22072 entries, 2500011 to 4996151\n",
      "Columns: 118 entries, N48 to Q104\n",
      "dtypes: float64(12), int64(39), object(67)\n",
      "memory usage: 20.0+ MB\n"
     ]
    }
   ],
   "source": [
    "adulto2020_AsistenciaSanitaria.info()"
   ]
  },
  {
   "cell_type": "code",
   "execution_count": 82,
   "id": "798cb76e",
   "metadata": {},
   "outputs": [],
   "source": [
    "for col in adulto2020_AsistenciaSanitaria.columns:\n",
    "    tipo_columna = adulto2020_AsistenciaSanitaria[col].dtype\n",
    "    if tipo_columna == 'O':\n",
    "        adulto2020_AsistenciaSanitaria[col] = pd.to_numeric(adulto2020_AsistenciaSanitaria[col],\n",
    "                                                            errors='coerce').astype('Int64')"
   ]
  },
  {
   "cell_type": "code",
   "execution_count": 83,
   "id": "f9056a9a",
   "metadata": {},
   "outputs": [
    {
     "name": "stdout",
     "output_type": "stream",
     "text": [
      "<class 'pandas.core.frame.DataFrame'>\n",
      "Int64Index: 22072 entries, 2500011 to 4996151\n",
      "Columns: 118 entries, N48 to Q104\n",
      "dtypes: Int64(67), float64(12), int64(39)\n",
      "memory usage: 21.4 MB\n"
     ]
    }
   ],
   "source": [
    "adulto2020_AsistenciaSanitaria.info()"
   ]
  },
  {
   "cell_type": "code",
   "execution_count": 84,
   "id": "1012ee83",
   "metadata": {},
   "outputs": [],
   "source": [
    "#Los atributos 'float64', pueden ser tambien convertidos en enteros, ya que hacen referencia a atributos con\n",
    "#valores discretos\n",
    "for col in adulto2020_AsistenciaSanitaria.columns:\n",
    "    tipo_columna = adulto2020_AsistenciaSanitaria[col].dtype\n",
    "    if tipo_columna == 'float64':\n",
    "        adulto2020_AsistenciaSanitaria[col] = pd.to_numeric(adulto2020_AsistenciaSanitaria[col],\n",
    "                                                            errors='coerce').astype('Int64')"
   ]
  },
  {
   "cell_type": "code",
   "execution_count": 85,
   "id": "21940b26",
   "metadata": {},
   "outputs": [
    {
     "name": "stdout",
     "output_type": "stream",
     "text": [
      "N48 - 0%\n",
      "N49 - 16%\n",
      "N50 - 0%\n",
      "N51 - 44%\n",
      "N52 - 94%\n",
      "N53 - 73%\n",
      "N54 - 73%\n",
      "N57 - 73%\n",
      "N58_1 - 0%\n",
      "N58_2 - 0%\n",
      "N58_3 - 0%\n",
      "N59 - 0%\n",
      "N60_1 - 0%\n",
      "N60_2 - 0%\n",
      "N60_3 - 0%\n",
      "N60_4 - 0%\n",
      "N60a_1 - 0%\n",
      "N60a_2 - 0%\n",
      "N60a_3 - 0%\n",
      "N60a_4 - 0%\n",
      "N61_1 - 0%\n",
      "N61_2 - 0%\n",
      "N61_3 - 69%\n",
      "N61_4 - 0%\n",
      "N61_5 - 0%\n",
      "N62 - 0%\n",
      "N62b - 86%\n",
      "O66 - 0%\n",
      "O67 - 92%\n",
      "O68 - 92%\n",
      "O69 - 78%\n",
      "O71 - 91%\n",
      "O74 - 91%\n",
      "O75 - 0%\n",
      "O76 - 92%\n",
      "O78 - 0%\n",
      "O79 - 77%\n",
      "O80_1 - 77%\n",
      "O80_2 - 77%\n",
      "O80_3 - 77%\n",
      "O81_1 - 77%\n",
      "O81_2 - 77%\n",
      "O81_3 - 77%\n",
      "O82_1 - 77%\n",
      "O82_2 - 77%\n",
      "O83 - 77%\n",
      "O84_1 - 0%\n",
      "O84_2 - 0%\n",
      "O84_3 - 0%\n",
      "O84_4 - 0%\n",
      "O84_5 - 0%\n",
      "O84_6 - 0%\n",
      "O84_7 - 0%\n",
      "O84_8 - 0%\n",
      "O84_9 - 0%\n",
      "P85 - 0%\n",
      "P86 - 0%\n",
      "P87_1a - 36%\n",
      "P87_1b - 92%\n",
      "P87_2a - 36%\n",
      "P87_2b - 67%\n",
      "P87_3a - 36%\n",
      "P87_3b - 98%\n",
      "P87_4a - 36%\n",
      "P87_4b - 94%\n",
      "P87_5a - 36%\n",
      "P87_5b - 98%\n",
      "P87_6a - 36%\n",
      "P87_6b - 96%\n",
      "P87_7a - 36%\n",
      "P87_7b - 86%\n",
      "P87_8a - 36%\n",
      "P87_8b - 97%\n",
      "P87_9a - 36%\n",
      "P87_9b - 100%\n",
      "P87_10a - 36%\n",
      "P87_10b - 98%\n",
      "P87_11a - 36%\n",
      "P87_11b - 93%\n",
      "P87_12a - 36%\n",
      "P87_12b - 76%\n",
      "P87_13a - 36%\n",
      "P87_13b - 88%\n",
      "P87_14a - 36%\n",
      "P87_14b - 94%\n",
      "P87_15a - 80%\n",
      "P87_15b - 99%\n",
      "P87_16a - 63%\n",
      "P87_16b - 100%\n",
      "P87_17a - 36%\n",
      "P87_17b - 100%\n",
      "P87_18a - 36%\n",
      "P87_18b - 83%\n",
      "P87_19a - 36%\n",
      "P87_19b - 91%\n",
      "P87_20a - 36%\n",
      "P87_20b - 95%\n",
      "P87_21a - 36%\n",
      "P87_21b - 99%\n",
      "P87_22a - 36%\n",
      "P87_22b - 98%\n",
      "P87_23a - 36%\n",
      "P87_23b - 84%\n",
      "Q88 - 0%\n",
      "Q89 - 0%\n",
      "Q90 - 4%\n",
      "Q91 - 0%\n",
      "Q92 - 6%\n",
      "Q93 - 0%\n",
      "Q94 - 7%\n",
      "Q95 - 0%\n",
      "Q96 - 73%\n",
      "Q98 - 0%\n",
      "Q99 - 82%\n",
      "Q100 - 47%\n",
      "Q101 - 64%\n",
      "Q103 - 47%\n",
      "Q104 - 59%\n"
     ]
    }
   ],
   "source": [
    "for col in adulto2020_AsistenciaSanitaria.columns:\n",
    "    pct_missing = np.mean(adulto2020_AsistenciaSanitaria[col].isnull())\n",
    "    print('{} - {}%'.format(col, round(pct_missing*100)))"
   ]
  },
  {
   "cell_type": "markdown",
   "id": "94f34f5a",
   "metadata": {},
   "source": [
    "Al tener un gran numero de atributos, vamos a ir analizando por seccion"
   ]
  },
  {
   "cell_type": "code",
   "execution_count": 86,
   "id": "b999b747",
   "metadata": {},
   "outputs": [],
   "source": [
    "#Consultas Médicas\n",
    "#Descartamos atributos que son son objeto del estudio de la depresión o la ansiedad\n",
    "adulto2020_AsistenciaSanitaria.drop(['N52','N54','N58_1','N59','N60_1','N60_2','N60_3','N60_4','N60a_1',\n",
    "                            'N60a_2','N60a_3','N60a_4','N61_3','N61_4','N61_5','N62','N62b'],axis=1,inplace=True)"
   ]
  },
  {
   "cell_type": "code",
   "execution_count": 87,
   "id": "1f77f014",
   "metadata": {},
   "outputs": [],
   "source": [
    "#Para completar missing_values de los valores de esta sección, los completaremos con el valor de no contesta o\n",
    "#que no ha realizado visitas al médico, según corresponda al atributo\n",
    "adulto2020_AsistenciaSanitaria['N49'] = adulto2020_AsistenciaSanitaria['N49'].fillna(0)\n",
    "adulto2020_AsistenciaSanitaria['N51'] = adulto2020_AsistenciaSanitaria['N51'].fillna(0)\n",
    "adulto2020_AsistenciaSanitaria['N53'] = adulto2020_AsistenciaSanitaria['N53'].fillna(99)\n",
    "adulto2020_AsistenciaSanitaria['N57'] = adulto2020_AsistenciaSanitaria['N57'].fillna(9)"
   ]
  },
  {
   "cell_type": "code",
   "execution_count": 88,
   "id": "babb1f58",
   "metadata": {},
   "outputs": [],
   "source": [
    "#Hospitalizaciones\n",
    "#Descartamos atributos que son son objeto del estudio de la depresióno la ansiedad\n",
    "adulto2020_AsistenciaSanitaria.drop(['O69','O74','O80_1','O80_2','O80_3','O81_1','O81_2','O81_3','O82_1',\n",
    "                            'O82_2'],axis=1,inplace=True)"
   ]
  },
  {
   "cell_type": "code",
   "execution_count": 89,
   "id": "0dc5df30",
   "metadata": {},
   "outputs": [],
   "source": [
    "#Para completar missing_values de los valores de esta sección, los completaremos con el valor de no contesta o\n",
    "#que no ha realizado visitas al médico, según corresponda al atributo\n",
    "adulto2020_AsistenciaSanitaria['O67'] = adulto2020_AsistenciaSanitaria['O67'].fillna(0)\n",
    "adulto2020_AsistenciaSanitaria['O68'] = adulto2020_AsistenciaSanitaria['O68'].fillna(0)\n",
    "adulto2020_AsistenciaSanitaria['O71'] = adulto2020_AsistenciaSanitaria['O71'].fillna(9)\n",
    "adulto2020_AsistenciaSanitaria['O76'] = adulto2020_AsistenciaSanitaria['O76'].fillna(0)\n",
    "adulto2020_AsistenciaSanitaria['O79'] = adulto2020_AsistenciaSanitaria['O79'].fillna(0)\n",
    "adulto2020_AsistenciaSanitaria['O83'] = adulto2020_AsistenciaSanitaria['O83'].fillna(9)"
   ]
  },
  {
   "cell_type": "code",
   "execution_count": 90,
   "id": "b7288ed0",
   "metadata": {},
   "outputs": [],
   "source": [
    "#Consumo de Medicamentos\n",
    "#Solo seguiremos utilizando los atributos que indican si esta consumiendo un medicamente;recetado o no\n",
    "adulto2020_AsistenciaSanitaria.drop(['P85','P86','P87_1b','P87_2b','P87_3b','P87_4b','P87_5b','P87_6b','P87_7b',\n",
    "                                     'P87_8b','P87_9b','P87_10b','P87_11b','P87_12b','P87_13b','P87_14b','P87_15b',\n",
    "                                     'P87_16b','P87_17b','P87_18b','P87_19b','P87_20b','P87_21b','P87_22b',\n",
    "                                     'P87_23b'],axis=1,inplace=True)"
   ]
  },
  {
   "cell_type": "code",
   "execution_count": 91,
   "id": "ec17c4d6",
   "metadata": {},
   "outputs": [],
   "source": [
    "#Ahora creamos una columan sumarizada que indique el número de medicamentos que está consumiendo el individuo\n",
    "consumo_col = ['P87_1a','P87_2a','P87_3a','P87_4a','P87_5a','P87_6a','P87_7a','P87_8a','P87_9a','P87_10a',\n",
    "               'P87_11a','P87_12a','P87_13a','P87_14a','P87_15a','P87_16a','P87_17a','P87_18a','P87_19a','P87_20a',\n",
    "               'P87_21a','P87_22a','P87_23a']"
   ]
  },
  {
   "cell_type": "code",
   "execution_count": 92,
   "id": "2f744c03",
   "metadata": {},
   "outputs": [],
   "source": [
    "#Solo dejamos el valor 1 si esta consumiendo un medicamento\n",
    "#Completamos valores nulos con 0\n",
    "for col in consumo_col:\n",
    "    adulto2020_AsistenciaSanitaria[col].replace({2 : 0, \n",
    "                                                 8 : 0, \n",
    "                                                 9 : 0}, \n",
    "                                                 inplace=True)\n",
    "    adulto2020_AsistenciaSanitaria[col].fillna(0,inplace=True)"
   ]
  },
  {
   "cell_type": "code",
   "execution_count": 93,
   "id": "7ac640f7",
   "metadata": {},
   "outputs": [],
   "source": [
    "adulto2020_AsistenciaSanitaria['P_Sum'] = adulto2020_AsistenciaSanitaria[consumo_col].sum(axis=1).astype('Int64')"
   ]
  },
  {
   "cell_type": "code",
   "execution_count": 94,
   "id": "be2a2571",
   "metadata": {},
   "outputs": [],
   "source": [
    "adulto2020_AsistenciaSanitaria.drop(consumo_col,axis=1,inplace=True)"
   ]
  },
  {
   "cell_type": "code",
   "execution_count": 95,
   "id": "d42cf21f",
   "metadata": {},
   "outputs": [],
   "source": [
    "#Practicas Preventivas\n",
    "#Estros atributos no indican relación con el objeto de este estudio\n",
    "adulto2020_AsistenciaSanitaria.drop(['Q88','Q89','Q90','Q91','Q92','Q93','Q94','Q95','Q96','Q98','Q99','Q100',\n",
    "                                     'Q101','Q103','Q104'],axis=1,inplace=True)"
   ]
  },
  {
   "cell_type": "code",
   "execution_count": 96,
   "id": "31a1eb02",
   "metadata": {},
   "outputs": [],
   "source": [
    "df_AsistenciaSanitaria = adulto2020_AsistenciaSanitaria"
   ]
  },
  {
   "cell_type": "code",
   "execution_count": 97,
   "id": "84f0995d",
   "metadata": {},
   "outputs": [],
   "source": [
    "#Una vez analizados los subsets del conjunto de datos del individuo, procedemos concaterlos en un df_individuo\n",
    "df_individuo = pd.concat([df_generales,df_economico,df_determinante,df_estadosalud,df_AsistenciaSanitaria,\n",
    "                         df_otros_clase,df_clase],axis=1)"
   ]
  },
  {
   "cell_type": "markdown",
   "id": "012259a7",
   "metadata": {},
   "source": [
    "Por último procedemos a crear el Dataset que será utilizado en la siguiente fase del proceso KDD, donde seleccionaremos las características significantes del modelo.\n",
    "\n",
    "Para ello concatenamos los datasets resultantes de la limpieza y análisis de la encuesta_hogar y encuesta_individuo\n",
    "\n",
    "Por ultimo, guardamos un .csv como punto de control"
   ]
  },
  {
   "cell_type": "code",
   "execution_count": 98,
   "id": "aac1fdfb",
   "metadata": {},
   "outputs": [
    {
     "name": "stdout",
     "output_type": "stream",
     "text": [
      "<class 'pandas.core.frame.DataFrame'>\n",
      "Int64Index: 22072 entries, 2500011 to 4996151\n",
      "Columns: 124 entries, CCAA to ANSIEDAD\n",
      "dtypes: Int64(32), float64(1), int64(91)\n",
      "memory usage: 21.7 MB\n"
     ]
    }
   ],
   "source": [
    "df_individuo.info()"
   ]
  },
  {
   "cell_type": "code",
   "execution_count": 99,
   "id": "f5851ae8",
   "metadata": {},
   "outputs": [
    {
     "name": "stdout",
     "output_type": "stream",
     "text": [
      "<class 'pandas.core.frame.DataFrame'>\n",
      "Int64Index: 22072 entries, 2500011 to 4996151\n",
      "Data columns (total 16 columns):\n",
      " #   Column       Non-Null Count  Dtype  \n",
      "---  ------       --------------  -----  \n",
      " 0   ESTRATO      22072 non-null  int64  \n",
      " 1   A11_i        22072 non-null  int64  \n",
      " 2   A12          22072 non-null  int64  \n",
      " 3   FACTORHOGAR  22072 non-null  float64\n",
      " 4   D23_1        22072 non-null  Int64  \n",
      " 5   D23_2        22072 non-null  Int64  \n",
      " 6   D23_3        22072 non-null  Int64  \n",
      " 7   D23_4        22072 non-null  Int64  \n",
      " 8   D23_5        22072 non-null  Int64  \n",
      " 9   D23_6        22072 non-null  Int64  \n",
      " 10  D23_7        22072 non-null  Int64  \n",
      " 11  D23_8        22072 non-null  Int64  \n",
      " 12  D23_9        22072 non-null  Int64  \n",
      " 13  D23_10       22072 non-null  Int64  \n",
      " 14  D23_11       22072 non-null  Int64  \n",
      " 15  D26          22072 non-null  int64  \n",
      "dtypes: Int64(11), float64(1), int64(4)\n",
      "memory usage: 3.1 MB\n"
     ]
    }
   ],
   "source": [
    "df_hogar.info()"
   ]
  },
  {
   "cell_type": "code",
   "execution_count": 100,
   "id": "3efe659c",
   "metadata": {},
   "outputs": [],
   "source": [
    "df_full = pd.concat([df_hogar,df_individuo],axis=1)"
   ]
  },
  {
   "cell_type": "code",
   "execution_count": 101,
   "id": "408ce62b",
   "metadata": {},
   "outputs": [
    {
     "name": "stdout",
     "output_type": "stream",
     "text": [
      "<class 'pandas.core.frame.DataFrame'>\n",
      "Int64Index: 22072 entries, 2500011 to 4996151\n",
      "Columns: 140 entries, ESTRATO to ANSIEDAD\n",
      "dtypes: Int64(43), float64(2), int64(95)\n",
      "memory usage: 24.6 MB\n"
     ]
    }
   ],
   "source": [
    "df_full.info()"
   ]
  },
  {
   "cell_type": "markdown",
   "id": "54a3b399",
   "metadata": {},
   "source": [
    "En esta fase hemos reducido la cantidad de atributos de 473 indicadores a 142"
   ]
  },
  {
   "cell_type": "code",
   "execution_count": 102,
   "id": "89da97f1",
   "metadata": {},
   "outputs": [],
   "source": [
    "df_full.to_csv('full2020_temp.csv')"
   ]
  },
  {
   "cell_type": "markdown",
   "id": "2bb9a8ff",
   "metadata": {},
   "source": [
    "### 7.- Limpieza y Preprocesamiento de los Datos III"
   ]
  },
  {
   "cell_type": "markdown",
   "id": "9a59e9f4",
   "metadata": {},
   "source": [
    "Antes de proceder a la selección de los atributos significativos y el análisis exploratorio, se realiza una última inspección con el conjunto completo de datos"
   ]
  },
  {
   "cell_type": "code",
   "execution_count": 103,
   "id": "0c22f26a",
   "metadata": {},
   "outputs": [
    {
     "name": "stdout",
     "output_type": "stream",
     "text": [
      "<class 'pandas.core.frame.DataFrame'>\n",
      "Int64Index: 22072 entries, 2500011 to 4996151\n",
      "Columns: 140 entries, ESTRATO to ANSIEDAD\n",
      "dtypes: Int64(43), float64(2), int64(95)\n",
      "memory usage: 24.6 MB\n"
     ]
    }
   ],
   "source": [
    "df_full.info()"
   ]
  },
  {
   "cell_type": "markdown",
   "id": "4ac8bffb",
   "metadata": {},
   "source": [
    "Como se comentó anteriormente, se trata de un conjunto de datos de 142 variables, todas ellas numéricas discretas (int64) o numéricas continuas (float64)"
   ]
  },
  {
   "cell_type": "markdown",
   "id": "723b060f",
   "metadata": {},
   "source": [
    "Hay dos atributos que descartamos ya que son estimadores de razón, que aporta solo información en la calibración de la encuesta pero no con la ansiedad o la depresión"
   ]
  },
  {
   "cell_type": "code",
   "execution_count": 104,
   "id": "9bb55254",
   "metadata": {},
   "outputs": [],
   "source": [
    "df_full.drop(['FACTORHOGAR','FACTORADULTO'],axis='columns',inplace=True)"
   ]
  },
  {
   "cell_type": "markdown",
   "id": "ef5d5607",
   "metadata": {},
   "source": [
    "Se realiza una nueva inspección para determinar si siguen apareciendo valores nulos"
   ]
  },
  {
   "cell_type": "code",
   "execution_count": 105,
   "id": "6bac1de3",
   "metadata": {},
   "outputs": [
    {
     "data": {
      "text/plain": [
       "<AxesSubplot:ylabel='IDENTHOGAR'>"
      ]
     },
     "execution_count": 105,
     "metadata": {},
     "output_type": "execute_result"
    },
    {
     "data": {
      "image/png": "[encoded data removed]",
      "text/plain": [
       "<Figure size 864x576 with 2 Axes>"
      ]
     },
     "metadata": {
      "needs_background": "light"
     },
     "output_type": "display_data"
    }
   ],
   "source": [
    "cols = df_full.columns\n",
    "colours = ['#000099', '#ffff00']\n",
    "sns.heatmap(df_full[cols].isnull(), cmap=sns.color_palette(colours))"
   ]
  },
  {
   "cell_type": "code",
   "execution_count": 106,
   "id": "38b0251d",
   "metadata": {},
   "outputs": [
    {
     "name": "stdout",
     "output_type": "stream",
     "text": [
      "Index(['F18a_2', 'F19a_2', 'F20', 'J30', 'G24', 'L39_1', 'L39_3', 'L39_4',\n",
      "       'L39_5', 'L42_1', 'L42_2', 'L42_3', 'L42_4', 'L42_5', 'L42_6', 'L42_7',\n",
      "       'G25b_20', 'G25c_20', 'G25b_21', 'G25c_21'],\n",
      "      dtype='object')\n"
     ]
    },
    {
     "data": {
      "text/plain": [
       "20"
      ]
     },
     "execution_count": 106,
     "metadata": {},
     "output_type": "execute_result"
    }
   ],
   "source": [
    "r = df_full.isnull().any()\n",
    "print (r[r].index)\n",
    "len(r[r].index)"
   ]
  },
  {
   "cell_type": "markdown",
   "id": "1c04edfc",
   "metadata": {},
   "source": [
    "Se observa que aún tenemos 20 atributos con esta condición, por lo que realizamos un tratamiento específico a cada caso. Volvemos a hacer uso de los ficheros de diseño de registro para entender su significado"
   ]
  },
  {
   "cell_type": "markdown",
   "id": "8e71181b",
   "metadata": {},
   "source": [
    "Los atributos Fxx, tienen relación con la actividad económica del individuo, tienen relación entre sí, por lo que completamos los missing_values con la respuesta \"No Contesta\""
   ]
  },
  {
   "cell_type": "code",
   "execution_count": 107,
   "id": "1bea1e16",
   "metadata": {},
   "outputs": [],
   "source": [
    "df_full['F18a_2'] = df_full['F18a_2'].fillna(0)\n",
    "df_full['F19a_2'] = df_full['F19a_2'].fillna(0)\n",
    "df_full['F20'] = df_full['F20'].fillna(9)\n",
    "df_full['J30'] = df_full['J30'].fillna(9)"
   ]
  },
  {
   "cell_type": "markdown",
   "id": "17221bbf",
   "metadata": {},
   "source": [
    "Igualmente hacemos con el atributo G24"
   ]
  },
  {
   "cell_type": "code",
   "execution_count": 108,
   "id": "06e75364",
   "metadata": {},
   "outputs": [],
   "source": [
    "df_full['G24'] = df_full['G24'].fillna(9)"
   ]
  },
  {
   "cell_type": "markdown",
   "id": "fd4cf03a",
   "metadata": {},
   "source": [
    "Los atributos Lxx, tienen relación con la limitación de actividades cotidianas, por lo que creamos un atributo sintético, que agrupe si tiene dificultad o no en estas tareas. Y se eliminan las variables individuales."
   ]
  },
  {
   "cell_type": "code",
   "execution_count": 109,
   "id": "86e904e4",
   "metadata": {},
   "outputs": [],
   "source": [
    "df_full['L39_1'] = df_full['L39_1'].fillna(9)\n",
    "df_full['L39_3'] = df_full['L39_3'].fillna(9)\n",
    "df_full['L39_4'] = df_full['L39_4'].fillna(9)\n",
    "df_full['L39_5'] = df_full['L39_5'].fillna(9)\n",
    "df_full['L42_1'] = df_full['L42_1'].fillna(9)\n",
    "df_full['L42_2'] = df_full['L42_2'].fillna(9)\n",
    "df_full['L42_3'] = df_full['L42_3'].fillna(9)\n",
    "df_full['L42_4'] = df_full['L42_4'].fillna(9)\n",
    "df_full['L42_5'] = df_full['L42_5'].fillna(9)\n",
    "df_full['L42_6'] = df_full['L42_6'].fillna(9)\n",
    "df_full['L42_7'] = df_full['L42_7'].fillna(9)"
   ]
  },
  {
   "cell_type": "code",
   "execution_count": 110,
   "id": "402cbc3e",
   "metadata": {},
   "outputs": [],
   "source": [
    "#Funciones creadas en utilidades.py\n",
    "df_full['L39'] = df_full.apply(ut.act_diaria, axis=1)\n",
    "df_full['L42'] = df_full.apply(ut.act_hogar, axis=1)"
   ]
  },
  {
   "cell_type": "code",
   "execution_count": 111,
   "id": "1d0e8a5b",
   "metadata": {},
   "outputs": [],
   "source": [
    "df_full_drop = ['L39_1','L39_3','L39_4','L39_5','L42_1','L42_2','L42_3','L42_4','L42_5','L42_6','L42_7']\n",
    "df_full.drop(df_full_drop,axis=1,inplace=True)"
   ]
  },
  {
   "cell_type": "markdown",
   "id": "0cad73fb",
   "metadata": {},
   "source": [
    "Y, los atributos G25x_20 y G25x_21, los mantenemos en el dataset, pero completamos los null con \"no contesta\""
   ]
  },
  {
   "cell_type": "code",
   "execution_count": 112,
   "id": "8d8d64e3",
   "metadata": {},
   "outputs": [],
   "source": [
    "df_full['G25b_20'] = df_full['G25b_20'].fillna(9)\n",
    "df_full['G25c_20'] = df_full['G25c_20'].fillna(9)\n",
    "df_full['G25b_21'] = df_full['G25b_21'].fillna(9)\n",
    "df_full['G25c_21'] = df_full['G25c_21'].fillna(9)"
   ]
  },
  {
   "cell_type": "markdown",
   "id": "972ed5d5",
   "metadata": {},
   "source": [
    "Se revisa nuevamente si queda algún atributo con valores null"
   ]
  },
  {
   "cell_type": "code",
   "execution_count": 113,
   "id": "c474995a",
   "metadata": {},
   "outputs": [
    {
     "data": {
      "text/plain": [
       "<AxesSubplot:ylabel='IDENTHOGAR'>"
      ]
     },
     "execution_count": 113,
     "metadata": {},
     "output_type": "execute_result"
    },
    {
     "data": {
      "image/png": "[encoded data removed]",
      "text/plain": [
       "<Figure size 864x576 with 2 Axes>"
      ]
     },
     "metadata": {
      "needs_background": "light"
     },
     "output_type": "display_data"
    }
   ],
   "source": [
    "cols = df_full.columns\n",
    "colours = ['#000099', '#ffff00']\n",
    "sns.heatmap(df_full[cols].isnull(), cmap=sns.color_palette(colours))"
   ]
  },
  {
   "cell_type": "code",
   "execution_count": 114,
   "id": "06a46ba3",
   "metadata": {},
   "outputs": [
    {
     "name": "stdout",
     "output_type": "stream",
     "text": [
      "Index([], dtype='object')\n"
     ]
    },
    {
     "data": {
      "text/plain": [
       "0"
      ]
     },
     "execution_count": 114,
     "metadata": {},
     "output_type": "execute_result"
    }
   ],
   "source": [
    "r = df_full.isnull().any()\n",
    "print (r[r].index)\n",
    "len(r[r].index)"
   ]
  },
  {
   "cell_type": "code",
   "execution_count": 115,
   "id": "c89da191",
   "metadata": {},
   "outputs": [
    {
     "name": "stdout",
     "output_type": "stream",
     "text": [
      "<class 'pandas.core.frame.DataFrame'>\n",
      "Int64Index: 22072 entries, 2500011 to 4996151\n",
      "Columns: 129 entries, ESTRATO to L42\n",
      "dtypes: Int64(32), int64(97)\n",
      "memory usage: 22.6 MB\n"
     ]
    }
   ],
   "source": [
    "df_full.info()"
   ]
  },
  {
   "cell_type": "markdown",
   "id": "1a84edda",
   "metadata": {},
   "source": [
    "En este punto tenemos un dataset con 129 atributos, y se procede a crear un nuevo punto de control, con el conjunto de datos que se utilizará en la siguiente fase del proceso KDD."
   ]
  },
  {
   "cell_type": "code",
   "execution_count": 116,
   "id": "989dc30f",
   "metadata": {},
   "outputs": [],
   "source": [
    "df_full.to_csv('full2020.csv')"
   ]
  },
  {
   "cell_type": "markdown",
   "id": "f20a8f66",
   "metadata": {},
   "source": [
    "### 8.- Reducción de los datos"
   ]
  },
  {
   "cell_type": "markdown",
   "id": "026732d5",
   "metadata": {},
   "source": [
    "En los pasos anteriores concatenamos varios conjuntos de datos, donde las variables objetivos (ansiedad y depresión) han quedado en columnas intermedias.\n",
    "\n",
    "Por orden y mejor entendimiento en el análisis, reordenamos el dataframe, para que queden en las dos columnas finales."
   ]
  },
  {
   "cell_type": "code",
   "execution_count": 117,
   "id": "7b1e6ee1",
   "metadata": {},
   "outputs": [],
   "source": [
    "df_clase_temp = df_full[['SEVERIDAD_DEPRESIVA','CUADROS_DEPRESIVOS','DEPRESION','ANSIEDAD']]"
   ]
  },
  {
   "cell_type": "code",
   "execution_count": 118,
   "id": "8906a63a",
   "metadata": {},
   "outputs": [],
   "source": [
    "df_full.drop(['SEVERIDAD_DEPRESIVA','CUADROS_DEPRESIVOS','DEPRESION','ANSIEDAD'],axis=1,inplace=True)"
   ]
  },
  {
   "cell_type": "code",
   "execution_count": 119,
   "id": "6c3c0624",
   "metadata": {},
   "outputs": [],
   "source": [
    "df_full = pd.concat([df_full,df_clase_temp],axis=1)"
   ]
  },
  {
   "cell_type": "code",
   "execution_count": 120,
   "id": "f13bc694",
   "metadata": {},
   "outputs": [
    {
     "data": {
      "text/html": [
       "<div>\n",
       "<style scoped>\n",
       "    .dataframe tbody tr th:only-of-type {\n",
       "        vertical-align: middle;\n",
       "    }\n",
       "\n",
       "    .dataframe tbody tr th {\n",
       "        vertical-align: top;\n",
       "    }\n",
       "\n",
       "    .dataframe thead th {\n",
       "        text-align: right;\n",
       "    }\n",
       "</style>\n",
       "<table border=\"1\" class=\"dataframe\">\n",
       "  <thead>\n",
       "    <tr style=\"text-align: right;\">\n",
       "      <th></th>\n",
       "      <th>ESTRATO</th>\n",
       "      <th>A11_i</th>\n",
       "      <th>A12</th>\n",
       "      <th>D23_1</th>\n",
       "      <th>D23_2</th>\n",
       "      <th>D23_3</th>\n",
       "      <th>D23_4</th>\n",
       "      <th>D23_5</th>\n",
       "      <th>D23_6</th>\n",
       "      <th>D23_7</th>\n",
       "      <th>...</th>\n",
       "      <th>G25b_20</th>\n",
       "      <th>G25c_20</th>\n",
       "      <th>G25b_21</th>\n",
       "      <th>G25c_21</th>\n",
       "      <th>L39</th>\n",
       "      <th>L42</th>\n",
       "      <th>SEVERIDAD_DEPRESIVA</th>\n",
       "      <th>CUADROS_DEPRESIVOS</th>\n",
       "      <th>DEPRESION</th>\n",
       "      <th>ANSIEDAD</th>\n",
       "    </tr>\n",
       "    <tr>\n",
       "      <th>IDENTHOGAR</th>\n",
       "      <th></th>\n",
       "      <th></th>\n",
       "      <th></th>\n",
       "      <th></th>\n",
       "      <th></th>\n",
       "      <th></th>\n",
       "      <th></th>\n",
       "      <th></th>\n",
       "      <th></th>\n",
       "      <th></th>\n",
       "      <th></th>\n",
       "      <th></th>\n",
       "      <th></th>\n",
       "      <th></th>\n",
       "      <th></th>\n",
       "      <th></th>\n",
       "      <th></th>\n",
       "      <th></th>\n",
       "      <th></th>\n",
       "      <th></th>\n",
       "      <th></th>\n",
       "    </tr>\n",
       "  </thead>\n",
       "  <tbody>\n",
       "    <tr>\n",
       "      <th>2500011</th>\n",
       "      <td>6</td>\n",
       "      <td>1</td>\n",
       "      <td>2</td>\n",
       "      <td>1</td>\n",
       "      <td>2</td>\n",
       "      <td>2</td>\n",
       "      <td>2</td>\n",
       "      <td>2</td>\n",
       "      <td>2</td>\n",
       "      <td>2</td>\n",
       "      <td>...</td>\n",
       "      <td>9</td>\n",
       "      <td>9</td>\n",
       "      <td>9</td>\n",
       "      <td>9</td>\n",
       "      <td>2</td>\n",
       "      <td>2</td>\n",
       "      <td>1</td>\n",
       "      <td>3</td>\n",
       "      <td>2</td>\n",
       "      <td>2</td>\n",
       "    </tr>\n",
       "    <tr>\n",
       "      <th>2500021</th>\n",
       "      <td>6</td>\n",
       "      <td>3</td>\n",
       "      <td>6</td>\n",
       "      <td>1</td>\n",
       "      <td>2</td>\n",
       "      <td>1</td>\n",
       "      <td>2</td>\n",
       "      <td>2</td>\n",
       "      <td>2</td>\n",
       "      <td>2</td>\n",
       "      <td>...</td>\n",
       "      <td>9</td>\n",
       "      <td>9</td>\n",
       "      <td>9</td>\n",
       "      <td>9</td>\n",
       "      <td>1</td>\n",
       "      <td>1</td>\n",
       "      <td>3</td>\n",
       "      <td>3</td>\n",
       "      <td>2</td>\n",
       "      <td>2</td>\n",
       "    </tr>\n",
       "    <tr>\n",
       "      <th>2500031</th>\n",
       "      <td>6</td>\n",
       "      <td>1</td>\n",
       "      <td>1</td>\n",
       "      <td>1</td>\n",
       "      <td>2</td>\n",
       "      <td>2</td>\n",
       "      <td>2</td>\n",
       "      <td>2</td>\n",
       "      <td>2</td>\n",
       "      <td>2</td>\n",
       "      <td>...</td>\n",
       "      <td>9</td>\n",
       "      <td>9</td>\n",
       "      <td>9</td>\n",
       "      <td>9</td>\n",
       "      <td>2</td>\n",
       "      <td>2</td>\n",
       "      <td>3</td>\n",
       "      <td>2</td>\n",
       "      <td>2</td>\n",
       "      <td>2</td>\n",
       "    </tr>\n",
       "    <tr>\n",
       "      <th>2500061</th>\n",
       "      <td>6</td>\n",
       "      <td>1</td>\n",
       "      <td>3</td>\n",
       "      <td>1</td>\n",
       "      <td>2</td>\n",
       "      <td>2</td>\n",
       "      <td>2</td>\n",
       "      <td>2</td>\n",
       "      <td>2</td>\n",
       "      <td>2</td>\n",
       "      <td>...</td>\n",
       "      <td>9</td>\n",
       "      <td>9</td>\n",
       "      <td>9</td>\n",
       "      <td>9</td>\n",
       "      <td>2</td>\n",
       "      <td>2</td>\n",
       "      <td>1</td>\n",
       "      <td>3</td>\n",
       "      <td>2</td>\n",
       "      <td>2</td>\n",
       "    </tr>\n",
       "    <tr>\n",
       "      <th>2500071</th>\n",
       "      <td>6</td>\n",
       "      <td>1</td>\n",
       "      <td>3</td>\n",
       "      <td>1</td>\n",
       "      <td>2</td>\n",
       "      <td>2</td>\n",
       "      <td>2</td>\n",
       "      <td>2</td>\n",
       "      <td>2</td>\n",
       "      <td>2</td>\n",
       "      <td>...</td>\n",
       "      <td>9</td>\n",
       "      <td>9</td>\n",
       "      <td>9</td>\n",
       "      <td>9</td>\n",
       "      <td>2</td>\n",
       "      <td>2</td>\n",
       "      <td>1</td>\n",
       "      <td>3</td>\n",
       "      <td>2</td>\n",
       "      <td>2</td>\n",
       "    </tr>\n",
       "  </tbody>\n",
       "</table>\n",
       "<p>5 rows × 129 columns</p>\n",
       "</div>"
      ],
      "text/plain": [
       "            ESTRATO  A11_i  A12  D23_1  D23_2  D23_3  D23_4  D23_5  D23_6  \\\n",
       "IDENTHOGAR                                                                  \n",
       "2500011           6      1    2      1      2      2      2      2      2   \n",
       "2500021           6      3    6      1      2      1      2      2      2   \n",
       "2500031           6      1    1      1      2      2      2      2      2   \n",
       "2500061           6      1    3      1      2      2      2      2      2   \n",
       "2500071           6      1    3      1      2      2      2      2      2   \n",
       "\n",
       "            D23_7  ...  G25b_20  G25c_20  G25b_21  G25c_21  L39  L42  \\\n",
       "IDENTHOGAR         ...                                                 \n",
       "2500011         2  ...        9        9        9        9    2    2   \n",
       "2500021         2  ...        9        9        9        9    1    1   \n",
       "2500031         2  ...        9        9        9        9    2    2   \n",
       "2500061         2  ...        9        9        9        9    2    2   \n",
       "2500071         2  ...        9        9        9        9    2    2   \n",
       "\n",
       "            SEVERIDAD_DEPRESIVA  CUADROS_DEPRESIVOS  DEPRESION  ANSIEDAD  \n",
       "IDENTHOGAR                                                                \n",
       "2500011                       1                   3          2         2  \n",
       "2500021                       3                   3          2         2  \n",
       "2500031                       3                   2          2         2  \n",
       "2500061                       1                   3          2         2  \n",
       "2500071                       1                   3          2         2  \n",
       "\n",
       "[5 rows x 129 columns]"
      ]
     },
     "execution_count": 120,
     "metadata": {},
     "output_type": "execute_result"
    }
   ],
   "source": [
    "df_full.head()"
   ]
  },
  {
   "cell_type": "markdown",
   "id": "28f95207",
   "metadata": {},
   "source": [
    "#### 8.1 - Análisis de valores repetidos"
   ]
  },
  {
   "cell_type": "markdown",
   "id": "3c44c055",
   "metadata": {},
   "source": [
    "Los atributos cuyos valores tienden a ser constantes; es decir, tienen el mismo valor en todos sus registros, suelen aportar desinformación al modelo.\n",
    "\n",
    "Así que procedemos a ver que variables muestran mucha repetitividad (>95%) sobre uno de sus valores, una vez filtrados los atributos, vemos si tienen alguna significancia con la depresión o la ansiedad"
   ]
  },
  {
   "cell_type": "code",
   "execution_count": 121,
   "id": "75d4f2f7",
   "metadata": {},
   "outputs": [
    {
     "name": "stdout",
     "output_type": "stream",
     "text": [
      "D23_4: 96.40721%\n",
      "2       21279\n",
      "1         793\n",
      "<NA>        0\n",
      "Name: D23_4, dtype: Int64\n",
      "\n",
      "D23_5: 99.15730%\n",
      "2       21886\n",
      "1         186\n",
      "<NA>        0\n",
      "Name: D23_5, dtype: Int64\n",
      "\n",
      "D23_6: 99.91845%\n",
      "2       22054\n",
      "1          18\n",
      "<NA>        0\n",
      "Name: D23_6, dtype: Int64\n",
      "\n",
      "D23_7: 99.79612%\n",
      "2       22027\n",
      "1          45\n",
      "<NA>        0\n",
      "Name: D23_7, dtype: Int64\n",
      "\n",
      "D23_8: 97.66673%\n",
      "2       21557\n",
      "1         515\n",
      "<NA>        0\n",
      "Name: D23_8, dtype: Int64\n",
      "\n",
      "D23_9: 99.32494%\n",
      "2       21923\n",
      "1         149\n",
      "<NA>        0\n",
      "Name: D23_9, dtype: Int64\n",
      "\n",
      "D23_10: 99.96375%\n",
      "2       22064\n",
      "1           8\n",
      "<NA>        0\n",
      "Name: D23_10, dtype: Int64\n",
      "\n",
      "D23_11: 99.57865%\n",
      "2       21979\n",
      "1          93\n",
      "<NA>        0\n",
      "Name: D23_11, dtype: Int64\n",
      "\n",
      "K_Sum: 97.64407%\n",
      "1    21552\n",
      "2      520\n",
      "Name: K_Sum, dtype: int64\n",
      "\n",
      "G25_2: 97.71203%\n",
      "2    21567\n",
      "1      496\n",
      "3        9\n",
      "Name: G25_2, dtype: int64\n",
      "\n",
      "G25_3: 98.18775%\n",
      "2    21672\n",
      "1      391\n",
      "3        9\n",
      "Name: G25_3, dtype: int64\n",
      "\n",
      "G25_11: 95.74574%\n",
      "2    21133\n",
      "1      910\n",
      "3       29\n",
      "Name: G25_11, dtype: int64\n",
      "\n",
      "G25_13: 96.84215%\n",
      "2    21375\n",
      "1      670\n",
      "3       27\n",
      "Name: G25_13, dtype: int64\n",
      "\n",
      "G25_17: 95.41047%\n",
      "2    21059\n",
      "1     1013\n",
      "Name: G25_17, dtype: int64\n",
      "\n",
      "G25_18: 95.84995%\n",
      "2    21156\n",
      "1      771\n",
      "3      145\n",
      "Name: G25_18, dtype: int64\n",
      "\n",
      "G25_19: 98.98061%\n",
      "2    21847\n",
      "1      220\n",
      "3        5\n",
      "Name: G25_19, dtype: int64\n",
      "\n",
      "G25_22: 98.08808%\n",
      "2    21650\n",
      "1      416\n",
      "3        6\n",
      "Name: G25_22, dtype: int64\n",
      "\n",
      "G25_23: 97.92497%\n",
      "2    21614\n",
      "1      445\n",
      "3       13\n",
      "Name: G25_23, dtype: int64\n",
      "\n",
      "G25_26: 95.08427%\n",
      "2    20987\n",
      "1     1051\n",
      "3       34\n",
      "Name: G25_26, dtype: int64\n",
      "\n",
      "G25_29: 95.83635%\n",
      "2    21153\n",
      "1      893\n",
      "3       26\n",
      "Name: G25_29, dtype: int64\n",
      "\n",
      "G25_30: 95.70497%\n",
      "2    21124\n",
      "1      928\n",
      "3       20\n",
      "Name: G25_30, dtype: int64\n",
      "\n",
      "G25_31: 97.13211%\n",
      "2    21439\n",
      "1      560\n",
      "3       73\n",
      "Name: G25_31, dtype: int64\n",
      "\n",
      "G25_32: 95.28815%\n",
      "2    21032\n",
      "1     1008\n",
      "3       32\n",
      "Name: G25_32, dtype: int64\n",
      "\n",
      "N58_2: 95.30627%\n",
      "2    21036\n",
      "1     1030\n",
      "9        4\n",
      "8        2\n",
      "Name: N58_2, dtype: int64\n",
      "\n",
      "N61_1: 97.92497%\n",
      "2    21614\n",
      "1      454\n",
      "9        2\n",
      "8        2\n",
      "Name: N61_1, dtype: int64\n",
      "\n",
      "N61_2: 97.21366%\n",
      "2    21457\n",
      "1      610\n",
      "9        3\n",
      "8        2\n",
      "Name: N61_2, dtype: int64\n",
      "\n",
      "O84_1: 95.50109%\n",
      "1    21079\n",
      "2      993\n",
      "Name: O84_1, dtype: int64\n",
      "\n",
      "O84_2: 97.42207%\n",
      "2    21503\n",
      "1      569\n",
      "Name: O84_2, dtype: int64\n",
      "\n",
      "O84_3: 96.74701%\n",
      "2    21354\n",
      "1      718\n",
      "Name: O84_3, dtype: int64\n",
      "\n",
      "O84_5: 97.49909%\n",
      "2    21520\n",
      "1      552\n",
      "Name: O84_5, dtype: int64\n",
      "\n",
      "O84_6: 99.92751%\n",
      "2    22056\n",
      "1       16\n",
      "Name: O84_6, dtype: int64\n",
      "\n",
      "O84_7: 99.78253%\n",
      "2    22024\n",
      "1       48\n",
      "Name: O84_7, dtype: int64\n",
      "\n",
      "O84_8: 99.98641%\n",
      "2    22069\n",
      "1        3\n",
      "Name: O84_8, dtype: int64\n",
      "\n",
      "O84_9: 99.97735%\n",
      "2    22067\n",
      "1        5\n",
      "Name: O84_9, dtype: int64\n",
      "\n"
     ]
    }
   ],
   "source": [
    "filas = len(df_full.index)\n",
    "info = [] \n",
    "\n",
    "for col in df_full.columns:\n",
    "    contar = df_full[col].value_counts(dropna=False)\n",
    "    top_pct = (contar/filas).iloc[0]\n",
    "    \n",
    "    if top_pct > 0.95:\n",
    "        info.append(col)\n",
    "        print('{0}: {1:.5f}%'.format(col, top_pct*100))\n",
    "        print(contar)\n",
    "        print()"
   ]
  },
  {
   "cell_type": "code",
   "execution_count": 122,
   "id": "f4d6c921",
   "metadata": {},
   "outputs": [
    {
     "data": {
      "text/plain": [
       "34"
      ]
     },
     "execution_count": 122,
     "metadata": {},
     "output_type": "execute_result"
    }
   ],
   "source": [
    "len(info)"
   ]
  },
  {
   "cell_type": "markdown",
   "id": "88ad49b7",
   "metadata": {},
   "source": [
    "Se encuentra entonces que hay 34 atributos que sus registros tienen el mismo valor.\n",
    "\n",
    "Que siguiendo el significado de cada uno según el registro de diseño de las encuentas, son valores que responden a preguntas SI o NO."
   ]
  },
  {
   "cell_type": "code",
   "execution_count": 123,
   "id": "927bd456",
   "metadata": {},
   "outputs": [
    {
     "name": "stdout",
     "output_type": "stream",
     "text": [
      "['D23_4', 'D23_5', 'D23_6', 'D23_7', 'D23_8', 'D23_9', 'D23_10', 'D23_11', 'K_Sum', 'G25_2', 'G25_3', 'G25_11', 'G25_13', 'G25_17', 'G25_18', 'G25_19', 'G25_22', 'G25_23', 'G25_26', 'G25_29', 'G25_30', 'G25_31', 'G25_32', 'N58_2', 'N61_1', 'N61_2', 'O84_1', 'O84_2', 'O84_3', 'O84_5', 'O84_6', 'O84_7', 'O84_8', 'O84_9']\n"
     ]
    }
   ],
   "source": [
    "print(info)"
   ]
  },
  {
   "cell_type": "code",
   "execution_count": 124,
   "id": "22a8f4db",
   "metadata": {},
   "outputs": [],
   "source": [
    "att_no_significativo = ['D23_4','D23_5','D23_6','D23_7','D23_8','D23_9','D23_10','D23_11','G25_2','G25_3',\n",
    "                       'G25_11','G25_13','G25_17','G25_18','G25_19','G25_22','G25_23','G25_26','G25_29',\n",
    "                       'G25_30','G25_31','G25_32','N58_2','N61_1','N61_2','O84_2','O84_3','O84_5','O84_6',\n",
    "                       'O84_7','O84_8','O84_9']"
   ]
  },
  {
   "cell_type": "markdown",
   "id": "968fa7a9",
   "metadata": {},
   "source": [
    "Inspeccionando cada una de estas variables según su significado en la encuesta, se procede a descartar todos los atributos, con mas del 95% de respuesta NO, ya que se asume que su no existencia no influye en la depresión o la ansiedad.\n",
    "\n",
    "Unicamente dejamos en el dataset los atributos con mas de un 95% de SI"
   ]
  },
  {
   "cell_type": "code",
   "execution_count": 125,
   "id": "65389766",
   "metadata": {},
   "outputs": [],
   "source": [
    "df_full.drop(att_no_significativo,axis=1,inplace=True)"
   ]
  },
  {
   "cell_type": "markdown",
   "id": "e0748a5b",
   "metadata": {},
   "source": [
    "#### 8.2 - Cambio de nombre de los atributos"
   ]
  },
  {
   "cell_type": "markdown",
   "id": "c8cc3ba7",
   "metadata": {},
   "source": [
    "Un paso que no se ha ejecutado hasta el momento, es adaptar los códigos de las variables origen con una nomenclatura que tenga mas significancia en las siguientes fases. Asñi, se facilita la inspección y análisis en la fase del análisis exploratorio."
   ]
  },
  {
   "cell_type": "code",
   "execution_count": 126,
   "id": "99099b8a",
   "metadata": {},
   "outputs": [
    {
     "data": {
      "text/plain": [
       "Index(['ESTRATO', 'A11_i', 'A12', 'D23_1', 'D23_2', 'D23_3', 'D26', 'CCAA',\n",
       "       'SEXOa', 'EDADa', 'E1_1', 'E2_1a', 'E2_1b', 'E4', 'E4b', 'ESTUDIOS',\n",
       "       'S109', 'S110', 'CLASE_PR', 'IMC', 'F18a_2', 'F19a_2', 'F20', 'J30',\n",
       "       'T111', 'T112', 'U120_2', 'U120_4', 'U120_7', 'U120_8', 'V121', 'W127',\n",
       "       'X130', 'X131', 'X132', 'Y133', 'Y135', 'R_Sum', 'U_fruta_Avg',\n",
       "       'U_NoFood_Avg', 'U_HuLac_Avg', 'U_Carb_Avg', 'G21', 'G22', 'G23', 'G24',\n",
       "       'G24a', 'K38a', 'L45', 'L46', 'H_Sum', 'K_Sum', 'G25_1', 'G25_4',\n",
       "       'G25_5', 'G25_6', 'G25_7', 'G25_8', 'G25_9', 'G25_10', 'G25_12',\n",
       "       'G25_14', 'G25_15', 'G25_16', 'G25_24', 'G25_25', 'G25_27', 'G25_28',\n",
       "       'N48', 'N49', 'N50', 'N51', 'N53', 'N57', 'N58_3', 'O66', 'O67', 'O68',\n",
       "       'O71', 'O75', 'O76', 'O78', 'O79', 'O83', 'O84_1', 'O84_4', 'P_Sum',\n",
       "       'G25b_20', 'G25c_20', 'G25b_21', 'G25c_21', 'L39', 'L42',\n",
       "       'SEVERIDAD_DEPRESIVA', 'CUADROS_DEPRESIVOS', 'DEPRESION', 'ANSIEDAD'],\n",
       "      dtype='object')"
      ]
     },
     "execution_count": 126,
     "metadata": {},
     "output_type": "execute_result"
    }
   ],
   "source": [
    "df_full.columns"
   ]
  },
  {
   "cell_type": "code",
   "execution_count": 127,
   "id": "9cf09dd6",
   "metadata": {},
   "outputs": [],
   "source": [
    "df_full.rename(columns={'ESTRATO' : 'tipo_municipio',\n",
    "                        'A11_i'   : 'situacion_laboral',\n",
    "                        'A12'     : 'tipo_hogar',\n",
    "                        'D23_1'   : 'tipo_contrato',\n",
    "                        'D23_2'   : 'tipo_ayuda',\n",
    "                        'D23_3'   : 'tipo_jubilacion',\n",
    "                        'D26'     : 'salario_neto',\n",
    "                        'CCAA'    : 'comunidad_autonoma',\n",
    "                        'SEXOa'   : 'sexo',\n",
    "                        'EDADa'   : 'edad',\n",
    "                        'E1_1'    : 'pais_nacimiento',\n",
    "                        'E2_1a'   : 'nacionalidad_espanola',\n",
    "                        'E2_1b'   : 'nacionalidad_extranjera',\n",
    "                        'E4'      : 'tipo_convivencia',\n",
    "                        'E4b'     : 'estado_civil',\n",
    "                        'ESTUDIOS': 'nivel_estudios',\n",
    "                        'S109'    : 'altura',\n",
    "                        'S110'    : 'peso',\n",
    "                        'CLASE_PR': 'clase_social',\n",
    "                        'IMC'     : 'imc',\n",
    "                        'F18a_2'  : 'actividad_empresa',\n",
    "                        'F19a_2'  : 'ocupacion',\n",
    "                        'F20'     : 'situacion_profesional',\n",
    "                        'J30'     : 'ausencia_laboral12m',\n",
    "                        'T111'    : 'tipo_actfisica',\n",
    "                        'T112'    : 'frecuencia_actfisica',\n",
    "                        'U120_2'  : 'frecuencia_consumocarne',\n",
    "                        'U120_4'  : 'frecuencia_consumopescado',\n",
    "                        'U120_7'  : 'frecuencia_consumoverdura',\n",
    "                        'U120_8'  : 'frecuencia_consumolegumbre',\n",
    "                        'V121'    : 'fumador',\n",
    "                        'W127'    : 'frecuencia_consumoalcohol',\n",
    "                        'X130'    : 'apoyosocial_cuantos',\n",
    "                        'X131'    : 'apoyosocial_interes',\n",
    "                        'X132'    : 'apoyosocial_ayuda',\n",
    "                        'Y133'    : 'cuidado_personas',\n",
    "                        'Y135'    : 'cuidado_horas',\n",
    "                        'R_Sum'   : 'falta_atencionsanitaria',\n",
    "                        'U_fruta_Avg' : 'frecuencia_consumofruta',\n",
    "                        'U_NoFood_Avg': 'frecuencia_consumoprocesado',\n",
    "                        'U_HuLac_Avg' : 'frecuencia_consumohuevoslacteos',\n",
    "                        'U_Carb_Avg'  : 'frecuencia_consumocarbohidratos',\n",
    "                        'G21'     : 'estado_salud12m',\n",
    "                        'G22'     : 'estado_saludcronico',\n",
    "                        'G23'     : 'limitacion_salud6m',\n",
    "                        'G24'     : 'tipo_problemasalud',\n",
    "                        'G24a'    : 'estado_saludbucodental',\n",
    "                        'K38a'    : 'dificultad_concentracion',\n",
    "                        'L45'     : 'dolor_4semanas',\n",
    "                        'L46'     : 'dolor_limitacion',\n",
    "                        'H_Sum'   : 'accidentes_12meses',\n",
    "                        'K_Sum'   : 'limitacion_fisica',\n",
    "                        'G25_1'   : 'tension_alta',\n",
    "                        'G25_4'   : 'enfermedad_corazon',\n",
    "                        'G25_5'   : 'varices',\n",
    "                        'G25_6'   : 'artrosis',\n",
    "                        'G25_7'   : 'dolor_cervical',\n",
    "                        'G25_8'   : 'dolor_lumbar',\n",
    "                        'G25_9'   : 'alergias',\n",
    "                        'G25_10'  : 'asma',\n",
    "                        'G25_12'  : 'diabetes',\n",
    "                        'G25_14'  : 'orina',\n",
    "                        'G25_15'  : 'colesterol',\n",
    "                        'G25_16'  : 'cataratas',\n",
    "                        'G25_24'  : 'migrana',\n",
    "                        'G25_25'  : 'hemorroides',\n",
    "                        'G25_27'  : 'osteoporosis',\n",
    "                        'G25_28'  : 'tiroides',\n",
    "                        'N48'     : 'ultima_consultamedica',\n",
    "                        'N49'     : 'cantidad_consultageneral4sem',\n",
    "                        'N50'     : 'tiempo_ultimaconsulta',\n",
    "                        'N51'     : 'cantidad_consultaespecialista4sem',\n",
    "                        'N53'     : 'lugar_consulta4sem',\n",
    "                        'N57'     : 'tipo_consultamedica',\n",
    "                        'N58_3'   : 'consulta_enfermeria12m',\n",
    "                        'O66'     : 'ingreso_hospital12m',\n",
    "                        'O67'     : 'cantidad_ingresohospital12m',\n",
    "                        'O68'     : 'numero_nocheshospital12m',\n",
    "                        'O71'     : 'motivo_ingresohospital',\n",
    "                        'O75'     : 'ingreso_hospitaldia12m',\n",
    "                        'O76'     : 'cantidad_ingresohospitaldia12m',\n",
    "                        'O78'     : 'urgencia_12meses',\n",
    "                        'O79'     : 'cantidad_urgencias12m',\n",
    "                        'O83'     : 'tipo_urgencia',\n",
    "                        'O84_1'   : 'uso_sanidadpublica',\n",
    "                        'O84_4'   : 'uso_seguroprivado',\n",
    "                        'P_Sum'   : 'consumo_medicamentos',\n",
    "                        'G25b_20' : 'depresion_12meses',\n",
    "                        'G25c_20' : 'depresion_diagnosticomedico',\n",
    "                        'G25b_21' : 'ansiedad_12meses',\n",
    "                        'G25c_21' : 'ansiedad_diagnosticomedico',\n",
    "                        'L39'     : 'dificultad_actdiaria',\n",
    "                        'L42'     : 'dificultad_acthogar',\n",
    "                        'SEVERIDAD_DEPRESIVA' : 'nivel_depresion',\n",
    "                        'CUADROS_DEPRESIVOS'  : 'prevalencia_depresion',\n",
    "                        'DEPRESION' : 'depresion',\n",
    "                        'ANSIEDAD' : 'ansiedad'}, inplace=True)"
   ]
  },
  {
   "cell_type": "code",
   "execution_count": 128,
   "id": "06b526e0",
   "metadata": {},
   "outputs": [
    {
     "data": {
      "text/html": [
       "<div>\n",
       "<style scoped>\n",
       "    .dataframe tbody tr th:only-of-type {\n",
       "        vertical-align: middle;\n",
       "    }\n",
       "\n",
       "    .dataframe tbody tr th {\n",
       "        vertical-align: top;\n",
       "    }\n",
       "\n",
       "    .dataframe thead th {\n",
       "        text-align: right;\n",
       "    }\n",
       "</style>\n",
       "<table border=\"1\" class=\"dataframe\">\n",
       "  <thead>\n",
       "    <tr style=\"text-align: right;\">\n",
       "      <th></th>\n",
       "      <th>tipo_municipio</th>\n",
       "      <th>situacion_laboral</th>\n",
       "      <th>tipo_hogar</th>\n",
       "      <th>tipo_contrato</th>\n",
       "      <th>tipo_ayuda</th>\n",
       "      <th>tipo_jubilacion</th>\n",
       "      <th>salario_neto</th>\n",
       "      <th>comunidad_autonoma</th>\n",
       "      <th>sexo</th>\n",
       "      <th>edad</th>\n",
       "      <th>...</th>\n",
       "      <th>depresion_12meses</th>\n",
       "      <th>depresion_diagnosticomedico</th>\n",
       "      <th>ansiedad_12meses</th>\n",
       "      <th>ansiedad_diagnosticomedico</th>\n",
       "      <th>dificultad_actdiaria</th>\n",
       "      <th>dificultad_acthogar</th>\n",
       "      <th>nivel_depresion</th>\n",
       "      <th>prevalencia_depresion</th>\n",
       "      <th>depresion</th>\n",
       "      <th>ansiedad</th>\n",
       "    </tr>\n",
       "    <tr>\n",
       "      <th>IDENTHOGAR</th>\n",
       "      <th></th>\n",
       "      <th></th>\n",
       "      <th></th>\n",
       "      <th></th>\n",
       "      <th></th>\n",
       "      <th></th>\n",
       "      <th></th>\n",
       "      <th></th>\n",
       "      <th></th>\n",
       "      <th></th>\n",
       "      <th></th>\n",
       "      <th></th>\n",
       "      <th></th>\n",
       "      <th></th>\n",
       "      <th></th>\n",
       "      <th></th>\n",
       "      <th></th>\n",
       "      <th></th>\n",
       "      <th></th>\n",
       "      <th></th>\n",
       "      <th></th>\n",
       "    </tr>\n",
       "  </thead>\n",
       "  <tbody>\n",
       "    <tr>\n",
       "      <th>2500011</th>\n",
       "      <td>6</td>\n",
       "      <td>1</td>\n",
       "      <td>2</td>\n",
       "      <td>1</td>\n",
       "      <td>2</td>\n",
       "      <td>2</td>\n",
       "      <td>99</td>\n",
       "      <td>16</td>\n",
       "      <td>1</td>\n",
       "      <td>60</td>\n",
       "      <td>...</td>\n",
       "      <td>9</td>\n",
       "      <td>9</td>\n",
       "      <td>9</td>\n",
       "      <td>9</td>\n",
       "      <td>2</td>\n",
       "      <td>2</td>\n",
       "      <td>1</td>\n",
       "      <td>3</td>\n",
       "      <td>2</td>\n",
       "      <td>2</td>\n",
       "    </tr>\n",
       "    <tr>\n",
       "      <th>2500021</th>\n",
       "      <td>6</td>\n",
       "      <td>3</td>\n",
       "      <td>6</td>\n",
       "      <td>1</td>\n",
       "      <td>2</td>\n",
       "      <td>1</td>\n",
       "      <td>99</td>\n",
       "      <td>16</td>\n",
       "      <td>2</td>\n",
       "      <td>87</td>\n",
       "      <td>...</td>\n",
       "      <td>9</td>\n",
       "      <td>9</td>\n",
       "      <td>9</td>\n",
       "      <td>9</td>\n",
       "      <td>1</td>\n",
       "      <td>1</td>\n",
       "      <td>3</td>\n",
       "      <td>3</td>\n",
       "      <td>2</td>\n",
       "      <td>2</td>\n",
       "    </tr>\n",
       "    <tr>\n",
       "      <th>2500031</th>\n",
       "      <td>6</td>\n",
       "      <td>1</td>\n",
       "      <td>1</td>\n",
       "      <td>1</td>\n",
       "      <td>2</td>\n",
       "      <td>2</td>\n",
       "      <td>2</td>\n",
       "      <td>16</td>\n",
       "      <td>1</td>\n",
       "      <td>38</td>\n",
       "      <td>...</td>\n",
       "      <td>9</td>\n",
       "      <td>9</td>\n",
       "      <td>9</td>\n",
       "      <td>9</td>\n",
       "      <td>2</td>\n",
       "      <td>2</td>\n",
       "      <td>3</td>\n",
       "      <td>2</td>\n",
       "      <td>2</td>\n",
       "      <td>2</td>\n",
       "    </tr>\n",
       "    <tr>\n",
       "      <th>2500061</th>\n",
       "      <td>6</td>\n",
       "      <td>1</td>\n",
       "      <td>3</td>\n",
       "      <td>1</td>\n",
       "      <td>2</td>\n",
       "      <td>2</td>\n",
       "      <td>99</td>\n",
       "      <td>16</td>\n",
       "      <td>2</td>\n",
       "      <td>43</td>\n",
       "      <td>...</td>\n",
       "      <td>9</td>\n",
       "      <td>9</td>\n",
       "      <td>9</td>\n",
       "      <td>9</td>\n",
       "      <td>2</td>\n",
       "      <td>2</td>\n",
       "      <td>1</td>\n",
       "      <td>3</td>\n",
       "      <td>2</td>\n",
       "      <td>2</td>\n",
       "    </tr>\n",
       "    <tr>\n",
       "      <th>2500071</th>\n",
       "      <td>6</td>\n",
       "      <td>1</td>\n",
       "      <td>3</td>\n",
       "      <td>1</td>\n",
       "      <td>2</td>\n",
       "      <td>2</td>\n",
       "      <td>99</td>\n",
       "      <td>16</td>\n",
       "      <td>1</td>\n",
       "      <td>41</td>\n",
       "      <td>...</td>\n",
       "      <td>9</td>\n",
       "      <td>9</td>\n",
       "      <td>9</td>\n",
       "      <td>9</td>\n",
       "      <td>2</td>\n",
       "      <td>2</td>\n",
       "      <td>1</td>\n",
       "      <td>3</td>\n",
       "      <td>2</td>\n",
       "      <td>2</td>\n",
       "    </tr>\n",
       "  </tbody>\n",
       "</table>\n",
       "<p>5 rows × 97 columns</p>\n",
       "</div>"
      ],
      "text/plain": [
       "            tipo_municipio  situacion_laboral  tipo_hogar  tipo_contrato  \\\n",
       "IDENTHOGAR                                                                 \n",
       "2500011                  6                  1           2              1   \n",
       "2500021                  6                  3           6              1   \n",
       "2500031                  6                  1           1              1   \n",
       "2500061                  6                  1           3              1   \n",
       "2500071                  6                  1           3              1   \n",
       "\n",
       "            tipo_ayuda  tipo_jubilacion  salario_neto  comunidad_autonoma  \\\n",
       "IDENTHOGAR                                                                  \n",
       "2500011              2                2            99                  16   \n",
       "2500021              2                1            99                  16   \n",
       "2500031              2                2             2                  16   \n",
       "2500061              2                2            99                  16   \n",
       "2500071              2                2            99                  16   \n",
       "\n",
       "            sexo  edad  ...  depresion_12meses  depresion_diagnosticomedico  \\\n",
       "IDENTHOGAR              ...                                                   \n",
       "2500011        1    60  ...                  9                            9   \n",
       "2500021        2    87  ...                  9                            9   \n",
       "2500031        1    38  ...                  9                            9   \n",
       "2500061        2    43  ...                  9                            9   \n",
       "2500071        1    41  ...                  9                            9   \n",
       "\n",
       "            ansiedad_12meses  ansiedad_diagnosticomedico  \\\n",
       "IDENTHOGAR                                                 \n",
       "2500011                    9                           9   \n",
       "2500021                    9                           9   \n",
       "2500031                    9                           9   \n",
       "2500061                    9                           9   \n",
       "2500071                    9                           9   \n",
       "\n",
       "            dificultad_actdiaria  dificultad_acthogar  nivel_depresion  \\\n",
       "IDENTHOGAR                                                               \n",
       "2500011                        2                    2                1   \n",
       "2500021                        1                    1                3   \n",
       "2500031                        2                    2                3   \n",
       "2500061                        2                    2                1   \n",
       "2500071                        2                    2                1   \n",
       "\n",
       "            prevalencia_depresion  depresion  ansiedad  \n",
       "IDENTHOGAR                                              \n",
       "2500011                         3          2         2  \n",
       "2500021                         3          2         2  \n",
       "2500031                         2          2         2  \n",
       "2500061                         3          2         2  \n",
       "2500071                         3          2         2  \n",
       "\n",
       "[5 rows x 97 columns]"
      ]
     },
     "execution_count": 128,
     "metadata": {},
     "output_type": "execute_result"
    }
   ],
   "source": [
    "df_full.head()"
   ]
  },
  {
   "cell_type": "markdown",
   "id": "511a3041",
   "metadata": {},
   "source": [
    "#### 8.3- Creación de los conjuntos de datos de estudio"
   ]
  },
  {
   "cell_type": "markdown",
   "id": "ff17cf09",
   "metadata": {},
   "source": [
    "La fase de limpieza y preprocesamiento de datos, se ha realizado inspeccionando si las variables tienen o no relación con la ansiedad o la depresión.\n",
    "\n",
    "Pero, para el análisis exploratorio y posterior construcción de los modelos, se debe analizar cada enfermedad por separado.\n",
    "\n",
    "Por lo que creamos dos conjuntos de datos con una sola variable objetivo por enfermedad."
   ]
  },
  {
   "cell_type": "markdown",
   "id": "8a73384d",
   "metadata": {},
   "source": [
    "Se crea un dataset con los atributos generales, no relacionados directamente con ninguna de las enfermedades"
   ]
  },
  {
   "cell_type": "code",
   "execution_count": 129,
   "id": "a2c616a8",
   "metadata": {},
   "outputs": [],
   "source": [
    "att_generales = ['tipo_municipio', 'situacion_laboral', 'tipo_hogar', 'tipo_contrato',\n",
    "       'tipo_ayuda', 'tipo_jubilacion', 'salario_neto', 'comunidad_autonoma', 'sexo', 'edad', 'pais_nacimiento',\n",
    "       'nacionalidad_espanola', 'nacionalidad_extranjera', 'tipo_convivencia',\n",
    "       'estado_civil', 'nivel_estudios', 'altura', 'peso', 'clase_social',\n",
    "       'imc', 'actividad_empresa', 'ocupacion', 'situacion_profesional',\n",
    "       'ausencia_laboral12m', 'tipo_actfisica', 'frecuencia_actfisica',\n",
    "       'frecuencia_consumocarne', 'frecuencia_consumopescado',\n",
    "       'frecuencia_consumoverdura', 'frecuencia_consumolegumbre', 'fumador',\n",
    "       'frecuencia_consumoalcohol', 'apoyosocial_cuantos',\n",
    "       'apoyosocial_interes', 'apoyosocial_ayuda', 'cuidado_personas',\n",
    "       'cuidado_horas', 'falta_atencionsanitaria', 'frecuencia_consumofruta',\n",
    "       'frecuencia_consumoprocesado', 'frecuencia_consumohuevoslacteos',\n",
    "       'frecuencia_consumocarbohidratos', 'estado_salud12m',\n",
    "       'estado_saludcronico', 'limitacion_salud6m', 'tipo_problemasalud',\n",
    "       'estado_saludbucodental', 'dificultad_concentracion', 'dolor_4semanas',\n",
    "       'dolor_limitacion', 'accidentes_12meses', 'limitacion_fisica',\n",
    "       'tension_alta', 'enfermedad_corazon', 'varices', 'artrosis',\n",
    "       'dolor_cervical', 'dolor_lumbar', 'alergias', 'asma', 'diabetes',\n",
    "       'orina', 'colesterol', 'cataratas', 'migrana', 'hemorroides',\n",
    "       'osteoporosis', 'tiroides', 'ultima_consultamedica',\n",
    "       'cantidad_consultageneral4sem', 'tiempo_ultimaconsulta',\n",
    "       'cantidad_consultaespecialista4sem', 'lugar_consulta4sem',\n",
    "       'tipo_consultamedica', 'consulta_enfermeria12m', 'ingreso_hospital12m',\n",
    "       'cantidad_ingresohospital12m', 'numero_nocheshospital12m',\n",
    "       'motivo_ingresohospital', 'ingreso_hospitaldia12m',\n",
    "       'cantidad_ingresohospitaldia12m', 'urgencia_12meses',\n",
    "       'cantidad_urgencias12m', 'tipo_urgencia', 'uso_sanidadpublica',\n",
    "       'uso_seguroprivado', 'consumo_medicamentos','dificultad_actdiaria',\n",
    "       'dificultad_acthogar']"
   ]
  },
  {
   "cell_type": "code",
   "execution_count": 130,
   "id": "2f460454",
   "metadata": {},
   "outputs": [],
   "source": [
    "df_variables = df_full[att_generales]"
   ]
  },
  {
   "cell_type": "markdown",
   "id": "726dbbea",
   "metadata": {},
   "source": [
    "##### 8.3.1- Dataset \"Depresión\""
   ]
  },
  {
   "cell_type": "markdown",
   "id": "dc6311a2",
   "metadata": {},
   "source": [
    "Se crea un dataset con las variables asociadas con la depresión, incluyendo el target \"depresion\""
   ]
  },
  {
   "cell_type": "code",
   "execution_count": 131,
   "id": "96ac3b60",
   "metadata": {},
   "outputs": [],
   "source": [
    "att_depresion = ['depresion_12meses','depresion_diagnosticomedico','nivel_depresion', 'prevalencia_depresion',\n",
    "                 'depresion']"
   ]
  },
  {
   "cell_type": "code",
   "execution_count": 132,
   "id": "b23a57ad",
   "metadata": {},
   "outputs": [],
   "source": [
    "df_variables_depresion = df_full[att_depresion]"
   ]
  },
  {
   "cell_type": "code",
   "execution_count": 133,
   "id": "23864671",
   "metadata": {},
   "outputs": [],
   "source": [
    "df_depresion = pd.concat([df_variables,df_variables_depresion],axis=1)"
   ]
  },
  {
   "cell_type": "code",
   "execution_count": 134,
   "id": "0cbdc10b",
   "metadata": {},
   "outputs": [
    {
     "name": "stdout",
     "output_type": "stream",
     "text": [
      "<class 'pandas.core.frame.DataFrame'>\n",
      "Int64Index: 22072 entries, 2500011 to 4996151\n",
      "Data columns (total 94 columns):\n",
      " #   Column                             Non-Null Count  Dtype\n",
      "---  ------                             --------------  -----\n",
      " 0   tipo_municipio                     22072 non-null  int64\n",
      " 1   situacion_laboral                  22072 non-null  int64\n",
      " 2   tipo_hogar                         22072 non-null  int64\n",
      " 3   tipo_contrato                      22072 non-null  Int64\n",
      " 4   tipo_ayuda                         22072 non-null  Int64\n",
      " 5   tipo_jubilacion                    22072 non-null  Int64\n",
      " 6   salario_neto                       22072 non-null  int64\n",
      " 7   comunidad_autonoma                 22072 non-null  int64\n",
      " 8   sexo                               22072 non-null  int64\n",
      " 9   edad                               22072 non-null  int64\n",
      " 10  pais_nacimiento                    22072 non-null  int64\n",
      " 11  nacionalidad_espanola              22072 non-null  int64\n",
      " 12  nacionalidad_extranjera            22072 non-null  int64\n",
      " 13  tipo_convivencia                   22072 non-null  int64\n",
      " 14  estado_civil                       22072 non-null  int64\n",
      " 15  nivel_estudios                     22072 non-null  int64\n",
      " 16  altura                             22072 non-null  int64\n",
      " 17  peso                               22072 non-null  int64\n",
      " 18  clase_social                       22072 non-null  int64\n",
      " 19  imc                                22072 non-null  int64\n",
      " 20  actividad_empresa                  22072 non-null  Int64\n",
      " 21  ocupacion                          22072 non-null  Int64\n",
      " 22  situacion_profesional              22072 non-null  Int64\n",
      " 23  ausencia_laboral12m                22072 non-null  Int64\n",
      " 24  tipo_actfisica                     22072 non-null  int64\n",
      " 25  frecuencia_actfisica               22072 non-null  int64\n",
      " 26  frecuencia_consumocarne            22072 non-null  int64\n",
      " 27  frecuencia_consumopescado          22072 non-null  int64\n",
      " 28  frecuencia_consumoverdura          22072 non-null  int64\n",
      " 29  frecuencia_consumolegumbre         22072 non-null  int64\n",
      " 30  fumador                            22072 non-null  int64\n",
      " 31  frecuencia_consumoalcohol          22072 non-null  int64\n",
      " 32  apoyosocial_cuantos                22072 non-null  int64\n",
      " 33  apoyosocial_interes                22072 non-null  int64\n",
      " 34  apoyosocial_ayuda                  22072 non-null  int64\n",
      " 35  cuidado_personas                   22072 non-null  int64\n",
      " 36  cuidado_horas                      22072 non-null  Int64\n",
      " 37  falta_atencionsanitaria            22072 non-null  int64\n",
      " 38  frecuencia_consumofruta            22072 non-null  int64\n",
      " 39  frecuencia_consumoprocesado        22072 non-null  int64\n",
      " 40  frecuencia_consumohuevoslacteos    22072 non-null  int64\n",
      " 41  frecuencia_consumocarbohidratos    22072 non-null  int64\n",
      " 42  estado_salud12m                    22072 non-null  int64\n",
      " 43  estado_saludcronico                22072 non-null  int64\n",
      " 44  limitacion_salud6m                 22072 non-null  int64\n",
      " 45  tipo_problemasalud                 22072 non-null  Int64\n",
      " 46  estado_saludbucodental             22072 non-null  int64\n",
      " 47  dificultad_concentracion           22072 non-null  int64\n",
      " 48  dolor_4semanas                     22072 non-null  int64\n",
      " 49  dolor_limitacion                   22072 non-null  int64\n",
      " 50  accidentes_12meses                 22072 non-null  int64\n",
      " 51  limitacion_fisica                  22072 non-null  int64\n",
      " 52  tension_alta                       22072 non-null  int64\n",
      " 53  enfermedad_corazon                 22072 non-null  int64\n",
      " 54  varices                            22072 non-null  int64\n",
      " 55  artrosis                           22072 non-null  int64\n",
      " 56  dolor_cervical                     22072 non-null  int64\n",
      " 57  dolor_lumbar                       22072 non-null  int64\n",
      " 58  alergias                           22072 non-null  int64\n",
      " 59  asma                               22072 non-null  int64\n",
      " 60  diabetes                           22072 non-null  int64\n",
      " 61  orina                              22072 non-null  int64\n",
      " 62  colesterol                         22072 non-null  int64\n",
      " 63  cataratas                          22072 non-null  int64\n",
      " 64  migrana                            22072 non-null  int64\n",
      " 65  hemorroides                        22072 non-null  int64\n",
      " 66  osteoporosis                       22072 non-null  int64\n",
      " 67  tiroides                           22072 non-null  int64\n",
      " 68  ultima_consultamedica              22072 non-null  int64\n",
      " 69  cantidad_consultageneral4sem       22072 non-null  Int64\n",
      " 70  tiempo_ultimaconsulta              22072 non-null  int64\n",
      " 71  cantidad_consultaespecialista4sem  22072 non-null  Int64\n",
      " 72  lugar_consulta4sem                 22072 non-null  Int64\n",
      " 73  tipo_consultamedica                22072 non-null  Int64\n",
      " 74  consulta_enfermeria12m             22072 non-null  int64\n",
      " 75  ingreso_hospital12m                22072 non-null  int64\n",
      " 76  cantidad_ingresohospital12m        22072 non-null  Int64\n",
      " 77  numero_nocheshospital12m           22072 non-null  Int64\n",
      " 78  motivo_ingresohospital             22072 non-null  Int64\n",
      " 79  ingreso_hospitaldia12m             22072 non-null  int64\n",
      " 80  cantidad_ingresohospitaldia12m     22072 non-null  Int64\n",
      " 81  urgencia_12meses                   22072 non-null  int64\n",
      " 82  cantidad_urgencias12m              22072 non-null  Int64\n",
      " 83  tipo_urgencia                      22072 non-null  Int64\n",
      " 84  uso_sanidadpublica                 22072 non-null  int64\n",
      " 85  uso_seguroprivado                  22072 non-null  int64\n",
      " 86  consumo_medicamentos               22072 non-null  Int64\n",
      " 87  dificultad_actdiaria               22072 non-null  int64\n",
      " 88  dificultad_acthogar                22072 non-null  int64\n",
      " 89  depresion_12meses                  22072 non-null  Int64\n",
      " 90  depresion_diagnosticomedico        22072 non-null  Int64\n",
      " 91  nivel_depresion                    22072 non-null  int64\n",
      " 92  prevalencia_depresion              22072 non-null  int64\n",
      " 93  depresion                          22072 non-null  int64\n",
      "dtypes: Int64(22), int64(72)\n",
      "memory usage: 16.5 MB\n"
     ]
    }
   ],
   "source": [
    "df_depresion.info()"
   ]
  },
  {
   "cell_type": "markdown",
   "id": "f3dc8349",
   "metadata": {},
   "source": [
    "##### 8.3.2- Dataset \"Ansiedad\""
   ]
  },
  {
   "cell_type": "markdown",
   "id": "41a858cb",
   "metadata": {},
   "source": [
    "Se crea un dataset con las variables asociadas con la ansiedad, incluyendo el target \"ansiedad\""
   ]
  },
  {
   "cell_type": "code",
   "execution_count": 135,
   "id": "31e7c920",
   "metadata": {},
   "outputs": [],
   "source": [
    "att_ansiedad = ['ansiedad_12meses','ansiedad_diagnosticomedico','ansiedad']"
   ]
  },
  {
   "cell_type": "code",
   "execution_count": 136,
   "id": "747b1c44",
   "metadata": {},
   "outputs": [],
   "source": [
    "df_variables_ansiedad = df_full[att_ansiedad]"
   ]
  },
  {
   "cell_type": "code",
   "execution_count": 137,
   "id": "26131452",
   "metadata": {},
   "outputs": [],
   "source": [
    "df_ansiedad = pd.concat([df_variables,df_variables_ansiedad],axis=1)"
   ]
  },
  {
   "cell_type": "code",
   "execution_count": 138,
   "id": "b225936e",
   "metadata": {},
   "outputs": [
    {
     "name": "stdout",
     "output_type": "stream",
     "text": [
      "<class 'pandas.core.frame.DataFrame'>\n",
      "Int64Index: 22072 entries, 2500011 to 4996151\n",
      "Data columns (total 92 columns):\n",
      " #   Column                             Non-Null Count  Dtype\n",
      "---  ------                             --------------  -----\n",
      " 0   tipo_municipio                     22072 non-null  int64\n",
      " 1   situacion_laboral                  22072 non-null  int64\n",
      " 2   tipo_hogar                         22072 non-null  int64\n",
      " 3   tipo_contrato                      22072 non-null  Int64\n",
      " 4   tipo_ayuda                         22072 non-null  Int64\n",
      " 5   tipo_jubilacion                    22072 non-null  Int64\n",
      " 6   salario_neto                       22072 non-null  int64\n",
      " 7   comunidad_autonoma                 22072 non-null  int64\n",
      " 8   sexo                               22072 non-null  int64\n",
      " 9   edad                               22072 non-null  int64\n",
      " 10  pais_nacimiento                    22072 non-null  int64\n",
      " 11  nacionalidad_espanola              22072 non-null  int64\n",
      " 12  nacionalidad_extranjera            22072 non-null  int64\n",
      " 13  tipo_convivencia                   22072 non-null  int64\n",
      " 14  estado_civil                       22072 non-null  int64\n",
      " 15  nivel_estudios                     22072 non-null  int64\n",
      " 16  altura                             22072 non-null  int64\n",
      " 17  peso                               22072 non-null  int64\n",
      " 18  clase_social                       22072 non-null  int64\n",
      " 19  imc                                22072 non-null  int64\n",
      " 20  actividad_empresa                  22072 non-null  Int64\n",
      " 21  ocupacion                          22072 non-null  Int64\n",
      " 22  situacion_profesional              22072 non-null  Int64\n",
      " 23  ausencia_laboral12m                22072 non-null  Int64\n",
      " 24  tipo_actfisica                     22072 non-null  int64\n",
      " 25  frecuencia_actfisica               22072 non-null  int64\n",
      " 26  frecuencia_consumocarne            22072 non-null  int64\n",
      " 27  frecuencia_consumopescado          22072 non-null  int64\n",
      " 28  frecuencia_consumoverdura          22072 non-null  int64\n",
      " 29  frecuencia_consumolegumbre         22072 non-null  int64\n",
      " 30  fumador                            22072 non-null  int64\n",
      " 31  frecuencia_consumoalcohol          22072 non-null  int64\n",
      " 32  apoyosocial_cuantos                22072 non-null  int64\n",
      " 33  apoyosocial_interes                22072 non-null  int64\n",
      " 34  apoyosocial_ayuda                  22072 non-null  int64\n",
      " 35  cuidado_personas                   22072 non-null  int64\n",
      " 36  cuidado_horas                      22072 non-null  Int64\n",
      " 37  falta_atencionsanitaria            22072 non-null  int64\n",
      " 38  frecuencia_consumofruta            22072 non-null  int64\n",
      " 39  frecuencia_consumoprocesado        22072 non-null  int64\n",
      " 40  frecuencia_consumohuevoslacteos    22072 non-null  int64\n",
      " 41  frecuencia_consumocarbohidratos    22072 non-null  int64\n",
      " 42  estado_salud12m                    22072 non-null  int64\n",
      " 43  estado_saludcronico                22072 non-null  int64\n",
      " 44  limitacion_salud6m                 22072 non-null  int64\n",
      " 45  tipo_problemasalud                 22072 non-null  Int64\n",
      " 46  estado_saludbucodental             22072 non-null  int64\n",
      " 47  dificultad_concentracion           22072 non-null  int64\n",
      " 48  dolor_4semanas                     22072 non-null  int64\n",
      " 49  dolor_limitacion                   22072 non-null  int64\n",
      " 50  accidentes_12meses                 22072 non-null  int64\n",
      " 51  limitacion_fisica                  22072 non-null  int64\n",
      " 52  tension_alta                       22072 non-null  int64\n",
      " 53  enfermedad_corazon                 22072 non-null  int64\n",
      " 54  varices                            22072 non-null  int64\n",
      " 55  artrosis                           22072 non-null  int64\n",
      " 56  dolor_cervical                     22072 non-null  int64\n",
      " 57  dolor_lumbar                       22072 non-null  int64\n",
      " 58  alergias                           22072 non-null  int64\n",
      " 59  asma                               22072 non-null  int64\n",
      " 60  diabetes                           22072 non-null  int64\n",
      " 61  orina                              22072 non-null  int64\n",
      " 62  colesterol                         22072 non-null  int64\n",
      " 63  cataratas                          22072 non-null  int64\n",
      " 64  migrana                            22072 non-null  int64\n",
      " 65  hemorroides                        22072 non-null  int64\n",
      " 66  osteoporosis                       22072 non-null  int64\n",
      " 67  tiroides                           22072 non-null  int64\n",
      " 68  ultima_consultamedica              22072 non-null  int64\n",
      " 69  cantidad_consultageneral4sem       22072 non-null  Int64\n",
      " 70  tiempo_ultimaconsulta              22072 non-null  int64\n",
      " 71  cantidad_consultaespecialista4sem  22072 non-null  Int64\n",
      " 72  lugar_consulta4sem                 22072 non-null  Int64\n",
      " 73  tipo_consultamedica                22072 non-null  Int64\n",
      " 74  consulta_enfermeria12m             22072 non-null  int64\n",
      " 75  ingreso_hospital12m                22072 non-null  int64\n",
      " 76  cantidad_ingresohospital12m        22072 non-null  Int64\n",
      " 77  numero_nocheshospital12m           22072 non-null  Int64\n",
      " 78  motivo_ingresohospital             22072 non-null  Int64\n",
      " 79  ingreso_hospitaldia12m             22072 non-null  int64\n",
      " 80  cantidad_ingresohospitaldia12m     22072 non-null  Int64\n",
      " 81  urgencia_12meses                   22072 non-null  int64\n",
      " 82  cantidad_urgencias12m              22072 non-null  Int64\n",
      " 83  tipo_urgencia                      22072 non-null  Int64\n",
      " 84  uso_sanidadpublica                 22072 non-null  int64\n",
      " 85  uso_seguroprivado                  22072 non-null  int64\n",
      " 86  consumo_medicamentos               22072 non-null  Int64\n",
      " 87  dificultad_actdiaria               22072 non-null  int64\n",
      " 88  dificultad_acthogar                22072 non-null  int64\n",
      " 89  ansiedad_12meses                   22072 non-null  Int64\n",
      " 90  ansiedad_diagnosticomedico         22072 non-null  Int64\n",
      " 91  ansiedad                           22072 non-null  int64\n",
      "dtypes: Int64(22), int64(70)\n",
      "memory usage: 16.1 MB\n"
     ]
    }
   ],
   "source": [
    "df_ansiedad.info()"
   ]
  },
  {
   "cell_type": "markdown",
   "id": "3d3897d3",
   "metadata": {},
   "source": [
    "Los dos datasets tienen todas las variables del dataset concatenado asociadas a la enfermedad a analizar, y el target (ansiedad o depresión).\n",
    "\n",
    "Guardamos en un fichero .csv ambos datasets"
   ]
  },
  {
   "cell_type": "code",
   "execution_count": 139,
   "id": "cc2cf8b6",
   "metadata": {},
   "outputs": [],
   "source": [
    "df_ansiedad.to_csv('ansiedad2020.csv')\n",
    "df_depresion.to_csv('depresion2020.csv')"
   ]
  },
  {
   "cell_type": "markdown",
   "id": "6705568d",
   "metadata": {},
   "source": [
    "#### 8.4- Normalización de los datos de entrada"
   ]
  },
  {
   "cell_type": "markdown",
   "id": "f50ec77f",
   "metadata": {},
   "source": [
    "Es importante normalizar antes de ejecutar los modelos para tener un rango definido de todas las variables que forman parte del algoritmo.\n",
    "\n",
    "Uno de los detalles interesantes del conjunto de datos, es que hasta ahora hemos estado trabajando con variables numéricas discretas. En ningún momento se han utilizado variables categóricas.\n",
    "\n",
    "Así, que la normalización de las variables para su posterior estudio de correlación, se centra solo en normalizar o escalar. No se aplicarán técnicas de One-Hot Encoding orientadas a discretizar variables categóricas.\n",
    "\n",
    "En este caso aplicaremos el \"escalado\" (0-1) de las variables, porque estamos trabajando en valores positivos. \n",
    "\n",
    "Este paso solo aplica a las variables, dejando por fuera al target.\n",
    "\n",
    "Aún no se han hecho inspecciones sobre valores atípicos(outliers), principalmente por la gran cantidad de variables y porque todos los registros aportan una respuesta necesaria para la detección de patrones asociados a la ansiedad o la depresión\n",
    "\n",
    "Por ello se utilizará el método de escalado \"QuantileTransformer\", que es un método ofrecido por scikit-learn, que toma en cuenta este tipo de datos en su normalización para agruparlos en el rango."
   ]
  },
  {
   "cell_type": "code",
   "execution_count": 140,
   "id": "4264fbcb",
   "metadata": {},
   "outputs": [
    {
     "data": {
      "text/html": [
       "<div>\n",
       "<style scoped>\n",
       "    .dataframe tbody tr th:only-of-type {\n",
       "        vertical-align: middle;\n",
       "    }\n",
       "\n",
       "    .dataframe tbody tr th {\n",
       "        vertical-align: top;\n",
       "    }\n",
       "\n",
       "    .dataframe thead th {\n",
       "        text-align: right;\n",
       "    }\n",
       "</style>\n",
       "<table border=\"1\" class=\"dataframe\">\n",
       "  <thead>\n",
       "    <tr style=\"text-align: right;\">\n",
       "      <th></th>\n",
       "      <th>tipo_municipio</th>\n",
       "      <th>situacion_laboral</th>\n",
       "      <th>tipo_hogar</th>\n",
       "      <th>tipo_contrato</th>\n",
       "      <th>tipo_ayuda</th>\n",
       "      <th>tipo_jubilacion</th>\n",
       "      <th>salario_neto</th>\n",
       "      <th>comunidad_autonoma</th>\n",
       "      <th>sexo</th>\n",
       "      <th>edad</th>\n",
       "      <th>...</th>\n",
       "      <th>cantidad_urgencias12m</th>\n",
       "      <th>tipo_urgencia</th>\n",
       "      <th>uso_sanidadpublica</th>\n",
       "      <th>uso_seguroprivado</th>\n",
       "      <th>consumo_medicamentos</th>\n",
       "      <th>dificultad_actdiaria</th>\n",
       "      <th>dificultad_acthogar</th>\n",
       "      <th>ansiedad_12meses</th>\n",
       "      <th>ansiedad_diagnosticomedico</th>\n",
       "      <th>ansiedad</th>\n",
       "    </tr>\n",
       "    <tr>\n",
       "      <th>IDENTHOGAR</th>\n",
       "      <th></th>\n",
       "      <th></th>\n",
       "      <th></th>\n",
       "      <th></th>\n",
       "      <th></th>\n",
       "      <th></th>\n",
       "      <th></th>\n",
       "      <th></th>\n",
       "      <th></th>\n",
       "      <th></th>\n",
       "      <th></th>\n",
       "      <th></th>\n",
       "      <th></th>\n",
       "      <th></th>\n",
       "      <th></th>\n",
       "      <th></th>\n",
       "      <th></th>\n",
       "      <th></th>\n",
       "      <th></th>\n",
       "      <th></th>\n",
       "      <th></th>\n",
       "    </tr>\n",
       "  </thead>\n",
       "  <tbody>\n",
       "    <tr>\n",
       "      <th>2500011</th>\n",
       "      <td>6</td>\n",
       "      <td>1</td>\n",
       "      <td>2</td>\n",
       "      <td>1</td>\n",
       "      <td>2</td>\n",
       "      <td>2</td>\n",
       "      <td>99</td>\n",
       "      <td>16</td>\n",
       "      <td>1</td>\n",
       "      <td>60</td>\n",
       "      <td>...</td>\n",
       "      <td>0</td>\n",
       "      <td>9</td>\n",
       "      <td>1</td>\n",
       "      <td>2</td>\n",
       "      <td>0</td>\n",
       "      <td>2</td>\n",
       "      <td>2</td>\n",
       "      <td>9</td>\n",
       "      <td>9</td>\n",
       "      <td>2</td>\n",
       "    </tr>\n",
       "    <tr>\n",
       "      <th>2500021</th>\n",
       "      <td>6</td>\n",
       "      <td>3</td>\n",
       "      <td>6</td>\n",
       "      <td>1</td>\n",
       "      <td>2</td>\n",
       "      <td>1</td>\n",
       "      <td>99</td>\n",
       "      <td>16</td>\n",
       "      <td>2</td>\n",
       "      <td>87</td>\n",
       "      <td>...</td>\n",
       "      <td>1</td>\n",
       "      <td>1</td>\n",
       "      <td>1</td>\n",
       "      <td>1</td>\n",
       "      <td>8</td>\n",
       "      <td>1</td>\n",
       "      <td>1</td>\n",
       "      <td>9</td>\n",
       "      <td>9</td>\n",
       "      <td>2</td>\n",
       "    </tr>\n",
       "    <tr>\n",
       "      <th>2500031</th>\n",
       "      <td>6</td>\n",
       "      <td>1</td>\n",
       "      <td>1</td>\n",
       "      <td>1</td>\n",
       "      <td>2</td>\n",
       "      <td>2</td>\n",
       "      <td>2</td>\n",
       "      <td>16</td>\n",
       "      <td>1</td>\n",
       "      <td>38</td>\n",
       "      <td>...</td>\n",
       "      <td>1</td>\n",
       "      <td>4</td>\n",
       "      <td>1</td>\n",
       "      <td>2</td>\n",
       "      <td>1</td>\n",
       "      <td>2</td>\n",
       "      <td>2</td>\n",
       "      <td>9</td>\n",
       "      <td>9</td>\n",
       "      <td>2</td>\n",
       "    </tr>\n",
       "    <tr>\n",
       "      <th>2500061</th>\n",
       "      <td>6</td>\n",
       "      <td>1</td>\n",
       "      <td>3</td>\n",
       "      <td>1</td>\n",
       "      <td>2</td>\n",
       "      <td>2</td>\n",
       "      <td>99</td>\n",
       "      <td>16</td>\n",
       "      <td>2</td>\n",
       "      <td>43</td>\n",
       "      <td>...</td>\n",
       "      <td>1</td>\n",
       "      <td>4</td>\n",
       "      <td>1</td>\n",
       "      <td>1</td>\n",
       "      <td>2</td>\n",
       "      <td>2</td>\n",
       "      <td>2</td>\n",
       "      <td>9</td>\n",
       "      <td>9</td>\n",
       "      <td>2</td>\n",
       "    </tr>\n",
       "    <tr>\n",
       "      <th>2500071</th>\n",
       "      <td>6</td>\n",
       "      <td>1</td>\n",
       "      <td>3</td>\n",
       "      <td>1</td>\n",
       "      <td>2</td>\n",
       "      <td>2</td>\n",
       "      <td>99</td>\n",
       "      <td>16</td>\n",
       "      <td>1</td>\n",
       "      <td>41</td>\n",
       "      <td>...</td>\n",
       "      <td>0</td>\n",
       "      <td>9</td>\n",
       "      <td>1</td>\n",
       "      <td>2</td>\n",
       "      <td>1</td>\n",
       "      <td>2</td>\n",
       "      <td>2</td>\n",
       "      <td>9</td>\n",
       "      <td>9</td>\n",
       "      <td>2</td>\n",
       "    </tr>\n",
       "  </tbody>\n",
       "</table>\n",
       "<p>5 rows × 92 columns</p>\n",
       "</div>"
      ],
      "text/plain": [
       "            tipo_municipio  situacion_laboral  tipo_hogar  tipo_contrato  \\\n",
       "IDENTHOGAR                                                                 \n",
       "2500011                  6                  1           2              1   \n",
       "2500021                  6                  3           6              1   \n",
       "2500031                  6                  1           1              1   \n",
       "2500061                  6                  1           3              1   \n",
       "2500071                  6                  1           3              1   \n",
       "\n",
       "            tipo_ayuda  tipo_jubilacion  salario_neto  comunidad_autonoma  \\\n",
       "IDENTHOGAR                                                                  \n",
       "2500011              2                2            99                  16   \n",
       "2500021              2                1            99                  16   \n",
       "2500031              2                2             2                  16   \n",
       "2500061              2                2            99                  16   \n",
       "2500071              2                2            99                  16   \n",
       "\n",
       "            sexo  edad  ...  cantidad_urgencias12m  tipo_urgencia  \\\n",
       "IDENTHOGAR              ...                                         \n",
       "2500011        1    60  ...                      0              9   \n",
       "2500021        2    87  ...                      1              1   \n",
       "2500031        1    38  ...                      1              4   \n",
       "2500061        2    43  ...                      1              4   \n",
       "2500071        1    41  ...                      0              9   \n",
       "\n",
       "            uso_sanidadpublica  uso_seguroprivado  consumo_medicamentos  \\\n",
       "IDENTHOGAR                                                                \n",
       "2500011                      1                  2                     0   \n",
       "2500021                      1                  1                     8   \n",
       "2500031                      1                  2                     1   \n",
       "2500061                      1                  1                     2   \n",
       "2500071                      1                  2                     1   \n",
       "\n",
       "            dificultad_actdiaria  dificultad_acthogar  ansiedad_12meses  \\\n",
       "IDENTHOGAR                                                                \n",
       "2500011                        2                    2                 9   \n",
       "2500021                        1                    1                 9   \n",
       "2500031                        2                    2                 9   \n",
       "2500061                        2                    2                 9   \n",
       "2500071                        2                    2                 9   \n",
       "\n",
       "            ansiedad_diagnosticomedico  ansiedad  \n",
       "IDENTHOGAR                                        \n",
       "2500011                              9         2  \n",
       "2500021                              9         2  \n",
       "2500031                              9         2  \n",
       "2500061                              9         2  \n",
       "2500071                              9         2  \n",
       "\n",
       "[5 rows x 92 columns]"
      ]
     },
     "execution_count": 140,
     "metadata": {},
     "output_type": "execute_result"
    }
   ],
   "source": [
    "df_ansiedad.head()"
   ]
  },
  {
   "cell_type": "code",
   "execution_count": 141,
   "id": "fb52b29f",
   "metadata": {},
   "outputs": [
    {
     "data": {
      "text/html": [
       "<div>\n",
       "<style scoped>\n",
       "    .dataframe tbody tr th:only-of-type {\n",
       "        vertical-align: middle;\n",
       "    }\n",
       "\n",
       "    .dataframe tbody tr th {\n",
       "        vertical-align: top;\n",
       "    }\n",
       "\n",
       "    .dataframe thead th {\n",
       "        text-align: right;\n",
       "    }\n",
       "</style>\n",
       "<table border=\"1\" class=\"dataframe\">\n",
       "  <thead>\n",
       "    <tr style=\"text-align: right;\">\n",
       "      <th></th>\n",
       "      <th>tipo_municipio</th>\n",
       "      <th>situacion_laboral</th>\n",
       "      <th>tipo_hogar</th>\n",
       "      <th>tipo_contrato</th>\n",
       "      <th>tipo_ayuda</th>\n",
       "      <th>tipo_jubilacion</th>\n",
       "      <th>salario_neto</th>\n",
       "      <th>comunidad_autonoma</th>\n",
       "      <th>sexo</th>\n",
       "      <th>edad</th>\n",
       "      <th>...</th>\n",
       "      <th>uso_sanidadpublica</th>\n",
       "      <th>uso_seguroprivado</th>\n",
       "      <th>consumo_medicamentos</th>\n",
       "      <th>dificultad_actdiaria</th>\n",
       "      <th>dificultad_acthogar</th>\n",
       "      <th>depresion_12meses</th>\n",
       "      <th>depresion_diagnosticomedico</th>\n",
       "      <th>nivel_depresion</th>\n",
       "      <th>prevalencia_depresion</th>\n",
       "      <th>depresion</th>\n",
       "    </tr>\n",
       "    <tr>\n",
       "      <th>IDENTHOGAR</th>\n",
       "      <th></th>\n",
       "      <th></th>\n",
       "      <th></th>\n",
       "      <th></th>\n",
       "      <th></th>\n",
       "      <th></th>\n",
       "      <th></th>\n",
       "      <th></th>\n",
       "      <th></th>\n",
       "      <th></th>\n",
       "      <th></th>\n",
       "      <th></th>\n",
       "      <th></th>\n",
       "      <th></th>\n",
       "      <th></th>\n",
       "      <th></th>\n",
       "      <th></th>\n",
       "      <th></th>\n",
       "      <th></th>\n",
       "      <th></th>\n",
       "      <th></th>\n",
       "    </tr>\n",
       "  </thead>\n",
       "  <tbody>\n",
       "    <tr>\n",
       "      <th>2500011</th>\n",
       "      <td>6</td>\n",
       "      <td>1</td>\n",
       "      <td>2</td>\n",
       "      <td>1</td>\n",
       "      <td>2</td>\n",
       "      <td>2</td>\n",
       "      <td>99</td>\n",
       "      <td>16</td>\n",
       "      <td>1</td>\n",
       "      <td>60</td>\n",
       "      <td>...</td>\n",
       "      <td>1</td>\n",
       "      <td>2</td>\n",
       "      <td>0</td>\n",
       "      <td>2</td>\n",
       "      <td>2</td>\n",
       "      <td>9</td>\n",
       "      <td>9</td>\n",
       "      <td>1</td>\n",
       "      <td>3</td>\n",
       "      <td>2</td>\n",
       "    </tr>\n",
       "    <tr>\n",
       "      <th>2500021</th>\n",
       "      <td>6</td>\n",
       "      <td>3</td>\n",
       "      <td>6</td>\n",
       "      <td>1</td>\n",
       "      <td>2</td>\n",
       "      <td>1</td>\n",
       "      <td>99</td>\n",
       "      <td>16</td>\n",
       "      <td>2</td>\n",
       "      <td>87</td>\n",
       "      <td>...</td>\n",
       "      <td>1</td>\n",
       "      <td>1</td>\n",
       "      <td>8</td>\n",
       "      <td>1</td>\n",
       "      <td>1</td>\n",
       "      <td>9</td>\n",
       "      <td>9</td>\n",
       "      <td>3</td>\n",
       "      <td>3</td>\n",
       "      <td>2</td>\n",
       "    </tr>\n",
       "    <tr>\n",
       "      <th>2500031</th>\n",
       "      <td>6</td>\n",
       "      <td>1</td>\n",
       "      <td>1</td>\n",
       "      <td>1</td>\n",
       "      <td>2</td>\n",
       "      <td>2</td>\n",
       "      <td>2</td>\n",
       "      <td>16</td>\n",
       "      <td>1</td>\n",
       "      <td>38</td>\n",
       "      <td>...</td>\n",
       "      <td>1</td>\n",
       "      <td>2</td>\n",
       "      <td>1</td>\n",
       "      <td>2</td>\n",
       "      <td>2</td>\n",
       "      <td>9</td>\n",
       "      <td>9</td>\n",
       "      <td>3</td>\n",
       "      <td>2</td>\n",
       "      <td>2</td>\n",
       "    </tr>\n",
       "    <tr>\n",
       "      <th>2500061</th>\n",
       "      <td>6</td>\n",
       "      <td>1</td>\n",
       "      <td>3</td>\n",
       "      <td>1</td>\n",
       "      <td>2</td>\n",
       "      <td>2</td>\n",
       "      <td>99</td>\n",
       "      <td>16</td>\n",
       "      <td>2</td>\n",
       "      <td>43</td>\n",
       "      <td>...</td>\n",
       "      <td>1</td>\n",
       "      <td>1</td>\n",
       "      <td>2</td>\n",
       "      <td>2</td>\n",
       "      <td>2</td>\n",
       "      <td>9</td>\n",
       "      <td>9</td>\n",
       "      <td>1</td>\n",
       "      <td>3</td>\n",
       "      <td>2</td>\n",
       "    </tr>\n",
       "    <tr>\n",
       "      <th>2500071</th>\n",
       "      <td>6</td>\n",
       "      <td>1</td>\n",
       "      <td>3</td>\n",
       "      <td>1</td>\n",
       "      <td>2</td>\n",
       "      <td>2</td>\n",
       "      <td>99</td>\n",
       "      <td>16</td>\n",
       "      <td>1</td>\n",
       "      <td>41</td>\n",
       "      <td>...</td>\n",
       "      <td>1</td>\n",
       "      <td>2</td>\n",
       "      <td>1</td>\n",
       "      <td>2</td>\n",
       "      <td>2</td>\n",
       "      <td>9</td>\n",
       "      <td>9</td>\n",
       "      <td>1</td>\n",
       "      <td>3</td>\n",
       "      <td>2</td>\n",
       "    </tr>\n",
       "  </tbody>\n",
       "</table>\n",
       "<p>5 rows × 94 columns</p>\n",
       "</div>"
      ],
      "text/plain": [
       "            tipo_municipio  situacion_laboral  tipo_hogar  tipo_contrato  \\\n",
       "IDENTHOGAR                                                                 \n",
       "2500011                  6                  1           2              1   \n",
       "2500021                  6                  3           6              1   \n",
       "2500031                  6                  1           1              1   \n",
       "2500061                  6                  1           3              1   \n",
       "2500071                  6                  1           3              1   \n",
       "\n",
       "            tipo_ayuda  tipo_jubilacion  salario_neto  comunidad_autonoma  \\\n",
       "IDENTHOGAR                                                                  \n",
       "2500011              2                2            99                  16   \n",
       "2500021              2                1            99                  16   \n",
       "2500031              2                2             2                  16   \n",
       "2500061              2                2            99                  16   \n",
       "2500071              2                2            99                  16   \n",
       "\n",
       "            sexo  edad  ...  uso_sanidadpublica  uso_seguroprivado  \\\n",
       "IDENTHOGAR              ...                                          \n",
       "2500011        1    60  ...                   1                  2   \n",
       "2500021        2    87  ...                   1                  1   \n",
       "2500031        1    38  ...                   1                  2   \n",
       "2500061        2    43  ...                   1                  1   \n",
       "2500071        1    41  ...                   1                  2   \n",
       "\n",
       "            consumo_medicamentos  dificultad_actdiaria  dificultad_acthogar  \\\n",
       "IDENTHOGAR                                                                    \n",
       "2500011                        0                     2                    2   \n",
       "2500021                        8                     1                    1   \n",
       "2500031                        1                     2                    2   \n",
       "2500061                        2                     2                    2   \n",
       "2500071                        1                     2                    2   \n",
       "\n",
       "            depresion_12meses  depresion_diagnosticomedico  nivel_depresion  \\\n",
       "IDENTHOGAR                                                                    \n",
       "2500011                     9                            9                1   \n",
       "2500021                     9                            9                3   \n",
       "2500031                     9                            9                3   \n",
       "2500061                     9                            9                1   \n",
       "2500071                     9                            9                1   \n",
       "\n",
       "            prevalencia_depresion  depresion  \n",
       "IDENTHOGAR                                    \n",
       "2500011                         3          2  \n",
       "2500021                         3          2  \n",
       "2500031                         2          2  \n",
       "2500061                         3          2  \n",
       "2500071                         3          2  \n",
       "\n",
       "[5 rows x 94 columns]"
      ]
     },
     "execution_count": 141,
     "metadata": {},
     "output_type": "execute_result"
    }
   ],
   "source": [
    "df_depresion.head()"
   ]
  },
  {
   "cell_type": "code",
   "execution_count": 142,
   "id": "74ad1803",
   "metadata": {},
   "outputs": [],
   "source": [
    "# Eliminamos las variables objetivo de los dataset, para proceder al análisis de correlaciones y variables \n",
    "#significativas\n",
    "X_ansiedad = df_ansiedad.drop('ansiedad', axis=1)\n",
    "X_depresion = df_depresion.drop('depresion', axis=1)"
   ]
  },
  {
   "cell_type": "code",
   "execution_count": 143,
   "id": "15ca0892",
   "metadata": {},
   "outputs": [],
   "source": [
    "# Se crean los dataset con las variables objetivo\n",
    "y_ansiedad = df_ansiedad.ansiedad\n",
    "y_depresion = df_depresion.depresion"
   ]
  },
  {
   "cell_type": "code",
   "execution_count": 144,
   "id": "623e98b2",
   "metadata": {},
   "outputs": [
    {
     "name": "stdout",
     "output_type": "stream",
     "text": [
      "2    20279\n",
      "1     1793\n",
      "Name: ansiedad, dtype: int64\n",
      "2    19957\n",
      "1     2115\n",
      "Name: depresion, dtype: int64\n"
     ]
    }
   ],
   "source": [
    "print(y_ansiedad.value_counts())\n",
    "print(y_depresion.value_counts())"
   ]
  },
  {
   "cell_type": "code",
   "execution_count": 145,
   "id": "f69dc920",
   "metadata": {},
   "outputs": [],
   "source": [
    "qt = QuantileTransformer(random_state=123)"
   ]
  },
  {
   "cell_type": "code",
   "execution_count": 146,
   "id": "1ba70bb6",
   "metadata": {},
   "outputs": [],
   "source": [
    "X_ansiedad_norm = qt.fit_transform(X_ansiedad)\n",
    "X_depresion_norm = qt.fit_transform(X_depresion)"
   ]
  },
  {
   "cell_type": "code",
   "execution_count": 147,
   "id": "76981326",
   "metadata": {},
   "outputs": [],
   "source": [
    "#Reconstruimos los Dataframes\n",
    "df_ansiedad_norm = pd.DataFrame(X_ansiedad_norm, columns=X_ansiedad.columns,\n",
    "                                     index=X_ansiedad.index)\n",
    "df_depresion_norm = pd.DataFrame(X_depresion_norm, columns=X_depresion.columns,\n",
    "                                     index=X_depresion.index)"
   ]
  },
  {
   "cell_type": "code",
   "execution_count": 148,
   "id": "f8389aa7",
   "metadata": {},
   "outputs": [],
   "source": [
    "#Hago un reset en los indices\n",
    "df_ansiedad_norm=df_ansiedad_norm.reset_index()\n",
    "df_depresion_norm=df_depresion_norm.reset_index()"
   ]
  },
  {
   "cell_type": "code",
   "execution_count": 149,
   "id": "e1540ac2",
   "metadata": {},
   "outputs": [
    {
     "data": {
      "text/html": [
       "<div>\n",
       "<style scoped>\n",
       "    .dataframe tbody tr th:only-of-type {\n",
       "        vertical-align: middle;\n",
       "    }\n",
       "\n",
       "    .dataframe tbody tr th {\n",
       "        vertical-align: top;\n",
       "    }\n",
       "\n",
       "    .dataframe thead th {\n",
       "        text-align: right;\n",
       "    }\n",
       "</style>\n",
       "<table border=\"1\" class=\"dataframe\">\n",
       "  <thead>\n",
       "    <tr style=\"text-align: right;\">\n",
       "      <th></th>\n",
       "      <th>IDENTHOGAR</th>\n",
       "      <th>tipo_municipio</th>\n",
       "      <th>situacion_laboral</th>\n",
       "      <th>tipo_hogar</th>\n",
       "      <th>tipo_contrato</th>\n",
       "      <th>tipo_ayuda</th>\n",
       "      <th>tipo_jubilacion</th>\n",
       "      <th>salario_neto</th>\n",
       "      <th>comunidad_autonoma</th>\n",
       "      <th>sexo</th>\n",
       "      <th>...</th>\n",
       "      <th>urgencia_12meses</th>\n",
       "      <th>cantidad_urgencias12m</th>\n",
       "      <th>tipo_urgencia</th>\n",
       "      <th>uso_sanidadpublica</th>\n",
       "      <th>uso_seguroprivado</th>\n",
       "      <th>consumo_medicamentos</th>\n",
       "      <th>dificultad_actdiaria</th>\n",
       "      <th>dificultad_acthogar</th>\n",
       "      <th>ansiedad_12meses</th>\n",
       "      <th>ansiedad_diagnosticomedico</th>\n",
       "    </tr>\n",
       "  </thead>\n",
       "  <tbody>\n",
       "    <tr>\n",
       "      <th>0</th>\n",
       "      <td>2500011</td>\n",
       "      <td>1.0</td>\n",
       "      <td>0.000000</td>\n",
       "      <td>0.387387</td>\n",
       "      <td>0.0</td>\n",
       "      <td>1.0</td>\n",
       "      <td>1.0</td>\n",
       "      <td>1.000000</td>\n",
       "      <td>0.918919</td>\n",
       "      <td>0.0</td>\n",
       "      <td>...</td>\n",
       "      <td>1.0</td>\n",
       "      <td>0.000000</td>\n",
       "      <td>1.000000</td>\n",
       "      <td>0.0</td>\n",
       "      <td>1.0</td>\n",
       "      <td>0.000000</td>\n",
       "      <td>1.0</td>\n",
       "      <td>1.0</td>\n",
       "      <td>1.0</td>\n",
       "      <td>1.0</td>\n",
       "    </tr>\n",
       "    <tr>\n",
       "      <th>1</th>\n",
       "      <td>2500021</td>\n",
       "      <td>1.0</td>\n",
       "      <td>0.681682</td>\n",
       "      <td>0.890891</td>\n",
       "      <td>0.0</td>\n",
       "      <td>1.0</td>\n",
       "      <td>0.0</td>\n",
       "      <td>1.000000</td>\n",
       "      <td>0.918919</td>\n",
       "      <td>1.0</td>\n",
       "      <td>...</td>\n",
       "      <td>0.0</td>\n",
       "      <td>0.842342</td>\n",
       "      <td>0.000000</td>\n",
       "      <td>0.0</td>\n",
       "      <td>0.0</td>\n",
       "      <td>0.988488</td>\n",
       "      <td>0.0</td>\n",
       "      <td>0.0</td>\n",
       "      <td>1.0</td>\n",
       "      <td>1.0</td>\n",
       "    </tr>\n",
       "    <tr>\n",
       "      <th>2</th>\n",
       "      <td>2500031</td>\n",
       "      <td>1.0</td>\n",
       "      <td>0.000000</td>\n",
       "      <td>0.000000</td>\n",
       "      <td>0.0</td>\n",
       "      <td>1.0</td>\n",
       "      <td>1.0</td>\n",
       "      <td>0.400901</td>\n",
       "      <td>0.918919</td>\n",
       "      <td>0.0</td>\n",
       "      <td>...</td>\n",
       "      <td>0.0</td>\n",
       "      <td>0.842342</td>\n",
       "      <td>0.226226</td>\n",
       "      <td>0.0</td>\n",
       "      <td>1.0</td>\n",
       "      <td>0.463964</td>\n",
       "      <td>1.0</td>\n",
       "      <td>1.0</td>\n",
       "      <td>1.0</td>\n",
       "      <td>1.0</td>\n",
       "    </tr>\n",
       "    <tr>\n",
       "      <th>3</th>\n",
       "      <td>2500061</td>\n",
       "      <td>1.0</td>\n",
       "      <td>0.000000</td>\n",
       "      <td>0.624124</td>\n",
       "      <td>0.0</td>\n",
       "      <td>1.0</td>\n",
       "      <td>1.0</td>\n",
       "      <td>1.000000</td>\n",
       "      <td>0.918919</td>\n",
       "      <td>1.0</td>\n",
       "      <td>...</td>\n",
       "      <td>0.0</td>\n",
       "      <td>0.842342</td>\n",
       "      <td>0.226226</td>\n",
       "      <td>0.0</td>\n",
       "      <td>0.0</td>\n",
       "      <td>0.646647</td>\n",
       "      <td>1.0</td>\n",
       "      <td>1.0</td>\n",
       "      <td>1.0</td>\n",
       "      <td>1.0</td>\n",
       "    </tr>\n",
       "    <tr>\n",
       "      <th>4</th>\n",
       "      <td>2500071</td>\n",
       "      <td>1.0</td>\n",
       "      <td>0.000000</td>\n",
       "      <td>0.624124</td>\n",
       "      <td>0.0</td>\n",
       "      <td>1.0</td>\n",
       "      <td>1.0</td>\n",
       "      <td>1.000000</td>\n",
       "      <td>0.918919</td>\n",
       "      <td>0.0</td>\n",
       "      <td>...</td>\n",
       "      <td>1.0</td>\n",
       "      <td>0.000000</td>\n",
       "      <td>1.000000</td>\n",
       "      <td>0.0</td>\n",
       "      <td>1.0</td>\n",
       "      <td>0.463964</td>\n",
       "      <td>1.0</td>\n",
       "      <td>1.0</td>\n",
       "      <td>1.0</td>\n",
       "      <td>1.0</td>\n",
       "    </tr>\n",
       "  </tbody>\n",
       "</table>\n",
       "<p>5 rows × 92 columns</p>\n",
       "</div>"
      ],
      "text/plain": [
       "   IDENTHOGAR  tipo_municipio  situacion_laboral  tipo_hogar  tipo_contrato  \\\n",
       "0     2500011             1.0           0.000000    0.387387            0.0   \n",
       "1     2500021             1.0           0.681682    0.890891            0.0   \n",
       "2     2500031             1.0           0.000000    0.000000            0.0   \n",
       "3     2500061             1.0           0.000000    0.624124            0.0   \n",
       "4     2500071             1.0           0.000000    0.624124            0.0   \n",
       "\n",
       "   tipo_ayuda  tipo_jubilacion  salario_neto  comunidad_autonoma  sexo  ...  \\\n",
       "0         1.0              1.0      1.000000            0.918919   0.0  ...   \n",
       "1         1.0              0.0      1.000000            0.918919   1.0  ...   \n",
       "2         1.0              1.0      0.400901            0.918919   0.0  ...   \n",
       "3         1.0              1.0      1.000000            0.918919   1.0  ...   \n",
       "4         1.0              1.0      1.000000            0.918919   0.0  ...   \n",
       "\n",
       "   urgencia_12meses  cantidad_urgencias12m  tipo_urgencia  uso_sanidadpublica  \\\n",
       "0               1.0               0.000000       1.000000                 0.0   \n",
       "1               0.0               0.842342       0.000000                 0.0   \n",
       "2               0.0               0.842342       0.226226                 0.0   \n",
       "3               0.0               0.842342       0.226226                 0.0   \n",
       "4               1.0               0.000000       1.000000                 0.0   \n",
       "\n",
       "   uso_seguroprivado  consumo_medicamentos  dificultad_actdiaria  \\\n",
       "0                1.0              0.000000                   1.0   \n",
       "1                0.0              0.988488                   0.0   \n",
       "2                1.0              0.463964                   1.0   \n",
       "3                0.0              0.646647                   1.0   \n",
       "4                1.0              0.463964                   1.0   \n",
       "\n",
       "   dificultad_acthogar  ansiedad_12meses  ansiedad_diagnosticomedico  \n",
       "0                  1.0               1.0                         1.0  \n",
       "1                  0.0               1.0                         1.0  \n",
       "2                  1.0               1.0                         1.0  \n",
       "3                  1.0               1.0                         1.0  \n",
       "4                  1.0               1.0                         1.0  \n",
       "\n",
       "[5 rows x 92 columns]"
      ]
     },
     "execution_count": 149,
     "metadata": {},
     "output_type": "execute_result"
    }
   ],
   "source": [
    "df_ansiedad_norm.head()"
   ]
  },
  {
   "cell_type": "code",
   "execution_count": 150,
   "id": "92fd1f92",
   "metadata": {},
   "outputs": [
    {
     "data": {
      "text/html": [
       "<div>\n",
       "<style scoped>\n",
       "    .dataframe tbody tr th:only-of-type {\n",
       "        vertical-align: middle;\n",
       "    }\n",
       "\n",
       "    .dataframe tbody tr th {\n",
       "        vertical-align: top;\n",
       "    }\n",
       "\n",
       "    .dataframe thead th {\n",
       "        text-align: right;\n",
       "    }\n",
       "</style>\n",
       "<table border=\"1\" class=\"dataframe\">\n",
       "  <thead>\n",
       "    <tr style=\"text-align: right;\">\n",
       "      <th></th>\n",
       "      <th>IDENTHOGAR</th>\n",
       "      <th>tipo_municipio</th>\n",
       "      <th>situacion_laboral</th>\n",
       "      <th>tipo_hogar</th>\n",
       "      <th>tipo_contrato</th>\n",
       "      <th>tipo_ayuda</th>\n",
       "      <th>tipo_jubilacion</th>\n",
       "      <th>salario_neto</th>\n",
       "      <th>comunidad_autonoma</th>\n",
       "      <th>sexo</th>\n",
       "      <th>...</th>\n",
       "      <th>tipo_urgencia</th>\n",
       "      <th>uso_sanidadpublica</th>\n",
       "      <th>uso_seguroprivado</th>\n",
       "      <th>consumo_medicamentos</th>\n",
       "      <th>dificultad_actdiaria</th>\n",
       "      <th>dificultad_acthogar</th>\n",
       "      <th>depresion_12meses</th>\n",
       "      <th>depresion_diagnosticomedico</th>\n",
       "      <th>nivel_depresion</th>\n",
       "      <th>prevalencia_depresion</th>\n",
       "    </tr>\n",
       "  </thead>\n",
       "  <tbody>\n",
       "    <tr>\n",
       "      <th>0</th>\n",
       "      <td>2500011</td>\n",
       "      <td>1.0</td>\n",
       "      <td>0.000000</td>\n",
       "      <td>0.387387</td>\n",
       "      <td>0.0</td>\n",
       "      <td>1.0</td>\n",
       "      <td>1.0</td>\n",
       "      <td>1.000000</td>\n",
       "      <td>0.918919</td>\n",
       "      <td>0.0</td>\n",
       "      <td>...</td>\n",
       "      <td>1.000000</td>\n",
       "      <td>0.0</td>\n",
       "      <td>1.0</td>\n",
       "      <td>0.000000</td>\n",
       "      <td>1.0</td>\n",
       "      <td>1.0</td>\n",
       "      <td>1.0</td>\n",
       "      <td>1.0</td>\n",
       "      <td>0.000000</td>\n",
       "      <td>0.527027</td>\n",
       "    </tr>\n",
       "    <tr>\n",
       "      <th>1</th>\n",
       "      <td>2500021</td>\n",
       "      <td>1.0</td>\n",
       "      <td>0.681682</td>\n",
       "      <td>0.890891</td>\n",
       "      <td>0.0</td>\n",
       "      <td>1.0</td>\n",
       "      <td>0.0</td>\n",
       "      <td>1.000000</td>\n",
       "      <td>0.918919</td>\n",
       "      <td>1.0</td>\n",
       "      <td>...</td>\n",
       "      <td>0.000000</td>\n",
       "      <td>0.0</td>\n",
       "      <td>0.0</td>\n",
       "      <td>0.988488</td>\n",
       "      <td>0.0</td>\n",
       "      <td>0.0</td>\n",
       "      <td>1.0</td>\n",
       "      <td>1.0</td>\n",
       "      <td>0.958458</td>\n",
       "      <td>0.527027</td>\n",
       "    </tr>\n",
       "    <tr>\n",
       "      <th>2</th>\n",
       "      <td>2500031</td>\n",
       "      <td>1.0</td>\n",
       "      <td>0.000000</td>\n",
       "      <td>0.000000</td>\n",
       "      <td>0.0</td>\n",
       "      <td>1.0</td>\n",
       "      <td>1.0</td>\n",
       "      <td>0.400901</td>\n",
       "      <td>0.918919</td>\n",
       "      <td>0.0</td>\n",
       "      <td>...</td>\n",
       "      <td>0.226226</td>\n",
       "      <td>0.0</td>\n",
       "      <td>1.0</td>\n",
       "      <td>0.463964</td>\n",
       "      <td>1.0</td>\n",
       "      <td>1.0</td>\n",
       "      <td>1.0</td>\n",
       "      <td>1.0</td>\n",
       "      <td>0.958458</td>\n",
       "      <td>0.045045</td>\n",
       "    </tr>\n",
       "    <tr>\n",
       "      <th>3</th>\n",
       "      <td>2500061</td>\n",
       "      <td>1.0</td>\n",
       "      <td>0.000000</td>\n",
       "      <td>0.624124</td>\n",
       "      <td>0.0</td>\n",
       "      <td>1.0</td>\n",
       "      <td>1.0</td>\n",
       "      <td>1.000000</td>\n",
       "      <td>0.918919</td>\n",
       "      <td>1.0</td>\n",
       "      <td>...</td>\n",
       "      <td>0.226226</td>\n",
       "      <td>0.0</td>\n",
       "      <td>0.0</td>\n",
       "      <td>0.646647</td>\n",
       "      <td>1.0</td>\n",
       "      <td>1.0</td>\n",
       "      <td>1.0</td>\n",
       "      <td>1.0</td>\n",
       "      <td>0.000000</td>\n",
       "      <td>0.527027</td>\n",
       "    </tr>\n",
       "    <tr>\n",
       "      <th>4</th>\n",
       "      <td>2500071</td>\n",
       "      <td>1.0</td>\n",
       "      <td>0.000000</td>\n",
       "      <td>0.624124</td>\n",
       "      <td>0.0</td>\n",
       "      <td>1.0</td>\n",
       "      <td>1.0</td>\n",
       "      <td>1.000000</td>\n",
       "      <td>0.918919</td>\n",
       "      <td>0.0</td>\n",
       "      <td>...</td>\n",
       "      <td>1.000000</td>\n",
       "      <td>0.0</td>\n",
       "      <td>1.0</td>\n",
       "      <td>0.463964</td>\n",
       "      <td>1.0</td>\n",
       "      <td>1.0</td>\n",
       "      <td>1.0</td>\n",
       "      <td>1.0</td>\n",
       "      <td>0.000000</td>\n",
       "      <td>0.527027</td>\n",
       "    </tr>\n",
       "  </tbody>\n",
       "</table>\n",
       "<p>5 rows × 94 columns</p>\n",
       "</div>"
      ],
      "text/plain": [
       "   IDENTHOGAR  tipo_municipio  situacion_laboral  tipo_hogar  tipo_contrato  \\\n",
       "0     2500011             1.0           0.000000    0.387387            0.0   \n",
       "1     2500021             1.0           0.681682    0.890891            0.0   \n",
       "2     2500031             1.0           0.000000    0.000000            0.0   \n",
       "3     2500061             1.0           0.000000    0.624124            0.0   \n",
       "4     2500071             1.0           0.000000    0.624124            0.0   \n",
       "\n",
       "   tipo_ayuda  tipo_jubilacion  salario_neto  comunidad_autonoma  sexo  ...  \\\n",
       "0         1.0              1.0      1.000000            0.918919   0.0  ...   \n",
       "1         1.0              0.0      1.000000            0.918919   1.0  ...   \n",
       "2         1.0              1.0      0.400901            0.918919   0.0  ...   \n",
       "3         1.0              1.0      1.000000            0.918919   1.0  ...   \n",
       "4         1.0              1.0      1.000000            0.918919   0.0  ...   \n",
       "\n",
       "   tipo_urgencia  uso_sanidadpublica  uso_seguroprivado  consumo_medicamentos  \\\n",
       "0       1.000000                 0.0                1.0              0.000000   \n",
       "1       0.000000                 0.0                0.0              0.988488   \n",
       "2       0.226226                 0.0                1.0              0.463964   \n",
       "3       0.226226                 0.0                0.0              0.646647   \n",
       "4       1.000000                 0.0                1.0              0.463964   \n",
       "\n",
       "   dificultad_actdiaria  dificultad_acthogar  depresion_12meses  \\\n",
       "0                   1.0                  1.0                1.0   \n",
       "1                   0.0                  0.0                1.0   \n",
       "2                   1.0                  1.0                1.0   \n",
       "3                   1.0                  1.0                1.0   \n",
       "4                   1.0                  1.0                1.0   \n",
       "\n",
       "   depresion_diagnosticomedico  nivel_depresion  prevalencia_depresion  \n",
       "0                          1.0         0.000000               0.527027  \n",
       "1                          1.0         0.958458               0.527027  \n",
       "2                          1.0         0.958458               0.045045  \n",
       "3                          1.0         0.000000               0.527027  \n",
       "4                          1.0         0.000000               0.527027  \n",
       "\n",
       "[5 rows x 94 columns]"
      ]
     },
     "execution_count": 150,
     "metadata": {},
     "output_type": "execute_result"
    }
   ],
   "source": [
    "df_depresion_norm.head()"
   ]
  },
  {
   "cell_type": "markdown",
   "id": "bf91e94f",
   "metadata": {},
   "source": [
    "#### 8.5- Estudio de correlaciones y características significativas"
   ]
  },
  {
   "cell_type": "markdown",
   "id": "4b9abc7d",
   "metadata": {},
   "source": [
    "Para el estudio de las correlaciones y selección de variables sognificativas, se hará uso de una herramienta de reducción de la dimensional disponible en GitHub y escrita por Will Koehrsen.\n",
    "\n",
    "[feature-selector](https://github.com/WillKoehrsen/feature-selector.git)\n",
    "\n",
    "Esta herramienta consta de cinco métodos para poder ser usados en la fase de Reducción de Datos.\n",
    "\n",
    "En el caso de este proyecto, solo se hará uso de las siguientes:\n",
    "\n",
    "* __Estudio de Correlaciones:__ este método haciendo uso del coeficiente de Peason, permite analizar colinealidades en parejas de variables; tras varias pruebas se decide como estrategia del análisis seleccionar las correlaciones mayores a 0.90\n",
    "* __Características sin Importancia__: este método haciendo uso de la libreria [LightGBM library](https://lightgbm.readthedocs.io/en/latest/index.html), ejecuta un conjunto de modelo basado en la potenciación del gradiente, para determinar la importancia de todas las variables respecto a al clase que se quiere identificar. En este primer método identificar las que devuelven un valor de 0.\n",
    "* __Características con baja Importancia__: como resultado del método anterior, se escogen que variables tienen una baja infñuencia en la clase a identificar, seleccionando como estrategía el porcentaje de variables que explicarían la clase. En este caso se ha seleccionado el valor de 0.99\n",
    "\n",
    "Por último, esta herramienta es capaz de identificar y borrar las variables que se descartan de los trés métodos anteriores."
   ]
  },
  {
   "cell_type": "code",
   "execution_count": 151,
   "id": "fee2105b",
   "metadata": {},
   "outputs": [],
   "source": [
    "fs_ansiedad = FeatureSelector(data = df_ansiedad_norm, labels= y_ansiedad)\n",
    "fs_depresion = FeatureSelector(data = df_depresion_norm, labels= y_depresion)"
   ]
  },
  {
   "cell_type": "markdown",
   "id": "6d724307",
   "metadata": {},
   "source": [
    "##### 8.5.1- Dataset \"Ansiedad\""
   ]
  },
  {
   "cell_type": "code",
   "execution_count": 152,
   "id": "5ffccef9",
   "metadata": {},
   "outputs": [
    {
     "name": "stdout",
     "output_type": "stream",
     "text": [
      "14 features with a correlation magnitude greater than 0.90.\n",
      "\n"
     ]
    }
   ],
   "source": [
    "fs_ansiedad.identify_collinear(correlation_threshold=0.90)"
   ]
  },
  {
   "cell_type": "code",
   "execution_count": 153,
   "id": "06ba990c",
   "metadata": {},
   "outputs": [
    {
     "data": {
      "text/plain": [
       "['nacionalidad_extranjera',\n",
       " 'ocupacion',\n",
       " 'ausencia_laboral12m',\n",
       " 'cuidado_horas',\n",
       " 'tipo_problemasalud',\n",
       " 'lugar_consulta4sem',\n",
       " 'tipo_consultamedica',\n",
       " 'cantidad_ingresohospital12m',\n",
       " 'numero_nocheshospital12m',\n",
       " 'motivo_ingresohospital',\n",
       " 'cantidad_ingresohospitaldia12m',\n",
       " 'cantidad_urgencias12m',\n",
       " 'tipo_urgencia',\n",
       " 'ansiedad_diagnosticomedico']"
      ]
     },
     "execution_count": 153,
     "metadata": {},
     "output_type": "execute_result"
    }
   ],
   "source": [
    "correlated_features = fs_ansiedad.ops['collinear']\n",
    "correlated_features"
   ]
  },
  {
   "cell_type": "code",
   "execution_count": 154,
   "id": "08e62004",
   "metadata": {},
   "outputs": [
    {
     "data": {
      "image/png": "[encoded data removed]",
      "text/plain": [
       "<Figure size 720x576 with 2 Axes>"
      ]
     },
     "metadata": {
      "needs_background": "light"
     },
     "output_type": "display_data"
    }
   ],
   "source": [
    "fs_ansiedad.plot_collinear()"
   ]
  },
  {
   "cell_type": "code",
   "execution_count": 155,
   "id": "7106bc04",
   "metadata": {},
   "outputs": [
    {
     "data": {
      "text/html": [
       "<div>\n",
       "<style scoped>\n",
       "    .dataframe tbody tr th:only-of-type {\n",
       "        vertical-align: middle;\n",
       "    }\n",
       "\n",
       "    .dataframe tbody tr th {\n",
       "        vertical-align: top;\n",
       "    }\n",
       "\n",
       "    .dataframe thead th {\n",
       "        text-align: right;\n",
       "    }\n",
       "</style>\n",
       "<table border=\"1\" class=\"dataframe\">\n",
       "  <thead>\n",
       "    <tr style=\"text-align: right;\">\n",
       "      <th></th>\n",
       "      <th>drop_feature</th>\n",
       "      <th>corr_feature</th>\n",
       "      <th>corr_value</th>\n",
       "    </tr>\n",
       "  </thead>\n",
       "  <tbody>\n",
       "    <tr>\n",
       "      <th>0</th>\n",
       "      <td>nacionalidad_extranjera</td>\n",
       "      <td>pais_nacimiento</td>\n",
       "      <td>-0.934667</td>\n",
       "    </tr>\n",
       "    <tr>\n",
       "      <th>1</th>\n",
       "      <td>ocupacion</td>\n",
       "      <td>actividad_empresa</td>\n",
       "      <td>0.936745</td>\n",
       "    </tr>\n",
       "    <tr>\n",
       "      <th>2</th>\n",
       "      <td>ausencia_laboral12m</td>\n",
       "      <td>actividad_empresa</td>\n",
       "      <td>-0.947221</td>\n",
       "    </tr>\n",
       "    <tr>\n",
       "      <th>3</th>\n",
       "      <td>ausencia_laboral12m</td>\n",
       "      <td>ocupacion</td>\n",
       "      <td>-0.945532</td>\n",
       "    </tr>\n",
       "    <tr>\n",
       "      <th>4</th>\n",
       "      <td>cuidado_horas</td>\n",
       "      <td>cuidado_personas</td>\n",
       "      <td>0.994245</td>\n",
       "    </tr>\n",
       "    <tr>\n",
       "      <th>5</th>\n",
       "      <td>tipo_problemasalud</td>\n",
       "      <td>limitacion_salud6m</td>\n",
       "      <td>0.977455</td>\n",
       "    </tr>\n",
       "    <tr>\n",
       "      <th>6</th>\n",
       "      <td>lugar_consulta4sem</td>\n",
       "      <td>cantidad_consultageneral4sem</td>\n",
       "      <td>-0.909879</td>\n",
       "    </tr>\n",
       "    <tr>\n",
       "      <th>7</th>\n",
       "      <td>tipo_consultamedica</td>\n",
       "      <td>cantidad_consultageneral4sem</td>\n",
       "      <td>-0.902845</td>\n",
       "    </tr>\n",
       "    <tr>\n",
       "      <th>8</th>\n",
       "      <td>tipo_consultamedica</td>\n",
       "      <td>lugar_consulta4sem</td>\n",
       "      <td>0.990977</td>\n",
       "    </tr>\n",
       "    <tr>\n",
       "      <th>9</th>\n",
       "      <td>cantidad_ingresohospital12m</td>\n",
       "      <td>ingreso_hospital12m</td>\n",
       "      <td>-0.99772</td>\n",
       "    </tr>\n",
       "    <tr>\n",
       "      <th>10</th>\n",
       "      <td>numero_nocheshospital12m</td>\n",
       "      <td>ingreso_hospital12m</td>\n",
       "      <td>-0.994235</td>\n",
       "    </tr>\n",
       "    <tr>\n",
       "      <th>11</th>\n",
       "      <td>numero_nocheshospital12m</td>\n",
       "      <td>cantidad_ingresohospital12m</td>\n",
       "      <td>0.995067</td>\n",
       "    </tr>\n",
       "    <tr>\n",
       "      <th>12</th>\n",
       "      <td>motivo_ingresohospital</td>\n",
       "      <td>ingreso_hospital12m</td>\n",
       "      <td>0.964248</td>\n",
       "    </tr>\n",
       "    <tr>\n",
       "      <th>13</th>\n",
       "      <td>motivo_ingresohospital</td>\n",
       "      <td>cantidad_ingresohospital12m</td>\n",
       "      <td>-0.961908</td>\n",
       "    </tr>\n",
       "    <tr>\n",
       "      <th>14</th>\n",
       "      <td>motivo_ingresohospital</td>\n",
       "      <td>numero_nocheshospital12m</td>\n",
       "      <td>-0.959695</td>\n",
       "    </tr>\n",
       "    <tr>\n",
       "      <th>15</th>\n",
       "      <td>cantidad_ingresohospitaldia12m</td>\n",
       "      <td>ingreso_hospitaldia12m</td>\n",
       "      <td>-0.997246</td>\n",
       "    </tr>\n",
       "    <tr>\n",
       "      <th>16</th>\n",
       "      <td>cantidad_urgencias12m</td>\n",
       "      <td>urgencia_12meses</td>\n",
       "      <td>-0.997284</td>\n",
       "    </tr>\n",
       "    <tr>\n",
       "      <th>17</th>\n",
       "      <td>tipo_urgencia</td>\n",
       "      <td>urgencia_12meses</td>\n",
       "      <td>0.993366</td>\n",
       "    </tr>\n",
       "    <tr>\n",
       "      <th>18</th>\n",
       "      <td>tipo_urgencia</td>\n",
       "      <td>cantidad_urgencias12m</td>\n",
       "      <td>-0.990458</td>\n",
       "    </tr>\n",
       "    <tr>\n",
       "      <th>19</th>\n",
       "      <td>ansiedad_diagnosticomedico</td>\n",
       "      <td>ansiedad_12meses</td>\n",
       "      <td>0.9991</td>\n",
       "    </tr>\n",
       "  </tbody>\n",
       "</table>\n",
       "</div>"
      ],
      "text/plain": [
       "                      drop_feature                  corr_feature corr_value\n",
       "0          nacionalidad_extranjera               pais_nacimiento  -0.934667\n",
       "1                        ocupacion             actividad_empresa   0.936745\n",
       "2              ausencia_laboral12m             actividad_empresa  -0.947221\n",
       "3              ausencia_laboral12m                     ocupacion  -0.945532\n",
       "4                    cuidado_horas              cuidado_personas   0.994245\n",
       "5               tipo_problemasalud            limitacion_salud6m   0.977455\n",
       "6               lugar_consulta4sem  cantidad_consultageneral4sem  -0.909879\n",
       "7              tipo_consultamedica  cantidad_consultageneral4sem  -0.902845\n",
       "8              tipo_consultamedica            lugar_consulta4sem   0.990977\n",
       "9      cantidad_ingresohospital12m           ingreso_hospital12m   -0.99772\n",
       "10        numero_nocheshospital12m           ingreso_hospital12m  -0.994235\n",
       "11        numero_nocheshospital12m   cantidad_ingresohospital12m   0.995067\n",
       "12          motivo_ingresohospital           ingreso_hospital12m   0.964248\n",
       "13          motivo_ingresohospital   cantidad_ingresohospital12m  -0.961908\n",
       "14          motivo_ingresohospital      numero_nocheshospital12m  -0.959695\n",
       "15  cantidad_ingresohospitaldia12m        ingreso_hospitaldia12m  -0.997246\n",
       "16           cantidad_urgencias12m              urgencia_12meses  -0.997284\n",
       "17                   tipo_urgencia              urgencia_12meses   0.993366\n",
       "18                   tipo_urgencia         cantidad_urgencias12m  -0.990458\n",
       "19      ansiedad_diagnosticomedico              ansiedad_12meses     0.9991"
      ]
     },
     "execution_count": 155,
     "metadata": {},
     "output_type": "execute_result"
    }
   ],
   "source": [
    "fs_ansiedad.record_collinear"
   ]
  },
  {
   "cell_type": "code",
   "execution_count": 156,
   "id": "86e834f5",
   "metadata": {},
   "outputs": [
    {
     "name": "stdout",
     "output_type": "stream",
     "text": [
      "Training Gradient Boosting Model\n",
      "\n",
      "\n",
      "65 features with zero importance after one-hot encoding.\n",
      "\n"
     ]
    }
   ],
   "source": [
    "fs_ansiedad.identify_zero_importance(task = 'classification', eval_metric = 'auc', \n",
    "                            n_iterations = 10, early_stopping = True)"
   ]
  },
  {
   "cell_type": "code",
   "execution_count": 157,
   "id": "39d0c72d",
   "metadata": {},
   "outputs": [
    {
     "name": "stdout",
     "output_type": "stream",
     "text": [
      "['tiroides', 'alergias', 'migrana', 'asma', 'dolor_lumbar', 'cataratas', 'orina', 'diabetes', 'ultima_consultamedica', 'tipo_consultamedica', 'tiempo_ultimaconsulta', 'cantidad_consultaespecialista4sem', 'dificultad_acthogar', 'dificultad_actdiaria', 'consumo_medicamentos', 'uso_seguroprivado', 'uso_sanidadpublica', 'tipo_urgencia', 'urgencia_12meses', 'cantidad_ingresohospitaldia12m', 'ingreso_hospitaldia12m', 'motivo_ingresohospital', 'cantidad_ingresohospital12m', 'ingreso_hospital12m', 'consulta_enfermeria12m', 'artrosis', 'lugar_consulta4sem', 'dolor_cervical', 'dolor_limitacion', 'varices', 'enfermedad_corazon', 'frecuencia_consumoverdura', 'frecuencia_consumopescado', 'frecuencia_consumocarne', 'frecuencia_actfisica', 'tipo_actfisica', 'ausencia_laboral12m', 'tipo_contrato', 'imc', 'clase_social', 'tipo_ayuda', 'tipo_jubilacion', 'tipo_convivencia', 'nacionalidad_extranjera', 'nacionalidad_espanola', 'pais_nacimiento', 'frecuencia_consumolegumbre', 'fumador', 'apoyosocial_cuantos', 'estado_saludbucodental', 'tension_alta', 'limitacion_fisica', 'accidentes_12meses', 'sexo', 'dolor_4semanas', 'dificultad_concentracion', 'limitacion_salud6m', 'apoyosocial_ayuda', 'estado_saludcronico', 'estado_salud12m', 'frecuencia_consumoprocesado', 'falta_atencionsanitaria', 'cuidado_horas', 'cuidado_personas', 'tipo_problemasalud']\n"
     ]
    }
   ],
   "source": [
    "zero_importance_features = fs_ansiedad.ops['zero_importance']\n",
    "print(zero_importance_features)"
   ]
  },
  {
   "cell_type": "code",
   "execution_count": 158,
   "id": "bf358cf3",
   "metadata": {},
   "outputs": [
    {
     "data": {
      "image/png": "[encoded data removed]",
      "text/plain": [
       "<Figure size 720x432 with 1 Axes>"
      ]
     },
     "metadata": {
      "needs_background": "light"
     },
     "output_type": "display_data"
    },
    {
     "data": {
      "image/png": "[encoded data removed]",
      "text/plain": [
       "<Figure size 432x288 with 1 Axes>"
      ]
     },
     "metadata": {
      "needs_background": "light"
     },
     "output_type": "display_data"
    },
    {
     "name": "stdout",
     "output_type": "stream",
     "text": [
      "22 features required for 0.99 of cumulative importance\n"
     ]
    }
   ],
   "source": [
    "fs_ansiedad.plot_feature_importances(threshold = 0.99, plot_n = 12)"
   ]
  },
  {
   "cell_type": "code",
   "execution_count": 159,
   "id": "651ca321",
   "metadata": {},
   "outputs": [
    {
     "data": {
      "text/html": [
       "<div>\n",
       "<style scoped>\n",
       "    .dataframe tbody tr th:only-of-type {\n",
       "        vertical-align: middle;\n",
       "    }\n",
       "\n",
       "    .dataframe tbody tr th {\n",
       "        vertical-align: top;\n",
       "    }\n",
       "\n",
       "    .dataframe thead th {\n",
       "        text-align: right;\n",
       "    }\n",
       "</style>\n",
       "<table border=\"1\" class=\"dataframe\">\n",
       "  <thead>\n",
       "    <tr style=\"text-align: right;\">\n",
       "      <th></th>\n",
       "      <th>feature</th>\n",
       "      <th>importance</th>\n",
       "      <th>normalized_importance</th>\n",
       "      <th>cumulative_importance</th>\n",
       "    </tr>\n",
       "  </thead>\n",
       "  <tbody>\n",
       "    <tr>\n",
       "      <th>0</th>\n",
       "      <td>IDENTHOGAR</td>\n",
       "      <td>24.3</td>\n",
       "      <td>0.475538</td>\n",
       "      <td>0.475538</td>\n",
       "    </tr>\n",
       "    <tr>\n",
       "      <th>1</th>\n",
       "      <td>ansiedad_12meses</td>\n",
       "      <td>10.4</td>\n",
       "      <td>0.203523</td>\n",
       "      <td>0.679061</td>\n",
       "    </tr>\n",
       "    <tr>\n",
       "      <th>2</th>\n",
       "      <td>edad</td>\n",
       "      <td>5.5</td>\n",
       "      <td>0.107632</td>\n",
       "      <td>0.786693</td>\n",
       "    </tr>\n",
       "    <tr>\n",
       "      <th>3</th>\n",
       "      <td>peso</td>\n",
       "      <td>2.1</td>\n",
       "      <td>0.041096</td>\n",
       "      <td>0.827789</td>\n",
       "    </tr>\n",
       "    <tr>\n",
       "      <th>4</th>\n",
       "      <td>actividad_empresa</td>\n",
       "      <td>1.1</td>\n",
       "      <td>0.021526</td>\n",
       "      <td>0.849315</td>\n",
       "    </tr>\n",
       "    <tr>\n",
       "      <th>5</th>\n",
       "      <td>altura</td>\n",
       "      <td>1.1</td>\n",
       "      <td>0.021526</td>\n",
       "      <td>0.870841</td>\n",
       "    </tr>\n",
       "    <tr>\n",
       "      <th>6</th>\n",
       "      <td>osteoporosis</td>\n",
       "      <td>0.7</td>\n",
       "      <td>0.013699</td>\n",
       "      <td>0.884540</td>\n",
       "    </tr>\n",
       "    <tr>\n",
       "      <th>7</th>\n",
       "      <td>ansiedad_diagnosticomedico</td>\n",
       "      <td>0.7</td>\n",
       "      <td>0.013699</td>\n",
       "      <td>0.898239</td>\n",
       "    </tr>\n",
       "    <tr>\n",
       "      <th>8</th>\n",
       "      <td>situacion_laboral</td>\n",
       "      <td>0.6</td>\n",
       "      <td>0.011742</td>\n",
       "      <td>0.909980</td>\n",
       "    </tr>\n",
       "  </tbody>\n",
       "</table>\n",
       "</div>"
      ],
      "text/plain": [
       "                      feature  importance  normalized_importance  \\\n",
       "0                  IDENTHOGAR        24.3               0.475538   \n",
       "1            ansiedad_12meses        10.4               0.203523   \n",
       "2                        edad         5.5               0.107632   \n",
       "3                        peso         2.1               0.041096   \n",
       "4           actividad_empresa         1.1               0.021526   \n",
       "5                      altura         1.1               0.021526   \n",
       "6                osteoporosis         0.7               0.013699   \n",
       "7  ansiedad_diagnosticomedico         0.7               0.013699   \n",
       "8           situacion_laboral         0.6               0.011742   \n",
       "\n",
       "   cumulative_importance  \n",
       "0               0.475538  \n",
       "1               0.679061  \n",
       "2               0.786693  \n",
       "3               0.827789  \n",
       "4               0.849315  \n",
       "5               0.870841  \n",
       "6               0.884540  \n",
       "7               0.898239  \n",
       "8               0.909980  "
      ]
     },
     "execution_count": 159,
     "metadata": {},
     "output_type": "execute_result"
    }
   ],
   "source": [
    "fs_ansiedad.feature_importances.head(9)"
   ]
  },
  {
   "cell_type": "code",
   "execution_count": 160,
   "id": "9fd5d805",
   "metadata": {},
   "outputs": [
    {
     "name": "stdout",
     "output_type": "stream",
     "text": [
      "21 features required for cumulative importance of 0.99 after one hot encoding.\n",
      "71 features do not contribute to cumulative importance of 0.99.\n",
      "\n"
     ]
    }
   ],
   "source": [
    "fs_ansiedad.identify_low_importance(cumulative_importance = 0.99)"
   ]
  },
  {
   "cell_type": "code",
   "execution_count": 161,
   "id": "3ce39879",
   "metadata": {},
   "outputs": [
    {
     "name": "stdout",
     "output_type": "stream",
     "text": [
      "['frecuencia_consumofruta', 'colesterol', 'cantidad_urgencias12m', 'frecuencia_consumoalcohol', 'situacion_profesional', 'pais_nacimiento', 'nacionalidad_espanola', 'nacionalidad_extranjera', 'tipo_convivencia', 'tipo_jubilacion', 'tipo_ayuda', 'tipo_contrato', 'imc', 'frecuencia_consumolegumbre', 'ausencia_laboral12m', 'tipo_actfisica', 'frecuencia_actfisica', 'frecuencia_consumocarne', 'clase_social', 'fumador', 'frecuencia_consumoprocesado', 'estado_saludbucodental', 'tension_alta', 'limitacion_fisica', 'accidentes_12meses', 'sexo', 'dolor_4semanas', 'dificultad_concentracion', 'limitacion_salud6m', 'apoyosocial_ayuda', 'estado_saludcronico', 'estado_salud12m', 'frecuencia_consumopescado', 'falta_atencionsanitaria', 'cuidado_horas', 'apoyosocial_cuantos', 'frecuencia_consumoverdura', 'urgencia_12meses', 'varices', 'frecuencia_consumohuevoslacteos', 'tiroides', 'alergias', 'migrana', 'asma', 'dolor_lumbar', 'cataratas', 'orina', 'diabetes', 'ultima_consultamedica', 'tipo_consultamedica', 'tiempo_ultimaconsulta', 'cantidad_consultaespecialista4sem', 'dificultad_acthogar', 'enfermedad_corazon', 'dificultad_actdiaria', 'uso_seguroprivado', 'uso_sanidadpublica', 'tipo_urgencia', 'cuidado_personas', 'cantidad_ingresohospitaldia12m', 'ingreso_hospitaldia12m', 'motivo_ingresohospital', 'cantidad_ingresohospital12m', 'ingreso_hospital12m', 'consulta_enfermeria12m', 'artrosis', 'lugar_consulta4sem', 'dolor_cervical', 'dolor_limitacion', 'consumo_medicamentos', 'tipo_problemasalud']\n"
     ]
    }
   ],
   "source": [
    "low_importance_features = fs_ansiedad.ops['low_importance']\n",
    "print(low_importance_features)"
   ]
  },
  {
   "cell_type": "markdown",
   "id": "6e165890",
   "metadata": {},
   "source": [
    "##### 8.5.2- Dataset \"Depresion\""
   ]
  },
  {
   "cell_type": "code",
   "execution_count": 162,
   "id": "1e54fa32",
   "metadata": {},
   "outputs": [
    {
     "name": "stdout",
     "output_type": "stream",
     "text": [
      "14 features with a correlation magnitude greater than 0.90.\n",
      "\n"
     ]
    }
   ],
   "source": [
    "fs_depresion.identify_collinear(correlation_threshold=0.90)"
   ]
  },
  {
   "cell_type": "code",
   "execution_count": 163,
   "id": "34c17508",
   "metadata": {},
   "outputs": [
    {
     "data": {
      "text/plain": [
       "['nacionalidad_extranjera',\n",
       " 'ocupacion',\n",
       " 'ausencia_laboral12m',\n",
       " 'cuidado_horas',\n",
       " 'tipo_problemasalud',\n",
       " 'lugar_consulta4sem',\n",
       " 'tipo_consultamedica',\n",
       " 'cantidad_ingresohospital12m',\n",
       " 'numero_nocheshospital12m',\n",
       " 'motivo_ingresohospital',\n",
       " 'cantidad_ingresohospitaldia12m',\n",
       " 'cantidad_urgencias12m',\n",
       " 'tipo_urgencia',\n",
       " 'depresion_diagnosticomedico']"
      ]
     },
     "execution_count": 163,
     "metadata": {},
     "output_type": "execute_result"
    }
   ],
   "source": [
    "correlated_features2 = fs_depresion.ops['collinear']\n",
    "correlated_features2"
   ]
  },
  {
   "cell_type": "code",
   "execution_count": 164,
   "id": "241d0c88",
   "metadata": {},
   "outputs": [
    {
     "data": {
      "image/png": "[encoded data removed]",
      "text/plain": [
       "<Figure size 720x576 with 2 Axes>"
      ]
     },
     "metadata": {
      "needs_background": "light"
     },
     "output_type": "display_data"
    }
   ],
   "source": [
    "fs_depresion.plot_collinear()"
   ]
  },
  {
   "cell_type": "code",
   "execution_count": 165,
   "id": "15e5dd5d",
   "metadata": {},
   "outputs": [
    {
     "data": {
      "text/html": [
       "<div>\n",
       "<style scoped>\n",
       "    .dataframe tbody tr th:only-of-type {\n",
       "        vertical-align: middle;\n",
       "    }\n",
       "\n",
       "    .dataframe tbody tr th {\n",
       "        vertical-align: top;\n",
       "    }\n",
       "\n",
       "    .dataframe thead th {\n",
       "        text-align: right;\n",
       "    }\n",
       "</style>\n",
       "<table border=\"1\" class=\"dataframe\">\n",
       "  <thead>\n",
       "    <tr style=\"text-align: right;\">\n",
       "      <th></th>\n",
       "      <th>drop_feature</th>\n",
       "      <th>corr_feature</th>\n",
       "      <th>corr_value</th>\n",
       "    </tr>\n",
       "  </thead>\n",
       "  <tbody>\n",
       "    <tr>\n",
       "      <th>0</th>\n",
       "      <td>nacionalidad_extranjera</td>\n",
       "      <td>pais_nacimiento</td>\n",
       "      <td>-0.934667</td>\n",
       "    </tr>\n",
       "    <tr>\n",
       "      <th>1</th>\n",
       "      <td>ocupacion</td>\n",
       "      <td>actividad_empresa</td>\n",
       "      <td>0.936745</td>\n",
       "    </tr>\n",
       "    <tr>\n",
       "      <th>2</th>\n",
       "      <td>ausencia_laboral12m</td>\n",
       "      <td>actividad_empresa</td>\n",
       "      <td>-0.947221</td>\n",
       "    </tr>\n",
       "    <tr>\n",
       "      <th>3</th>\n",
       "      <td>ausencia_laboral12m</td>\n",
       "      <td>ocupacion</td>\n",
       "      <td>-0.945532</td>\n",
       "    </tr>\n",
       "    <tr>\n",
       "      <th>4</th>\n",
       "      <td>cuidado_horas</td>\n",
       "      <td>cuidado_personas</td>\n",
       "      <td>0.994245</td>\n",
       "    </tr>\n",
       "    <tr>\n",
       "      <th>5</th>\n",
       "      <td>tipo_problemasalud</td>\n",
       "      <td>limitacion_salud6m</td>\n",
       "      <td>0.977455</td>\n",
       "    </tr>\n",
       "    <tr>\n",
       "      <th>6</th>\n",
       "      <td>lugar_consulta4sem</td>\n",
       "      <td>cantidad_consultageneral4sem</td>\n",
       "      <td>-0.909879</td>\n",
       "    </tr>\n",
       "    <tr>\n",
       "      <th>7</th>\n",
       "      <td>tipo_consultamedica</td>\n",
       "      <td>cantidad_consultageneral4sem</td>\n",
       "      <td>-0.902845</td>\n",
       "    </tr>\n",
       "    <tr>\n",
       "      <th>8</th>\n",
       "      <td>tipo_consultamedica</td>\n",
       "      <td>lugar_consulta4sem</td>\n",
       "      <td>0.990977</td>\n",
       "    </tr>\n",
       "    <tr>\n",
       "      <th>9</th>\n",
       "      <td>cantidad_ingresohospital12m</td>\n",
       "      <td>ingreso_hospital12m</td>\n",
       "      <td>-0.99772</td>\n",
       "    </tr>\n",
       "    <tr>\n",
       "      <th>10</th>\n",
       "      <td>numero_nocheshospital12m</td>\n",
       "      <td>ingreso_hospital12m</td>\n",
       "      <td>-0.994235</td>\n",
       "    </tr>\n",
       "    <tr>\n",
       "      <th>11</th>\n",
       "      <td>numero_nocheshospital12m</td>\n",
       "      <td>cantidad_ingresohospital12m</td>\n",
       "      <td>0.995067</td>\n",
       "    </tr>\n",
       "    <tr>\n",
       "      <th>12</th>\n",
       "      <td>motivo_ingresohospital</td>\n",
       "      <td>ingreso_hospital12m</td>\n",
       "      <td>0.964248</td>\n",
       "    </tr>\n",
       "    <tr>\n",
       "      <th>13</th>\n",
       "      <td>motivo_ingresohospital</td>\n",
       "      <td>cantidad_ingresohospital12m</td>\n",
       "      <td>-0.961908</td>\n",
       "    </tr>\n",
       "    <tr>\n",
       "      <th>14</th>\n",
       "      <td>motivo_ingresohospital</td>\n",
       "      <td>numero_nocheshospital12m</td>\n",
       "      <td>-0.959695</td>\n",
       "    </tr>\n",
       "    <tr>\n",
       "      <th>15</th>\n",
       "      <td>cantidad_ingresohospitaldia12m</td>\n",
       "      <td>ingreso_hospitaldia12m</td>\n",
       "      <td>-0.997246</td>\n",
       "    </tr>\n",
       "    <tr>\n",
       "      <th>16</th>\n",
       "      <td>cantidad_urgencias12m</td>\n",
       "      <td>urgencia_12meses</td>\n",
       "      <td>-0.997284</td>\n",
       "    </tr>\n",
       "    <tr>\n",
       "      <th>17</th>\n",
       "      <td>tipo_urgencia</td>\n",
       "      <td>urgencia_12meses</td>\n",
       "      <td>0.993366</td>\n",
       "    </tr>\n",
       "    <tr>\n",
       "      <th>18</th>\n",
       "      <td>tipo_urgencia</td>\n",
       "      <td>cantidad_urgencias12m</td>\n",
       "      <td>-0.990458</td>\n",
       "    </tr>\n",
       "    <tr>\n",
       "      <th>19</th>\n",
       "      <td>depresion_diagnosticomedico</td>\n",
       "      <td>depresion_12meses</td>\n",
       "      <td>0.997923</td>\n",
       "    </tr>\n",
       "  </tbody>\n",
       "</table>\n",
       "</div>"
      ],
      "text/plain": [
       "                      drop_feature                  corr_feature corr_value\n",
       "0          nacionalidad_extranjera               pais_nacimiento  -0.934667\n",
       "1                        ocupacion             actividad_empresa   0.936745\n",
       "2              ausencia_laboral12m             actividad_empresa  -0.947221\n",
       "3              ausencia_laboral12m                     ocupacion  -0.945532\n",
       "4                    cuidado_horas              cuidado_personas   0.994245\n",
       "5               tipo_problemasalud            limitacion_salud6m   0.977455\n",
       "6               lugar_consulta4sem  cantidad_consultageneral4sem  -0.909879\n",
       "7              tipo_consultamedica  cantidad_consultageneral4sem  -0.902845\n",
       "8              tipo_consultamedica            lugar_consulta4sem   0.990977\n",
       "9      cantidad_ingresohospital12m           ingreso_hospital12m   -0.99772\n",
       "10        numero_nocheshospital12m           ingreso_hospital12m  -0.994235\n",
       "11        numero_nocheshospital12m   cantidad_ingresohospital12m   0.995067\n",
       "12          motivo_ingresohospital           ingreso_hospital12m   0.964248\n",
       "13          motivo_ingresohospital   cantidad_ingresohospital12m  -0.961908\n",
       "14          motivo_ingresohospital      numero_nocheshospital12m  -0.959695\n",
       "15  cantidad_ingresohospitaldia12m        ingreso_hospitaldia12m  -0.997246\n",
       "16           cantidad_urgencias12m              urgencia_12meses  -0.997284\n",
       "17                   tipo_urgencia              urgencia_12meses   0.993366\n",
       "18                   tipo_urgencia         cantidad_urgencias12m  -0.990458\n",
       "19     depresion_diagnosticomedico             depresion_12meses   0.997923"
      ]
     },
     "execution_count": 165,
     "metadata": {},
     "output_type": "execute_result"
    }
   ],
   "source": [
    "fs_depresion.record_collinear"
   ]
  },
  {
   "cell_type": "code",
   "execution_count": 166,
   "id": "009d74e0",
   "metadata": {},
   "outputs": [
    {
     "name": "stdout",
     "output_type": "stream",
     "text": [
      "Training Gradient Boosting Model\n",
      "\n",
      "\n",
      "34 features with zero importance after one-hot encoding.\n",
      "\n"
     ]
    }
   ],
   "source": [
    "fs_depresion.identify_zero_importance(task = 'classification', eval_metric = 'auc', \n",
    "                            n_iterations = 10, early_stopping = True)"
   ]
  },
  {
   "cell_type": "code",
   "execution_count": 167,
   "id": "68a9aa5c",
   "metadata": {},
   "outputs": [
    {
     "name": "stdout",
     "output_type": "stream",
     "text": [
      "['frecuencia_consumoprocesado', 'ingreso_hospital12m', 'cantidad_urgencias12m', 'ingreso_hospitaldia12m', 'urgencia_12meses', 'tipo_consultamedica', 'uso_sanidadpublica', 'uso_seguroprivado', 'nacionalidad_extranjera', 'nacionalidad_espanola', 'pais_nacimiento', 'tipo_jubilacion', 'tipo_ayuda', 'consulta_enfermeria12m', 'osteoporosis', 'situacion_profesional', 'varices', 'cuidado_horas', 'cuidado_personas', 'frecuencia_consumoverdura', 'accidentes_12meses', 'limitacion_fisica', 'tension_alta', 'enfermedad_corazon', 'artrosis', 'cantidad_consultageneral4sem', 'dolor_cervical', 'dolor_lumbar', 'alergias', 'asma', 'migrana', 'tiroides', 'ultima_consultamedica', 'estado_saludbucodental']\n"
     ]
    }
   ],
   "source": [
    "zero_importance_features2 = fs_depresion.ops['zero_importance']\n",
    "print(zero_importance_features2)"
   ]
  },
  {
   "cell_type": "code",
   "execution_count": 168,
   "id": "2f338bf8",
   "metadata": {},
   "outputs": [
    {
     "data": {
      "image/png": "[encoded data removed]",
      "text/plain": [
       "<Figure size 720x432 with 1 Axes>"
      ]
     },
     "metadata": {
      "needs_background": "light"
     },
     "output_type": "display_data"
    },
    {
     "data": {
      "image/png": "[encoded data removed]",
      "text/plain": [
       "<Figure size 432x288 with 1 Axes>"
      ]
     },
     "metadata": {
      "needs_background": "light"
     },
     "output_type": "display_data"
    },
    {
     "name": "stdout",
     "output_type": "stream",
     "text": [
      "46 features required for 0.99 of cumulative importance\n"
     ]
    }
   ],
   "source": [
    "fs_depresion.plot_feature_importances(threshold = 0.99, plot_n = 12)"
   ]
  },
  {
   "cell_type": "code",
   "execution_count": 169,
   "id": "89655ac4",
   "metadata": {},
   "outputs": [
    {
     "data": {
      "text/html": [
       "<div>\n",
       "<style scoped>\n",
       "    .dataframe tbody tr th:only-of-type {\n",
       "        vertical-align: middle;\n",
       "    }\n",
       "\n",
       "    .dataframe tbody tr th {\n",
       "        vertical-align: top;\n",
       "    }\n",
       "\n",
       "    .dataframe thead th {\n",
       "        text-align: right;\n",
       "    }\n",
       "</style>\n",
       "<table border=\"1\" class=\"dataframe\">\n",
       "  <thead>\n",
       "    <tr style=\"text-align: right;\">\n",
       "      <th></th>\n",
       "      <th>feature</th>\n",
       "      <th>importance</th>\n",
       "      <th>normalized_importance</th>\n",
       "      <th>cumulative_importance</th>\n",
       "    </tr>\n",
       "  </thead>\n",
       "  <tbody>\n",
       "    <tr>\n",
       "      <th>0</th>\n",
       "      <td>IDENTHOGAR</td>\n",
       "      <td>59.8</td>\n",
       "      <td>0.294726</td>\n",
       "      <td>0.294726</td>\n",
       "    </tr>\n",
       "    <tr>\n",
       "      <th>1</th>\n",
       "      <td>depresion_diagnosticomedico</td>\n",
       "      <td>19.9</td>\n",
       "      <td>0.098078</td>\n",
       "      <td>0.392804</td>\n",
       "    </tr>\n",
       "    <tr>\n",
       "      <th>2</th>\n",
       "      <td>comunidad_autonoma</td>\n",
       "      <td>18.7</td>\n",
       "      <td>0.092164</td>\n",
       "      <td>0.484968</td>\n",
       "    </tr>\n",
       "    <tr>\n",
       "      <th>3</th>\n",
       "      <td>apoyosocial_ayuda</td>\n",
       "      <td>18.6</td>\n",
       "      <td>0.091671</td>\n",
       "      <td>0.576639</td>\n",
       "    </tr>\n",
       "    <tr>\n",
       "      <th>4</th>\n",
       "      <td>edad</td>\n",
       "      <td>16.4</td>\n",
       "      <td>0.080828</td>\n",
       "      <td>0.657467</td>\n",
       "    </tr>\n",
       "    <tr>\n",
       "      <th>5</th>\n",
       "      <td>dificultad_concentracion</td>\n",
       "      <td>10.4</td>\n",
       "      <td>0.051257</td>\n",
       "      <td>0.708724</td>\n",
       "    </tr>\n",
       "    <tr>\n",
       "      <th>6</th>\n",
       "      <td>peso</td>\n",
       "      <td>5.8</td>\n",
       "      <td>0.028586</td>\n",
       "      <td>0.737309</td>\n",
       "    </tr>\n",
       "    <tr>\n",
       "      <th>7</th>\n",
       "      <td>ocupacion</td>\n",
       "      <td>4.0</td>\n",
       "      <td>0.019714</td>\n",
       "      <td>0.757023</td>\n",
       "    </tr>\n",
       "    <tr>\n",
       "      <th>8</th>\n",
       "      <td>altura</td>\n",
       "      <td>3.9</td>\n",
       "      <td>0.019221</td>\n",
       "      <td>0.776244</td>\n",
       "    </tr>\n",
       "    <tr>\n",
       "      <th>9</th>\n",
       "      <td>actividad_empresa</td>\n",
       "      <td>3.8</td>\n",
       "      <td>0.018728</td>\n",
       "      <td>0.794973</td>\n",
       "    </tr>\n",
       "    <tr>\n",
       "      <th>10</th>\n",
       "      <td>frecuencia_consumoalcohol</td>\n",
       "      <td>3.0</td>\n",
       "      <td>0.014786</td>\n",
       "      <td>0.809759</td>\n",
       "    </tr>\n",
       "    <tr>\n",
       "      <th>11</th>\n",
       "      <td>dolor_4semanas</td>\n",
       "      <td>2.9</td>\n",
       "      <td>0.014293</td>\n",
       "      <td>0.824051</td>\n",
       "    </tr>\n",
       "    <tr>\n",
       "      <th>12</th>\n",
       "      <td>situacion_laboral</td>\n",
       "      <td>2.5</td>\n",
       "      <td>0.012321</td>\n",
       "      <td>0.836373</td>\n",
       "    </tr>\n",
       "    <tr>\n",
       "      <th>13</th>\n",
       "      <td>dolor_limitacion</td>\n",
       "      <td>2.2</td>\n",
       "      <td>0.010843</td>\n",
       "      <td>0.847215</td>\n",
       "    </tr>\n",
       "    <tr>\n",
       "      <th>14</th>\n",
       "      <td>estado_salud12m</td>\n",
       "      <td>2.1</td>\n",
       "      <td>0.010350</td>\n",
       "      <td>0.857565</td>\n",
       "    </tr>\n",
       "    <tr>\n",
       "      <th>15</th>\n",
       "      <td>tipo_municipio</td>\n",
       "      <td>2.0</td>\n",
       "      <td>0.009857</td>\n",
       "      <td>0.867422</td>\n",
       "    </tr>\n",
       "    <tr>\n",
       "      <th>16</th>\n",
       "      <td>tipo_hogar</td>\n",
       "      <td>1.8</td>\n",
       "      <td>0.008871</td>\n",
       "      <td>0.876294</td>\n",
       "    </tr>\n",
       "    <tr>\n",
       "      <th>17</th>\n",
       "      <td>nivel_depresion</td>\n",
       "      <td>1.7</td>\n",
       "      <td>0.008379</td>\n",
       "      <td>0.884672</td>\n",
       "    </tr>\n",
       "    <tr>\n",
       "      <th>18</th>\n",
       "      <td>depresion_12meses</td>\n",
       "      <td>1.6</td>\n",
       "      <td>0.007886</td>\n",
       "      <td>0.892558</td>\n",
       "    </tr>\n",
       "    <tr>\n",
       "      <th>19</th>\n",
       "      <td>tipo_contrato</td>\n",
       "      <td>1.5</td>\n",
       "      <td>0.007393</td>\n",
       "      <td>0.899951</td>\n",
       "    </tr>\n",
       "    <tr>\n",
       "      <th>20</th>\n",
       "      <td>frecuencia_consumofruta</td>\n",
       "      <td>1.4</td>\n",
       "      <td>0.006900</td>\n",
       "      <td>0.906851</td>\n",
       "    </tr>\n",
       "    <tr>\n",
       "      <th>21</th>\n",
       "      <td>lugar_consulta4sem</td>\n",
       "      <td>1.4</td>\n",
       "      <td>0.006900</td>\n",
       "      <td>0.913751</td>\n",
       "    </tr>\n",
       "    <tr>\n",
       "      <th>22</th>\n",
       "      <td>limitacion_salud6m</td>\n",
       "      <td>1.4</td>\n",
       "      <td>0.006900</td>\n",
       "      <td>0.920651</td>\n",
       "    </tr>\n",
       "    <tr>\n",
       "      <th>23</th>\n",
       "      <td>salario_neto</td>\n",
       "      <td>1.4</td>\n",
       "      <td>0.006900</td>\n",
       "      <td>0.927551</td>\n",
       "    </tr>\n",
       "    <tr>\n",
       "      <th>24</th>\n",
       "      <td>consumo_medicamentos</td>\n",
       "      <td>1.2</td>\n",
       "      <td>0.005914</td>\n",
       "      <td>0.933465</td>\n",
       "    </tr>\n",
       "    <tr>\n",
       "      <th>25</th>\n",
       "      <td>motivo_ingresohospital</td>\n",
       "      <td>1.0</td>\n",
       "      <td>0.004929</td>\n",
       "      <td>0.938393</td>\n",
       "    </tr>\n",
       "    <tr>\n",
       "      <th>26</th>\n",
       "      <td>falta_atencionsanitaria</td>\n",
       "      <td>0.9</td>\n",
       "      <td>0.004436</td>\n",
       "      <td>0.942829</td>\n",
       "    </tr>\n",
       "    <tr>\n",
       "      <th>27</th>\n",
       "      <td>cantidad_ingresohospital12m</td>\n",
       "      <td>0.9</td>\n",
       "      <td>0.004436</td>\n",
       "      <td>0.947265</td>\n",
       "    </tr>\n",
       "    <tr>\n",
       "      <th>28</th>\n",
       "      <td>dificultad_acthogar</td>\n",
       "      <td>0.9</td>\n",
       "      <td>0.004436</td>\n",
       "      <td>0.951700</td>\n",
       "    </tr>\n",
       "    <tr>\n",
       "      <th>29</th>\n",
       "      <td>nivel_estudios</td>\n",
       "      <td>0.8</td>\n",
       "      <td>0.003943</td>\n",
       "      <td>0.955643</td>\n",
       "    </tr>\n",
       "    <tr>\n",
       "      <th>30</th>\n",
       "      <td>diabetes</td>\n",
       "      <td>0.7</td>\n",
       "      <td>0.003450</td>\n",
       "      <td>0.959093</td>\n",
       "    </tr>\n",
       "    <tr>\n",
       "      <th>31</th>\n",
       "      <td>fumador</td>\n",
       "      <td>0.6</td>\n",
       "      <td>0.002957</td>\n",
       "      <td>0.962050</td>\n",
       "    </tr>\n",
       "    <tr>\n",
       "      <th>32</th>\n",
       "      <td>dificultad_actdiaria</td>\n",
       "      <td>0.6</td>\n",
       "      <td>0.002957</td>\n",
       "      <td>0.965007</td>\n",
       "    </tr>\n",
       "    <tr>\n",
       "      <th>33</th>\n",
       "      <td>clase_social</td>\n",
       "      <td>0.6</td>\n",
       "      <td>0.002957</td>\n",
       "      <td>0.967965</td>\n",
       "    </tr>\n",
       "    <tr>\n",
       "      <th>34</th>\n",
       "      <td>tipo_actfisica</td>\n",
       "      <td>0.5</td>\n",
       "      <td>0.002464</td>\n",
       "      <td>0.970429</td>\n",
       "    </tr>\n",
       "    <tr>\n",
       "      <th>35</th>\n",
       "      <td>frecuencia_consumopescado</td>\n",
       "      <td>0.5</td>\n",
       "      <td>0.002464</td>\n",
       "      <td>0.972893</td>\n",
       "    </tr>\n",
       "    <tr>\n",
       "      <th>36</th>\n",
       "      <td>tipo_problemasalud</td>\n",
       "      <td>0.5</td>\n",
       "      <td>0.002464</td>\n",
       "      <td>0.975357</td>\n",
       "    </tr>\n",
       "    <tr>\n",
       "      <th>37</th>\n",
       "      <td>apoyosocial_interes</td>\n",
       "      <td>0.5</td>\n",
       "      <td>0.002464</td>\n",
       "      <td>0.977822</td>\n",
       "    </tr>\n",
       "    <tr>\n",
       "      <th>38</th>\n",
       "      <td>estado_civil</td>\n",
       "      <td>0.5</td>\n",
       "      <td>0.002464</td>\n",
       "      <td>0.980286</td>\n",
       "    </tr>\n",
       "  </tbody>\n",
       "</table>\n",
       "</div>"
      ],
      "text/plain": [
       "                        feature  importance  normalized_importance  \\\n",
       "0                    IDENTHOGAR        59.8               0.294726   \n",
       "1   depresion_diagnosticomedico        19.9               0.098078   \n",
       "2            comunidad_autonoma        18.7               0.092164   \n",
       "3             apoyosocial_ayuda        18.6               0.091671   \n",
       "4                          edad        16.4               0.080828   \n",
       "5      dificultad_concentracion        10.4               0.051257   \n",
       "6                          peso         5.8               0.028586   \n",
       "7                     ocupacion         4.0               0.019714   \n",
       "8                        altura         3.9               0.019221   \n",
       "9             actividad_empresa         3.8               0.018728   \n",
       "10    frecuencia_consumoalcohol         3.0               0.014786   \n",
       "11               dolor_4semanas         2.9               0.014293   \n",
       "12            situacion_laboral         2.5               0.012321   \n",
       "13             dolor_limitacion         2.2               0.010843   \n",
       "14              estado_salud12m         2.1               0.010350   \n",
       "15               tipo_municipio         2.0               0.009857   \n",
       "16                   tipo_hogar         1.8               0.008871   \n",
       "17              nivel_depresion         1.7               0.008379   \n",
       "18            depresion_12meses         1.6               0.007886   \n",
       "19                tipo_contrato         1.5               0.007393   \n",
       "20      frecuencia_consumofruta         1.4               0.006900   \n",
       "21           lugar_consulta4sem         1.4               0.006900   \n",
       "22           limitacion_salud6m         1.4               0.006900   \n",
       "23                 salario_neto         1.4               0.006900   \n",
       "24         consumo_medicamentos         1.2               0.005914   \n",
       "25       motivo_ingresohospital         1.0               0.004929   \n",
       "26      falta_atencionsanitaria         0.9               0.004436   \n",
       "27  cantidad_ingresohospital12m         0.9               0.004436   \n",
       "28          dificultad_acthogar         0.9               0.004436   \n",
       "29               nivel_estudios         0.8               0.003943   \n",
       "30                     diabetes         0.7               0.003450   \n",
       "31                      fumador         0.6               0.002957   \n",
       "32         dificultad_actdiaria         0.6               0.002957   \n",
       "33                 clase_social         0.6               0.002957   \n",
       "34               tipo_actfisica         0.5               0.002464   \n",
       "35    frecuencia_consumopescado         0.5               0.002464   \n",
       "36           tipo_problemasalud         0.5               0.002464   \n",
       "37          apoyosocial_interes         0.5               0.002464   \n",
       "38                 estado_civil         0.5               0.002464   \n",
       "\n",
       "    cumulative_importance  \n",
       "0                0.294726  \n",
       "1                0.392804  \n",
       "2                0.484968  \n",
       "3                0.576639  \n",
       "4                0.657467  \n",
       "5                0.708724  \n",
       "6                0.737309  \n",
       "7                0.757023  \n",
       "8                0.776244  \n",
       "9                0.794973  \n",
       "10               0.809759  \n",
       "11               0.824051  \n",
       "12               0.836373  \n",
       "13               0.847215  \n",
       "14               0.857565  \n",
       "15               0.867422  \n",
       "16               0.876294  \n",
       "17               0.884672  \n",
       "18               0.892558  \n",
       "19               0.899951  \n",
       "20               0.906851  \n",
       "21               0.913751  \n",
       "22               0.920651  \n",
       "23               0.927551  \n",
       "24               0.933465  \n",
       "25               0.938393  \n",
       "26               0.942829  \n",
       "27               0.947265  \n",
       "28               0.951700  \n",
       "29               0.955643  \n",
       "30               0.959093  \n",
       "31               0.962050  \n",
       "32               0.965007  \n",
       "33               0.967965  \n",
       "34               0.970429  \n",
       "35               0.972893  \n",
       "36               0.975357  \n",
       "37               0.977822  \n",
       "38               0.980286  "
      ]
     },
     "execution_count": 169,
     "metadata": {},
     "output_type": "execute_result"
    }
   ],
   "source": [
    "fs_depresion.feature_importances.head(39)"
   ]
  },
  {
   "cell_type": "code",
   "execution_count": 170,
   "id": "5aa3453e",
   "metadata": {},
   "outputs": [
    {
     "name": "stdout",
     "output_type": "stream",
     "text": [
      "45 features required for cumulative importance of 0.99 after one hot encoding.\n",
      "49 features do not contribute to cumulative importance of 0.99.\n",
      "\n"
     ]
    }
   ],
   "source": [
    "fs_depresion.identify_low_importance(cumulative_importance = 0.99)"
   ]
  },
  {
   "cell_type": "code",
   "execution_count": 171,
   "id": "e4fbeed0",
   "metadata": {},
   "outputs": [
    {
     "name": "stdout",
     "output_type": "stream",
     "text": [
      "['frecuencia_actfisica', 'frecuencia_consumohuevoslacteos', 'frecuencia_consumocarne', 'cantidad_ingresohospitaldia12m', 'estado_saludcronico', 'frecuencia_consumocarbohidratos', 'frecuencia_consumolegumbre', 'apoyosocial_cuantos', 'orina', 'tiempo_ultimaconsulta', 'numero_nocheshospital12m', 'hemorroides', 'tipo_urgencia', 'cantidad_consultaespecialista4sem', 'cuidado_personas', 'frecuencia_consumoverdura', 'accidentes_12meses', 'limitacion_fisica', 'tension_alta', 'enfermedad_corazon', 'artrosis', 'migrana', 'dolor_cervical', 'dolor_lumbar', 'alergias', 'asma', 'cuidado_horas', 'tiroides', 'cantidad_consultageneral4sem', 'varices', 'pais_nacimiento', 'osteoporosis', 'ausencia_laboral12m', 'frecuencia_consumoprocesado', 'ingreso_hospital12m', 'cantidad_urgencias12m', 'ingreso_hospitaldia12m', 'urgencia_12meses', 'tipo_consultamedica', 'uso_sanidadpublica', 'uso_seguroprivado', 'nacionalidad_extranjera', 'nacionalidad_espanola', 'ultima_consultamedica', 'tipo_jubilacion', 'tipo_ayuda', 'consulta_enfermeria12m', 'situacion_profesional', 'estado_saludbucodental']\n"
     ]
    }
   ],
   "source": [
    "low_importance_features2 = fs_depresion.ops['low_importance']\n",
    "print(low_importance_features2)"
   ]
  },
  {
   "cell_type": "markdown",
   "id": "24eb215e",
   "metadata": {},
   "source": [
    "##### 8.5.3- Variables a eliminar en la reducción de datos"
   ]
  },
  {
   "cell_type": "code",
   "execution_count": 172,
   "id": "52c34a6d",
   "metadata": {},
   "outputs": [
    {
     "name": "stdout",
     "output_type": "stream",
     "text": [
      "Total of 74 features identified for removal\n"
     ]
    }
   ],
   "source": [
    "all_to_remove = fs_ansiedad.check_removal()"
   ]
  },
  {
   "cell_type": "code",
   "execution_count": 173,
   "id": "26115c69",
   "metadata": {},
   "outputs": [
    {
     "name": "stdout",
     "output_type": "stream",
     "text": [
      "Total of 55 features identified for removal\n"
     ]
    }
   ],
   "source": [
    "all_to_remove2 = fs_depresion.check_removal()"
   ]
  },
  {
   "cell_type": "code",
   "execution_count": 174,
   "id": "ff8f514e",
   "metadata": {},
   "outputs": [
    {
     "name": "stdout",
     "output_type": "stream",
     "text": [
      "Variables a descartar dataset ansiedad\n",
      "['dolor_cervical', 'consulta_enfermeria12m', 'imc', 'diabetes', 'apoyosocial_cuantos', 'estado_saludbucodental', 'cantidad_ingresohospitaldia12m', 'dolor_4semanas', 'dificultad_actdiaria', 'motivo_ingresohospital', 'tipo_consultamedica', 'tiroides', 'migrana', 'ultima_consultamedica', 'cantidad_consultaespecialista4sem', 'consumo_medicamentos', 'ingreso_hospital12m', 'cataratas', 'tipo_jubilacion', 'estado_salud12m', 'frecuencia_consumoalcohol', 'ausencia_laboral12m', 'ocupacion', 'cantidad_urgencias12m', 'nacionalidad_extranjera', 'tipo_ayuda', 'lugar_consulta4sem', 'frecuencia_consumoverdura', 'uso_seguroprivado', 'artrosis', 'tipo_actfisica', 'tiempo_ultimaconsulta', 'frecuencia_consumopescado', 'frecuencia_consumolegumbre', 'enfermedad_corazon', 'frecuencia_actfisica', 'clase_social', 'falta_atencionsanitaria', 'cantidad_ingresohospital12m', 'uso_sanidadpublica', 'tipo_urgencia', 'dificultad_acthogar', 'sexo', 'urgencia_12meses', 'accidentes_12meses', 'cuidado_horas', 'pais_nacimiento', 'orina', 'varices', 'ingreso_hospitaldia12m', 'limitacion_fisica', 'cuidado_personas', 'tipo_convivencia', 'frecuencia_consumohuevoslacteos', 'tipo_problemasalud', 'alergias', 'tipo_contrato', 'nacionalidad_espanola', 'frecuencia_consumofruta', 'asma', 'situacion_profesional', 'tension_alta', 'apoyosocial_ayuda', 'dolor_limitacion', 'ansiedad_diagnosticomedico', 'limitacion_salud6m', 'dificultad_concentracion', 'estado_saludcronico', 'frecuencia_consumoprocesado', 'numero_nocheshospital12m', 'dolor_lumbar', 'fumador', 'colesterol', 'frecuencia_consumocarne']\n",
      "\n",
      "Variables a descartar dataset depresion\n",
      "['dolor_cervical', 'consulta_enfermeria12m', 'hemorroides', 'estado_saludbucodental', 'apoyosocial_cuantos', 'cantidad_ingresohospitaldia12m', 'motivo_ingresohospital', 'tipo_consultamedica', 'tipo_jubilacion', 'migrana', 'tiroides', 'ultima_consultamedica', 'ingreso_hospital12m', 'cantidad_consultaespecialista4sem', 'depresion_diagnosticomedico', 'ausencia_laboral12m', 'ocupacion', 'cantidad_urgencias12m', 'cantidad_consultageneral4sem', 'nacionalidad_extranjera', 'tipo_ayuda', 'lugar_consulta4sem', 'frecuencia_consumoverdura', 'uso_seguroprivado', 'artrosis', 'tiempo_ultimaconsulta', 'frecuencia_consumolegumbre', 'enfermedad_corazon', 'frecuencia_actfisica', 'cantidad_ingresohospital12m', 'uso_sanidadpublica', 'tipo_urgencia', 'osteoporosis', 'urgencia_12meses', 'accidentes_12meses', 'cuidado_horas', 'pais_nacimiento', 'varices', 'orina', 'ingreso_hospitaldia12m', 'limitacion_fisica', 'frecuencia_consumocarbohidratos', 'cuidado_personas', 'frecuencia_consumohuevoslacteos', 'tipo_problemasalud', 'alergias', 'nacionalidad_espanola', 'situacion_profesional', 'asma', 'tension_alta', 'frecuencia_consumoprocesado', 'estado_saludcronico', 'numero_nocheshospital12m', 'dolor_lumbar', 'frecuencia_consumocarne']\n"
     ]
    }
   ],
   "source": [
    "print('Variables a descartar dataset ansiedad')\n",
    "print(all_to_remove)\n",
    "print('')\n",
    "print('Variables a descartar dataset depresion')\n",
    "print(all_to_remove2)"
   ]
  },
  {
   "cell_type": "code",
   "execution_count": 175,
   "id": "6f29d6bb",
   "metadata": {},
   "outputs": [
    {
     "name": "stdout",
     "output_type": "stream",
     "text": [
      "['collinear', 'zero_importance', 'low_importance'] methods have been run\n",
      "\n",
      "Removed 74 features including one-hot features.\n"
     ]
    }
   ],
   "source": [
    "df_ansiedad_norm_c =  fs_ansiedad.remove(methods = 'all', keep_one_hot=False)"
   ]
  },
  {
   "cell_type": "code",
   "execution_count": 176,
   "id": "33cb84c1",
   "metadata": {},
   "outputs": [
    {
     "name": "stdout",
     "output_type": "stream",
     "text": [
      "['collinear', 'zero_importance', 'low_importance'] methods have been run\n",
      "\n",
      "Removed 55 features including one-hot features.\n"
     ]
    }
   ],
   "source": [
    "df_depresion_norm_c =  fs_depresion.remove(methods = 'all', keep_one_hot=False)"
   ]
  },
  {
   "cell_type": "code",
   "execution_count": 177,
   "id": "07ffbd38",
   "metadata": {},
   "outputs": [
    {
     "name": "stdout",
     "output_type": "stream",
     "text": [
      "Original Number of Features 92\n",
      "Final Number of Features:  18\n"
     ]
    }
   ],
   "source": [
    "print('Original Number of Features', df_ansiedad_norm.shape[1])\n",
    "print('Final Number of Features: ', df_ansiedad_norm_c.shape[1])"
   ]
  },
  {
   "cell_type": "code",
   "execution_count": 178,
   "id": "0b6d4862",
   "metadata": {},
   "outputs": [
    {
     "name": "stdout",
     "output_type": "stream",
     "text": [
      "Original Number of Features 94\n",
      "Final Number of Features:  39\n"
     ]
    }
   ],
   "source": [
    "print('Original Number of Features', df_depresion_norm.shape[1])\n",
    "print('Final Number of Features: ', df_depresion_norm_c.shape[1])"
   ]
  },
  {
   "cell_type": "markdown",
   "id": "d10fa104",
   "metadata": {},
   "source": [
    "### 9.- Conjunto de datos para el análisis exploratorio"
   ]
  },
  {
   "cell_type": "code",
   "execution_count": 179,
   "id": "af816ee7",
   "metadata": {},
   "outputs": [],
   "source": [
    "y_ansiedad = y_ansiedad.reset_index()"
   ]
  },
  {
   "cell_type": "code",
   "execution_count": 180,
   "id": "35e8c894",
   "metadata": {},
   "outputs": [],
   "source": [
    "y_depresion = y_depresion.reset_index()"
   ]
  },
  {
   "cell_type": "code",
   "execution_count": 181,
   "id": "556fb1f0",
   "metadata": {},
   "outputs": [],
   "source": [
    "df_ansiedad_modelo = pd.concat([df_ansiedad_norm_c,y_ansiedad.ansiedad], axis=1)"
   ]
  },
  {
   "cell_type": "code",
   "execution_count": 182,
   "id": "c0490ce7",
   "metadata": {},
   "outputs": [],
   "source": [
    "df_depresion_modelo = pd.concat([df_depresion_norm_c,y_depresion.depresion], axis=1)"
   ]
  },
  {
   "cell_type": "code",
   "execution_count": 183,
   "id": "8cf8bc5b",
   "metadata": {},
   "outputs": [
    {
     "name": "stdout",
     "output_type": "stream",
     "text": [
      "(22072, 19)\n",
      "(22072, 40)\n"
     ]
    }
   ],
   "source": [
    "print(df_ansiedad_modelo.shape)\n",
    "print(df_depresion_modelo.shape)"
   ]
  },
  {
   "cell_type": "code",
   "execution_count": 184,
   "id": "0b094e89",
   "metadata": {},
   "outputs": [
    {
     "name": "stdout",
     "output_type": "stream",
     "text": [
      "<class 'pandas.core.frame.DataFrame'>\n",
      "RangeIndex: 22072 entries, 0 to 22071\n",
      "Data columns (total 19 columns):\n",
      " #   Column                           Non-Null Count  Dtype  \n",
      "---  ------                           --------------  -----  \n",
      " 0   IDENTHOGAR                       22072 non-null  int64  \n",
      " 1   tipo_municipio                   22072 non-null  float64\n",
      " 2   situacion_laboral                22072 non-null  float64\n",
      " 3   tipo_hogar                       22072 non-null  float64\n",
      " 4   salario_neto                     22072 non-null  float64\n",
      " 5   comunidad_autonoma               22072 non-null  float64\n",
      " 6   edad                             22072 non-null  float64\n",
      " 7   estado_civil                     22072 non-null  float64\n",
      " 8   nivel_estudios                   22072 non-null  float64\n",
      " 9   altura                           22072 non-null  float64\n",
      " 10  peso                             22072 non-null  float64\n",
      " 11  actividad_empresa                22072 non-null  float64\n",
      " 12  apoyosocial_interes              22072 non-null  float64\n",
      " 13  frecuencia_consumocarbohidratos  22072 non-null  float64\n",
      " 14  hemorroides                      22072 non-null  float64\n",
      " 15  osteoporosis                     22072 non-null  float64\n",
      " 16  cantidad_consultageneral4sem     22072 non-null  float64\n",
      " 17  ansiedad_12meses                 22072 non-null  float64\n",
      " 18  ansiedad                         22072 non-null  int64  \n",
      "dtypes: float64(17), int64(2)\n",
      "memory usage: 3.2 MB\n"
     ]
    }
   ],
   "source": [
    "df_ansiedad_modelo.info()"
   ]
  },
  {
   "cell_type": "code",
   "execution_count": 185,
   "id": "faa32f3e",
   "metadata": {
    "scrolled": true
   },
   "outputs": [
    {
     "name": "stdout",
     "output_type": "stream",
     "text": [
      "<class 'pandas.core.frame.DataFrame'>\n",
      "RangeIndex: 22072 entries, 0 to 22071\n",
      "Data columns (total 40 columns):\n",
      " #   Column                     Non-Null Count  Dtype  \n",
      "---  ------                     --------------  -----  \n",
      " 0   IDENTHOGAR                 22072 non-null  int64  \n",
      " 1   tipo_municipio             22072 non-null  float64\n",
      " 2   situacion_laboral          22072 non-null  float64\n",
      " 3   tipo_hogar                 22072 non-null  float64\n",
      " 4   tipo_contrato              22072 non-null  float64\n",
      " 5   salario_neto               22072 non-null  float64\n",
      " 6   comunidad_autonoma         22072 non-null  float64\n",
      " 7   sexo                       22072 non-null  float64\n",
      " 8   edad                       22072 non-null  float64\n",
      " 9   tipo_convivencia           22072 non-null  float64\n",
      " 10  estado_civil               22072 non-null  float64\n",
      " 11  nivel_estudios             22072 non-null  float64\n",
      " 12  altura                     22072 non-null  float64\n",
      " 13  peso                       22072 non-null  float64\n",
      " 14  clase_social               22072 non-null  float64\n",
      " 15  imc                        22072 non-null  float64\n",
      " 16  actividad_empresa          22072 non-null  float64\n",
      " 17  tipo_actfisica             22072 non-null  float64\n",
      " 18  frecuencia_consumopescado  22072 non-null  float64\n",
      " 19  fumador                    22072 non-null  float64\n",
      " 20  frecuencia_consumoalcohol  22072 non-null  float64\n",
      " 21  apoyosocial_interes        22072 non-null  float64\n",
      " 22  apoyosocial_ayuda          22072 non-null  float64\n",
      " 23  falta_atencionsanitaria    22072 non-null  float64\n",
      " 24  frecuencia_consumofruta    22072 non-null  float64\n",
      " 25  estado_salud12m            22072 non-null  float64\n",
      " 26  limitacion_salud6m         22072 non-null  float64\n",
      " 27  dificultad_concentracion   22072 non-null  float64\n",
      " 28  dolor_4semanas             22072 non-null  float64\n",
      " 29  dolor_limitacion           22072 non-null  float64\n",
      " 30  diabetes                   22072 non-null  float64\n",
      " 31  colesterol                 22072 non-null  float64\n",
      " 32  cataratas                  22072 non-null  float64\n",
      " 33  consumo_medicamentos       22072 non-null  float64\n",
      " 34  dificultad_actdiaria       22072 non-null  float64\n",
      " 35  dificultad_acthogar        22072 non-null  float64\n",
      " 36  depresion_12meses          22072 non-null  float64\n",
      " 37  nivel_depresion            22072 non-null  float64\n",
      " 38  prevalencia_depresion      22072 non-null  float64\n",
      " 39  depresion                  22072 non-null  int64  \n",
      "dtypes: float64(38), int64(2)\n",
      "memory usage: 6.7 MB\n"
     ]
    }
   ],
   "source": [
    "df_depresion_modelo.info()"
   ]
  },
  {
   "cell_type": "code",
   "execution_count": 186,
   "id": "3c082b2b",
   "metadata": {},
   "outputs": [],
   "source": [
    "df_ansiedad_modelo.to_csv('ansiedad2020_modelo.csv')\n",
    "df_depresion_modelo.to_csv('depresion2020_modelo.csv')"
   ]
  }
 ],
 "metadata": {
  "kernelspec": {
   "display_name": "Python 3 (ipykernel)",
   "language": "python",
   "name": "python3"
  },
  "language_info": {
   "codemirror_mode": {
    "name": "ipython",
    "version": 3
   },
   "file_extension": ".py",
   "mimetype": "text/x-python",
   "name": "python",
   "nbconvert_exporter": "python",
   "pygments_lexer": "ipython3",
   "version": "3.8.13"
  }
 },
 "nbformat": 4,
 "nbformat_minor": 5
}
